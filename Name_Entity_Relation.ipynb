{
  "nbformat": 4,
  "nbformat_minor": 0,
  "metadata": {
    "colab": {
      "provenance": []
    },
    "kernelspec": {
      "name": "python3",
      "display_name": "Python 3"
    },
    "language_info": {
      "name": "python"
    },
    "widgets": {
      "application/vnd.jupyter.widget-state+json": {
        "85fea5d11ff04ca781beff962572db21": {
          "model_module": "@jupyter-widgets/controls",
          "model_name": "HBoxModel",
          "model_module_version": "1.5.0",
          "state": {
            "_dom_classes": [],
            "_model_module": "@jupyter-widgets/controls",
            "_model_module_version": "1.5.0",
            "_model_name": "HBoxModel",
            "_view_count": null,
            "_view_module": "@jupyter-widgets/controls",
            "_view_module_version": "1.5.0",
            "_view_name": "HBoxView",
            "box_style": "",
            "children": [
              "IPY_MODEL_5414c967a3284ab08b527ab316fb785e",
              "IPY_MODEL_f53129bf34454077beefb6345635e4d2",
              "IPY_MODEL_a8d3c9d2939c4430a7d249930e6a71b6"
            ],
            "layout": "IPY_MODEL_f4533af8d39f444694d69c2b58f0a02e"
          }
        },
        "5414c967a3284ab08b527ab316fb785e": {
          "model_module": "@jupyter-widgets/controls",
          "model_name": "HTMLModel",
          "model_module_version": "1.5.0",
          "state": {
            "_dom_classes": [],
            "_model_module": "@jupyter-widgets/controls",
            "_model_module_version": "1.5.0",
            "_model_name": "HTMLModel",
            "_view_count": null,
            "_view_module": "@jupyter-widgets/controls",
            "_view_module_version": "1.5.0",
            "_view_name": "HTMLView",
            "description": "",
            "description_tooltip": null,
            "layout": "IPY_MODEL_f0073625490b41f09e32254a0688ae69",
            "placeholder": "​",
            "style": "IPY_MODEL_e905c05d885b46adab763f3b63f59e57",
            "value": "Map: 100%"
          }
        },
        "f53129bf34454077beefb6345635e4d2": {
          "model_module": "@jupyter-widgets/controls",
          "model_name": "FloatProgressModel",
          "model_module_version": "1.5.0",
          "state": {
            "_dom_classes": [],
            "_model_module": "@jupyter-widgets/controls",
            "_model_module_version": "1.5.0",
            "_model_name": "FloatProgressModel",
            "_view_count": null,
            "_view_module": "@jupyter-widgets/controls",
            "_view_module_version": "1.5.0",
            "_view_name": "ProgressView",
            "bar_style": "",
            "description": "",
            "description_tooltip": null,
            "layout": "IPY_MODEL_19e008c6283d4d01a811d5a012d081f0",
            "max": 200,
            "min": 0,
            "orientation": "horizontal",
            "style": "IPY_MODEL_56f5591f4e894ed2843d1ee052f1a951",
            "value": 200
          }
        },
        "a8d3c9d2939c4430a7d249930e6a71b6": {
          "model_module": "@jupyter-widgets/controls",
          "model_name": "HTMLModel",
          "model_module_version": "1.5.0",
          "state": {
            "_dom_classes": [],
            "_model_module": "@jupyter-widgets/controls",
            "_model_module_version": "1.5.0",
            "_model_name": "HTMLModel",
            "_view_count": null,
            "_view_module": "@jupyter-widgets/controls",
            "_view_module_version": "1.5.0",
            "_view_name": "HTMLView",
            "description": "",
            "description_tooltip": null,
            "layout": "IPY_MODEL_1826f1119bb9477580f19b2886964e86",
            "placeholder": "​",
            "style": "IPY_MODEL_d877ea449f7c40a1a813790d4b84d6a5",
            "value": " 200/200 [00:00&lt;00:00, 1550.24 examples/s]"
          }
        },
        "f4533af8d39f444694d69c2b58f0a02e": {
          "model_module": "@jupyter-widgets/base",
          "model_name": "LayoutModel",
          "model_module_version": "1.2.0",
          "state": {
            "_model_module": "@jupyter-widgets/base",
            "_model_module_version": "1.2.0",
            "_model_name": "LayoutModel",
            "_view_count": null,
            "_view_module": "@jupyter-widgets/base",
            "_view_module_version": "1.2.0",
            "_view_name": "LayoutView",
            "align_content": null,
            "align_items": null,
            "align_self": null,
            "border": null,
            "bottom": null,
            "display": null,
            "flex": null,
            "flex_flow": null,
            "grid_area": null,
            "grid_auto_columns": null,
            "grid_auto_flow": null,
            "grid_auto_rows": null,
            "grid_column": null,
            "grid_gap": null,
            "grid_row": null,
            "grid_template_areas": null,
            "grid_template_columns": null,
            "grid_template_rows": null,
            "height": null,
            "justify_content": null,
            "justify_items": null,
            "left": null,
            "margin": null,
            "max_height": null,
            "max_width": null,
            "min_height": null,
            "min_width": null,
            "object_fit": null,
            "object_position": null,
            "order": null,
            "overflow": null,
            "overflow_x": null,
            "overflow_y": null,
            "padding": null,
            "right": null,
            "top": null,
            "visibility": "hidden",
            "width": null
          }
        },
        "f0073625490b41f09e32254a0688ae69": {
          "model_module": "@jupyter-widgets/base",
          "model_name": "LayoutModel",
          "model_module_version": "1.2.0",
          "state": {
            "_model_module": "@jupyter-widgets/base",
            "_model_module_version": "1.2.0",
            "_model_name": "LayoutModel",
            "_view_count": null,
            "_view_module": "@jupyter-widgets/base",
            "_view_module_version": "1.2.0",
            "_view_name": "LayoutView",
            "align_content": null,
            "align_items": null,
            "align_self": null,
            "border": null,
            "bottom": null,
            "display": null,
            "flex": null,
            "flex_flow": null,
            "grid_area": null,
            "grid_auto_columns": null,
            "grid_auto_flow": null,
            "grid_auto_rows": null,
            "grid_column": null,
            "grid_gap": null,
            "grid_row": null,
            "grid_template_areas": null,
            "grid_template_columns": null,
            "grid_template_rows": null,
            "height": null,
            "justify_content": null,
            "justify_items": null,
            "left": null,
            "margin": null,
            "max_height": null,
            "max_width": null,
            "min_height": null,
            "min_width": null,
            "object_fit": null,
            "object_position": null,
            "order": null,
            "overflow": null,
            "overflow_x": null,
            "overflow_y": null,
            "padding": null,
            "right": null,
            "top": null,
            "visibility": null,
            "width": null
          }
        },
        "e905c05d885b46adab763f3b63f59e57": {
          "model_module": "@jupyter-widgets/controls",
          "model_name": "DescriptionStyleModel",
          "model_module_version": "1.5.0",
          "state": {
            "_model_module": "@jupyter-widgets/controls",
            "_model_module_version": "1.5.0",
            "_model_name": "DescriptionStyleModel",
            "_view_count": null,
            "_view_module": "@jupyter-widgets/base",
            "_view_module_version": "1.2.0",
            "_view_name": "StyleView",
            "description_width": ""
          }
        },
        "19e008c6283d4d01a811d5a012d081f0": {
          "model_module": "@jupyter-widgets/base",
          "model_name": "LayoutModel",
          "model_module_version": "1.2.0",
          "state": {
            "_model_module": "@jupyter-widgets/base",
            "_model_module_version": "1.2.0",
            "_model_name": "LayoutModel",
            "_view_count": null,
            "_view_module": "@jupyter-widgets/base",
            "_view_module_version": "1.2.0",
            "_view_name": "LayoutView",
            "align_content": null,
            "align_items": null,
            "align_self": null,
            "border": null,
            "bottom": null,
            "display": null,
            "flex": null,
            "flex_flow": null,
            "grid_area": null,
            "grid_auto_columns": null,
            "grid_auto_flow": null,
            "grid_auto_rows": null,
            "grid_column": null,
            "grid_gap": null,
            "grid_row": null,
            "grid_template_areas": null,
            "grid_template_columns": null,
            "grid_template_rows": null,
            "height": null,
            "justify_content": null,
            "justify_items": null,
            "left": null,
            "margin": null,
            "max_height": null,
            "max_width": null,
            "min_height": null,
            "min_width": null,
            "object_fit": null,
            "object_position": null,
            "order": null,
            "overflow": null,
            "overflow_x": null,
            "overflow_y": null,
            "padding": null,
            "right": null,
            "top": null,
            "visibility": null,
            "width": null
          }
        },
        "56f5591f4e894ed2843d1ee052f1a951": {
          "model_module": "@jupyter-widgets/controls",
          "model_name": "ProgressStyleModel",
          "model_module_version": "1.5.0",
          "state": {
            "_model_module": "@jupyter-widgets/controls",
            "_model_module_version": "1.5.0",
            "_model_name": "ProgressStyleModel",
            "_view_count": null,
            "_view_module": "@jupyter-widgets/base",
            "_view_module_version": "1.2.0",
            "_view_name": "StyleView",
            "bar_color": null,
            "description_width": ""
          }
        },
        "1826f1119bb9477580f19b2886964e86": {
          "model_module": "@jupyter-widgets/base",
          "model_name": "LayoutModel",
          "model_module_version": "1.2.0",
          "state": {
            "_model_module": "@jupyter-widgets/base",
            "_model_module_version": "1.2.0",
            "_model_name": "LayoutModel",
            "_view_count": null,
            "_view_module": "@jupyter-widgets/base",
            "_view_module_version": "1.2.0",
            "_view_name": "LayoutView",
            "align_content": null,
            "align_items": null,
            "align_self": null,
            "border": null,
            "bottom": null,
            "display": null,
            "flex": null,
            "flex_flow": null,
            "grid_area": null,
            "grid_auto_columns": null,
            "grid_auto_flow": null,
            "grid_auto_rows": null,
            "grid_column": null,
            "grid_gap": null,
            "grid_row": null,
            "grid_template_areas": null,
            "grid_template_columns": null,
            "grid_template_rows": null,
            "height": null,
            "justify_content": null,
            "justify_items": null,
            "left": null,
            "margin": null,
            "max_height": null,
            "max_width": null,
            "min_height": null,
            "min_width": null,
            "object_fit": null,
            "object_position": null,
            "order": null,
            "overflow": null,
            "overflow_x": null,
            "overflow_y": null,
            "padding": null,
            "right": null,
            "top": null,
            "visibility": null,
            "width": null
          }
        },
        "d877ea449f7c40a1a813790d4b84d6a5": {
          "model_module": "@jupyter-widgets/controls",
          "model_name": "DescriptionStyleModel",
          "model_module_version": "1.5.0",
          "state": {
            "_model_module": "@jupyter-widgets/controls",
            "_model_module_version": "1.5.0",
            "_model_name": "DescriptionStyleModel",
            "_view_count": null,
            "_view_module": "@jupyter-widgets/base",
            "_view_module_version": "1.2.0",
            "_view_name": "StyleView",
            "description_width": ""
          }
        },
        "9c234197d6e94f19bfb3423d30e8a430": {
          "model_module": "@jupyter-widgets/controls",
          "model_name": "HBoxModel",
          "model_module_version": "1.5.0",
          "state": {
            "_dom_classes": [],
            "_model_module": "@jupyter-widgets/controls",
            "_model_module_version": "1.5.0",
            "_model_name": "HBoxModel",
            "_view_count": null,
            "_view_module": "@jupyter-widgets/controls",
            "_view_module_version": "1.5.0",
            "_view_name": "HBoxView",
            "box_style": "",
            "children": [
              "IPY_MODEL_1f08e0b2afc640ad8c304714927ab73c",
              "IPY_MODEL_34203a43267940648ac60f347a72bd37",
              "IPY_MODEL_005fdd7eb5f34973858ffc982f2dc56f"
            ],
            "layout": "IPY_MODEL_7fc818ba032343dda733e700c3eb1bd1"
          }
        },
        "1f08e0b2afc640ad8c304714927ab73c": {
          "model_module": "@jupyter-widgets/controls",
          "model_name": "HTMLModel",
          "model_module_version": "1.5.0",
          "state": {
            "_dom_classes": [],
            "_model_module": "@jupyter-widgets/controls",
            "_model_module_version": "1.5.0",
            "_model_name": "HTMLModel",
            "_view_count": null,
            "_view_module": "@jupyter-widgets/controls",
            "_view_module_version": "1.5.0",
            "_view_name": "HTMLView",
            "description": "",
            "description_tooltip": null,
            "layout": "IPY_MODEL_19e19129f7df45d8bf81a82477c6d367",
            "placeholder": "​",
            "style": "IPY_MODEL_87ae818a44a548138d477dc35e82050e",
            "value": "Map:   0%"
          }
        },
        "34203a43267940648ac60f347a72bd37": {
          "model_module": "@jupyter-widgets/controls",
          "model_name": "FloatProgressModel",
          "model_module_version": "1.5.0",
          "state": {
            "_dom_classes": [],
            "_model_module": "@jupyter-widgets/controls",
            "_model_module_version": "1.5.0",
            "_model_name": "FloatProgressModel",
            "_view_count": null,
            "_view_module": "@jupyter-widgets/controls",
            "_view_module_version": "1.5.0",
            "_view_name": "ProgressView",
            "bar_style": "",
            "description": "",
            "description_tooltip": null,
            "layout": "IPY_MODEL_fd50df762d7a48be8cb112fdebfa9e48",
            "max": 25,
            "min": 0,
            "orientation": "horizontal",
            "style": "IPY_MODEL_283da63a479f444ca3a919f70d536a75",
            "value": 25
          }
        },
        "005fdd7eb5f34973858ffc982f2dc56f": {
          "model_module": "@jupyter-widgets/controls",
          "model_name": "HTMLModel",
          "model_module_version": "1.5.0",
          "state": {
            "_dom_classes": [],
            "_model_module": "@jupyter-widgets/controls",
            "_model_module_version": "1.5.0",
            "_model_name": "HTMLModel",
            "_view_count": null,
            "_view_module": "@jupyter-widgets/controls",
            "_view_module_version": "1.5.0",
            "_view_name": "HTMLView",
            "description": "",
            "description_tooltip": null,
            "layout": "IPY_MODEL_1857166bd360447b8bfaa8f6467fb8e3",
            "placeholder": "​",
            "style": "IPY_MODEL_0f6ffc3a6e114f7d815db18cc49e4f2c",
            "value": " 0/25 [00:00&lt;?, ? examples/s]"
          }
        },
        "7fc818ba032343dda733e700c3eb1bd1": {
          "model_module": "@jupyter-widgets/base",
          "model_name": "LayoutModel",
          "model_module_version": "1.2.0",
          "state": {
            "_model_module": "@jupyter-widgets/base",
            "_model_module_version": "1.2.0",
            "_model_name": "LayoutModel",
            "_view_count": null,
            "_view_module": "@jupyter-widgets/base",
            "_view_module_version": "1.2.0",
            "_view_name": "LayoutView",
            "align_content": null,
            "align_items": null,
            "align_self": null,
            "border": null,
            "bottom": null,
            "display": null,
            "flex": null,
            "flex_flow": null,
            "grid_area": null,
            "grid_auto_columns": null,
            "grid_auto_flow": null,
            "grid_auto_rows": null,
            "grid_column": null,
            "grid_gap": null,
            "grid_row": null,
            "grid_template_areas": null,
            "grid_template_columns": null,
            "grid_template_rows": null,
            "height": null,
            "justify_content": null,
            "justify_items": null,
            "left": null,
            "margin": null,
            "max_height": null,
            "max_width": null,
            "min_height": null,
            "min_width": null,
            "object_fit": null,
            "object_position": null,
            "order": null,
            "overflow": null,
            "overflow_x": null,
            "overflow_y": null,
            "padding": null,
            "right": null,
            "top": null,
            "visibility": "hidden",
            "width": null
          }
        },
        "19e19129f7df45d8bf81a82477c6d367": {
          "model_module": "@jupyter-widgets/base",
          "model_name": "LayoutModel",
          "model_module_version": "1.2.0",
          "state": {
            "_model_module": "@jupyter-widgets/base",
            "_model_module_version": "1.2.0",
            "_model_name": "LayoutModel",
            "_view_count": null,
            "_view_module": "@jupyter-widgets/base",
            "_view_module_version": "1.2.0",
            "_view_name": "LayoutView",
            "align_content": null,
            "align_items": null,
            "align_self": null,
            "border": null,
            "bottom": null,
            "display": null,
            "flex": null,
            "flex_flow": null,
            "grid_area": null,
            "grid_auto_columns": null,
            "grid_auto_flow": null,
            "grid_auto_rows": null,
            "grid_column": null,
            "grid_gap": null,
            "grid_row": null,
            "grid_template_areas": null,
            "grid_template_columns": null,
            "grid_template_rows": null,
            "height": null,
            "justify_content": null,
            "justify_items": null,
            "left": null,
            "margin": null,
            "max_height": null,
            "max_width": null,
            "min_height": null,
            "min_width": null,
            "object_fit": null,
            "object_position": null,
            "order": null,
            "overflow": null,
            "overflow_x": null,
            "overflow_y": null,
            "padding": null,
            "right": null,
            "top": null,
            "visibility": null,
            "width": null
          }
        },
        "87ae818a44a548138d477dc35e82050e": {
          "model_module": "@jupyter-widgets/controls",
          "model_name": "DescriptionStyleModel",
          "model_module_version": "1.5.0",
          "state": {
            "_model_module": "@jupyter-widgets/controls",
            "_model_module_version": "1.5.0",
            "_model_name": "DescriptionStyleModel",
            "_view_count": null,
            "_view_module": "@jupyter-widgets/base",
            "_view_module_version": "1.2.0",
            "_view_name": "StyleView",
            "description_width": ""
          }
        },
        "fd50df762d7a48be8cb112fdebfa9e48": {
          "model_module": "@jupyter-widgets/base",
          "model_name": "LayoutModel",
          "model_module_version": "1.2.0",
          "state": {
            "_model_module": "@jupyter-widgets/base",
            "_model_module_version": "1.2.0",
            "_model_name": "LayoutModel",
            "_view_count": null,
            "_view_module": "@jupyter-widgets/base",
            "_view_module_version": "1.2.0",
            "_view_name": "LayoutView",
            "align_content": null,
            "align_items": null,
            "align_self": null,
            "border": null,
            "bottom": null,
            "display": null,
            "flex": null,
            "flex_flow": null,
            "grid_area": null,
            "grid_auto_columns": null,
            "grid_auto_flow": null,
            "grid_auto_rows": null,
            "grid_column": null,
            "grid_gap": null,
            "grid_row": null,
            "grid_template_areas": null,
            "grid_template_columns": null,
            "grid_template_rows": null,
            "height": null,
            "justify_content": null,
            "justify_items": null,
            "left": null,
            "margin": null,
            "max_height": null,
            "max_width": null,
            "min_height": null,
            "min_width": null,
            "object_fit": null,
            "object_position": null,
            "order": null,
            "overflow": null,
            "overflow_x": null,
            "overflow_y": null,
            "padding": null,
            "right": null,
            "top": null,
            "visibility": null,
            "width": null
          }
        },
        "283da63a479f444ca3a919f70d536a75": {
          "model_module": "@jupyter-widgets/controls",
          "model_name": "ProgressStyleModel",
          "model_module_version": "1.5.0",
          "state": {
            "_model_module": "@jupyter-widgets/controls",
            "_model_module_version": "1.5.0",
            "_model_name": "ProgressStyleModel",
            "_view_count": null,
            "_view_module": "@jupyter-widgets/base",
            "_view_module_version": "1.2.0",
            "_view_name": "StyleView",
            "bar_color": null,
            "description_width": ""
          }
        },
        "1857166bd360447b8bfaa8f6467fb8e3": {
          "model_module": "@jupyter-widgets/base",
          "model_name": "LayoutModel",
          "model_module_version": "1.2.0",
          "state": {
            "_model_module": "@jupyter-widgets/base",
            "_model_module_version": "1.2.0",
            "_model_name": "LayoutModel",
            "_view_count": null,
            "_view_module": "@jupyter-widgets/base",
            "_view_module_version": "1.2.0",
            "_view_name": "LayoutView",
            "align_content": null,
            "align_items": null,
            "align_self": null,
            "border": null,
            "bottom": null,
            "display": null,
            "flex": null,
            "flex_flow": null,
            "grid_area": null,
            "grid_auto_columns": null,
            "grid_auto_flow": null,
            "grid_auto_rows": null,
            "grid_column": null,
            "grid_gap": null,
            "grid_row": null,
            "grid_template_areas": null,
            "grid_template_columns": null,
            "grid_template_rows": null,
            "height": null,
            "justify_content": null,
            "justify_items": null,
            "left": null,
            "margin": null,
            "max_height": null,
            "max_width": null,
            "min_height": null,
            "min_width": null,
            "object_fit": null,
            "object_position": null,
            "order": null,
            "overflow": null,
            "overflow_x": null,
            "overflow_y": null,
            "padding": null,
            "right": null,
            "top": null,
            "visibility": null,
            "width": null
          }
        },
        "0f6ffc3a6e114f7d815db18cc49e4f2c": {
          "model_module": "@jupyter-widgets/controls",
          "model_name": "DescriptionStyleModel",
          "model_module_version": "1.5.0",
          "state": {
            "_model_module": "@jupyter-widgets/controls",
            "_model_module_version": "1.5.0",
            "_model_name": "DescriptionStyleModel",
            "_view_count": null,
            "_view_module": "@jupyter-widgets/base",
            "_view_module_version": "1.2.0",
            "_view_name": "StyleView",
            "description_width": ""
          }
        },
        "75794a287fe4453689325bbe574ca5d2": {
          "model_module": "@jupyter-widgets/controls",
          "model_name": "HBoxModel",
          "model_module_version": "1.5.0",
          "state": {
            "_dom_classes": [],
            "_model_module": "@jupyter-widgets/controls",
            "_model_module_version": "1.5.0",
            "_model_name": "HBoxModel",
            "_view_count": null,
            "_view_module": "@jupyter-widgets/controls",
            "_view_module_version": "1.5.0",
            "_view_name": "HBoxView",
            "box_style": "",
            "children": [
              "IPY_MODEL_7388032c7ed9470ba4319cedc870722b",
              "IPY_MODEL_b4dc67e258fe40b99eab919bb440b6c8",
              "IPY_MODEL_719894d0d7f14ecaad89acdd3af5d973"
            ],
            "layout": "IPY_MODEL_36daccff5dc642f3a858331cc4355bce"
          }
        },
        "7388032c7ed9470ba4319cedc870722b": {
          "model_module": "@jupyter-widgets/controls",
          "model_name": "HTMLModel",
          "model_module_version": "1.5.0",
          "state": {
            "_dom_classes": [],
            "_model_module": "@jupyter-widgets/controls",
            "_model_module_version": "1.5.0",
            "_model_name": "HTMLModel",
            "_view_count": null,
            "_view_module": "@jupyter-widgets/controls",
            "_view_module_version": "1.5.0",
            "_view_name": "HTMLView",
            "description": "",
            "description_tooltip": null,
            "layout": "IPY_MODEL_08748a28d5534db58914ebbde35aa6e3",
            "placeholder": "​",
            "style": "IPY_MODEL_7e0202413dc8438f96c462ab3a7fce40",
            "value": "Map:   0%"
          }
        },
        "b4dc67e258fe40b99eab919bb440b6c8": {
          "model_module": "@jupyter-widgets/controls",
          "model_name": "FloatProgressModel",
          "model_module_version": "1.5.0",
          "state": {
            "_dom_classes": [],
            "_model_module": "@jupyter-widgets/controls",
            "_model_module_version": "1.5.0",
            "_model_name": "FloatProgressModel",
            "_view_count": null,
            "_view_module": "@jupyter-widgets/controls",
            "_view_module_version": "1.5.0",
            "_view_name": "ProgressView",
            "bar_style": "",
            "description": "",
            "description_tooltip": null,
            "layout": "IPY_MODEL_b38ce71262844eb3bdfd87126f461594",
            "max": 25,
            "min": 0,
            "orientation": "horizontal",
            "style": "IPY_MODEL_be542914567e4c2fbe7c94eb221f0615",
            "value": 25
          }
        },
        "719894d0d7f14ecaad89acdd3af5d973": {
          "model_module": "@jupyter-widgets/controls",
          "model_name": "HTMLModel",
          "model_module_version": "1.5.0",
          "state": {
            "_dom_classes": [],
            "_model_module": "@jupyter-widgets/controls",
            "_model_module_version": "1.5.0",
            "_model_name": "HTMLModel",
            "_view_count": null,
            "_view_module": "@jupyter-widgets/controls",
            "_view_module_version": "1.5.0",
            "_view_name": "HTMLView",
            "description": "",
            "description_tooltip": null,
            "layout": "IPY_MODEL_4f2b34f12aea4198ae750ccf7d1e11c0",
            "placeholder": "​",
            "style": "IPY_MODEL_433b96c319fe4f15aaebf7cb2aa0492a",
            "value": " 0/25 [00:00&lt;?, ? examples/s]"
          }
        },
        "36daccff5dc642f3a858331cc4355bce": {
          "model_module": "@jupyter-widgets/base",
          "model_name": "LayoutModel",
          "model_module_version": "1.2.0",
          "state": {
            "_model_module": "@jupyter-widgets/base",
            "_model_module_version": "1.2.0",
            "_model_name": "LayoutModel",
            "_view_count": null,
            "_view_module": "@jupyter-widgets/base",
            "_view_module_version": "1.2.0",
            "_view_name": "LayoutView",
            "align_content": null,
            "align_items": null,
            "align_self": null,
            "border": null,
            "bottom": null,
            "display": null,
            "flex": null,
            "flex_flow": null,
            "grid_area": null,
            "grid_auto_columns": null,
            "grid_auto_flow": null,
            "grid_auto_rows": null,
            "grid_column": null,
            "grid_gap": null,
            "grid_row": null,
            "grid_template_areas": null,
            "grid_template_columns": null,
            "grid_template_rows": null,
            "height": null,
            "justify_content": null,
            "justify_items": null,
            "left": null,
            "margin": null,
            "max_height": null,
            "max_width": null,
            "min_height": null,
            "min_width": null,
            "object_fit": null,
            "object_position": null,
            "order": null,
            "overflow": null,
            "overflow_x": null,
            "overflow_y": null,
            "padding": null,
            "right": null,
            "top": null,
            "visibility": "hidden",
            "width": null
          }
        },
        "08748a28d5534db58914ebbde35aa6e3": {
          "model_module": "@jupyter-widgets/base",
          "model_name": "LayoutModel",
          "model_module_version": "1.2.0",
          "state": {
            "_model_module": "@jupyter-widgets/base",
            "_model_module_version": "1.2.0",
            "_model_name": "LayoutModel",
            "_view_count": null,
            "_view_module": "@jupyter-widgets/base",
            "_view_module_version": "1.2.0",
            "_view_name": "LayoutView",
            "align_content": null,
            "align_items": null,
            "align_self": null,
            "border": null,
            "bottom": null,
            "display": null,
            "flex": null,
            "flex_flow": null,
            "grid_area": null,
            "grid_auto_columns": null,
            "grid_auto_flow": null,
            "grid_auto_rows": null,
            "grid_column": null,
            "grid_gap": null,
            "grid_row": null,
            "grid_template_areas": null,
            "grid_template_columns": null,
            "grid_template_rows": null,
            "height": null,
            "justify_content": null,
            "justify_items": null,
            "left": null,
            "margin": null,
            "max_height": null,
            "max_width": null,
            "min_height": null,
            "min_width": null,
            "object_fit": null,
            "object_position": null,
            "order": null,
            "overflow": null,
            "overflow_x": null,
            "overflow_y": null,
            "padding": null,
            "right": null,
            "top": null,
            "visibility": null,
            "width": null
          }
        },
        "7e0202413dc8438f96c462ab3a7fce40": {
          "model_module": "@jupyter-widgets/controls",
          "model_name": "DescriptionStyleModel",
          "model_module_version": "1.5.0",
          "state": {
            "_model_module": "@jupyter-widgets/controls",
            "_model_module_version": "1.5.0",
            "_model_name": "DescriptionStyleModel",
            "_view_count": null,
            "_view_module": "@jupyter-widgets/base",
            "_view_module_version": "1.2.0",
            "_view_name": "StyleView",
            "description_width": ""
          }
        },
        "b38ce71262844eb3bdfd87126f461594": {
          "model_module": "@jupyter-widgets/base",
          "model_name": "LayoutModel",
          "model_module_version": "1.2.0",
          "state": {
            "_model_module": "@jupyter-widgets/base",
            "_model_module_version": "1.2.0",
            "_model_name": "LayoutModel",
            "_view_count": null,
            "_view_module": "@jupyter-widgets/base",
            "_view_module_version": "1.2.0",
            "_view_name": "LayoutView",
            "align_content": null,
            "align_items": null,
            "align_self": null,
            "border": null,
            "bottom": null,
            "display": null,
            "flex": null,
            "flex_flow": null,
            "grid_area": null,
            "grid_auto_columns": null,
            "grid_auto_flow": null,
            "grid_auto_rows": null,
            "grid_column": null,
            "grid_gap": null,
            "grid_row": null,
            "grid_template_areas": null,
            "grid_template_columns": null,
            "grid_template_rows": null,
            "height": null,
            "justify_content": null,
            "justify_items": null,
            "left": null,
            "margin": null,
            "max_height": null,
            "max_width": null,
            "min_height": null,
            "min_width": null,
            "object_fit": null,
            "object_position": null,
            "order": null,
            "overflow": null,
            "overflow_x": null,
            "overflow_y": null,
            "padding": null,
            "right": null,
            "top": null,
            "visibility": null,
            "width": null
          }
        },
        "be542914567e4c2fbe7c94eb221f0615": {
          "model_module": "@jupyter-widgets/controls",
          "model_name": "ProgressStyleModel",
          "model_module_version": "1.5.0",
          "state": {
            "_model_module": "@jupyter-widgets/controls",
            "_model_module_version": "1.5.0",
            "_model_name": "ProgressStyleModel",
            "_view_count": null,
            "_view_module": "@jupyter-widgets/base",
            "_view_module_version": "1.2.0",
            "_view_name": "StyleView",
            "bar_color": null,
            "description_width": ""
          }
        },
        "4f2b34f12aea4198ae750ccf7d1e11c0": {
          "model_module": "@jupyter-widgets/base",
          "model_name": "LayoutModel",
          "model_module_version": "1.2.0",
          "state": {
            "_model_module": "@jupyter-widgets/base",
            "_model_module_version": "1.2.0",
            "_model_name": "LayoutModel",
            "_view_count": null,
            "_view_module": "@jupyter-widgets/base",
            "_view_module_version": "1.2.0",
            "_view_name": "LayoutView",
            "align_content": null,
            "align_items": null,
            "align_self": null,
            "border": null,
            "bottom": null,
            "display": null,
            "flex": null,
            "flex_flow": null,
            "grid_area": null,
            "grid_auto_columns": null,
            "grid_auto_flow": null,
            "grid_auto_rows": null,
            "grid_column": null,
            "grid_gap": null,
            "grid_row": null,
            "grid_template_areas": null,
            "grid_template_columns": null,
            "grid_template_rows": null,
            "height": null,
            "justify_content": null,
            "justify_items": null,
            "left": null,
            "margin": null,
            "max_height": null,
            "max_width": null,
            "min_height": null,
            "min_width": null,
            "object_fit": null,
            "object_position": null,
            "order": null,
            "overflow": null,
            "overflow_x": null,
            "overflow_y": null,
            "padding": null,
            "right": null,
            "top": null,
            "visibility": null,
            "width": null
          }
        },
        "433b96c319fe4f15aaebf7cb2aa0492a": {
          "model_module": "@jupyter-widgets/controls",
          "model_name": "DescriptionStyleModel",
          "model_module_version": "1.5.0",
          "state": {
            "_model_module": "@jupyter-widgets/controls",
            "_model_module_version": "1.5.0",
            "_model_name": "DescriptionStyleModel",
            "_view_count": null,
            "_view_module": "@jupyter-widgets/base",
            "_view_module_version": "1.2.0",
            "_view_name": "StyleView",
            "description_width": ""
          }
        }
      }
    }
  },
  "cells": [
    {
      "cell_type": "code",
      "source": [
        "%pip install transformers -q\n",
        "%pip install datasets transformers evaluate -q\n",
        "%pip install accelerate -U"
      ],
      "metadata": {
        "id": "ALOENcZTS7yv",
        "colab": {
          "base_uri": "https://localhost:8080/"
        },
        "outputId": "d0d1a0c6-cfe9-4a4e-9b82-c2b10823aae0"
      },
      "execution_count": 152,
      "outputs": [
        {
          "output_type": "stream",
          "name": "stdout",
          "text": [
            "Requirement already satisfied: accelerate in /usr/local/lib/python3.10/dist-packages (0.21.0)\n",
            "Requirement already satisfied: numpy>=1.17 in /usr/local/lib/python3.10/dist-packages (from accelerate) (1.22.4)\n",
            "Requirement already satisfied: packaging>=20.0 in /usr/local/lib/python3.10/dist-packages (from accelerate) (23.1)\n",
            "Requirement already satisfied: psutil in /usr/local/lib/python3.10/dist-packages (from accelerate) (5.9.5)\n",
            "Requirement already satisfied: pyyaml in /usr/local/lib/python3.10/dist-packages (from accelerate) (6.0)\n",
            "Requirement already satisfied: torch>=1.10.0 in /usr/local/lib/python3.10/dist-packages (from accelerate) (2.0.1+cu118)\n",
            "Requirement already satisfied: filelock in /usr/local/lib/python3.10/dist-packages (from torch>=1.10.0->accelerate) (3.12.2)\n",
            "Requirement already satisfied: typing-extensions in /usr/local/lib/python3.10/dist-packages (from torch>=1.10.0->accelerate) (4.7.1)\n",
            "Requirement already satisfied: sympy in /usr/local/lib/python3.10/dist-packages (from torch>=1.10.0->accelerate) (1.11.1)\n",
            "Requirement already satisfied: networkx in /usr/local/lib/python3.10/dist-packages (from torch>=1.10.0->accelerate) (3.1)\n",
            "Requirement already satisfied: jinja2 in /usr/local/lib/python3.10/dist-packages (from torch>=1.10.0->accelerate) (3.1.2)\n",
            "Requirement already satisfied: triton==2.0.0 in /usr/local/lib/python3.10/dist-packages (from torch>=1.10.0->accelerate) (2.0.0)\n",
            "Requirement already satisfied: cmake in /usr/local/lib/python3.10/dist-packages (from triton==2.0.0->torch>=1.10.0->accelerate) (3.25.2)\n",
            "Requirement already satisfied: lit in /usr/local/lib/python3.10/dist-packages (from triton==2.0.0->torch>=1.10.0->accelerate) (16.0.6)\n",
            "Requirement already satisfied: MarkupSafe>=2.0 in /usr/local/lib/python3.10/dist-packages (from jinja2->torch>=1.10.0->accelerate) (2.1.3)\n",
            "Requirement already satisfied: mpmath>=0.19 in /usr/local/lib/python3.10/dist-packages (from sympy->torch>=1.10.0->accelerate) (1.3.0)\n"
          ]
        }
      ]
    },
    {
      "cell_type": "code",
      "execution_count": 153,
      "metadata": {
        "id": "4I9QPfUBSLpO"
      },
      "outputs": [],
      "source": [
        "import numpy as np\n",
        "from transformers import BertTokenizerFast\n",
        "from transformers import DataCollatorForTokenClassification\n",
        "from transformers import AutoModelForTokenClassification\n",
        "from datasets import Dataset, DatasetDict\n",
        "from transformers import TrainingArguments, Trainer, pipeline\n",
        "\n",
        "from transformers import TFRobertaForTokenClassification, RobertaTokenizerFast, DataCollatorForTokenClassification, create_optimizer, TFBertForSequenceClassification"
      ]
    },
    {
      "cell_type": "code",
      "source": [
        "import json\n",
        "\n",
        "with open(\"annotations.json\", \"r\") as json_file:\n",
        "  data = json.load(json_file)"
      ],
      "metadata": {
        "id": "qpnhPpxBUT3O"
      },
      "execution_count": 154,
      "outputs": []
    },
    {
      "cell_type": "code",
      "source": [
        "data\n"
      ],
      "metadata": {
        "colab": {
          "base_uri": "https://localhost:8080/"
        },
        "id": "KvYnfKkkWHFh",
        "outputId": "0f67d504-bd75-43a2-9048-20f9b4be61bd"
      },
      "execution_count": 155,
      "outputs": [
        {
          "output_type": "execute_result",
          "data": {
            "text/plain": [
              "{'classes': ['NONE',\n",
              "  'B-ORG',\n",
              "  'I-ORG',\n",
              "  'B-DATE',\n",
              "  'I-DATE',\n",
              "  'B-TIME',\n",
              "  'I-TIME',\n",
              "  'B-PER',\n",
              "  'I-PER',\n",
              "  'B-CURR',\n",
              "  'I-CURR',\n",
              "  'B-LOC',\n",
              "  'I-LOC',\n",
              "  'B-AGRE',\n",
              "  'I-AGRE',\n",
              "  'B-MISC',\n",
              "  'I-MISC'],\n",
              " 'annotations': [['EXECUTION VERSION Inveniam Private Equity Fund Demo IV. . 8500 World Trade New York, New York 10022 January 1, 2019 Maria Sharapova 31 Blandford Street London, W1U 3DN Ladies and Gentlemen: RE: Inveniam Private Equity Fund Demo IV, a Delaware limited partnership (the \"Fund\") This letter agreement (this \"Letter Agreement\") is entered into in connection with the purchase by Sharapova (the \"Investor\") of a limited partnership interest in the Fund. Capitalized terms used and not defined herein shall have the meanings given to them in the Fourth Amended and Restated Limited Partnership Agreement of the Fund dated as of August 27, 2021 (the \"Limited Partnership Agreement\"), the Subscription Agreement between the Investor and the Fund dated as of the date hereof (the \"Subscription Agreement\"), including any amendments and supplements to all of the foregoing (collectively, the \"Fund Documents\"). In consideration for the Investor making an aggregate capital commitment of at least $50,000,000 as of the date hereof (the \"Capital Commitment\"), Inveniam Capital Partners GP, L.L.C., a Delaware limited liability company (the \"General Partner\"), in its capacity as the general partner of the Fund, agrees with the Investor as follows: 1. Reduced Management Fee Rate. If the Investor has submitted a withdrawal request and the amount of such withdrawal request has not been fully paid to the Investor by the January 1, 2019 of the applicable Withdrawal Date, the Management Fee charged to the Investor with respect to the amount that has not been paid will be reduced in accordance with the following schedule until any such unsatisfied withdrawal request will be 0.85% Page 2 -2- 2. Most Favored Nation. The General Partner shall disclose to the Investor any and all Other Agreements (which may be redacted to remove identifying information) with Comparable Investors admitted to the Fund, Inveniam Private Equity Fund Demo IV. (the \"Sister Fund\") and/or AC Partners Overseas Partners, L.P. (the \"SFRO Feeder\") entered into after the date hereof (all such Other Agreements with Comparable Investors, \"Applicable Other Agreements\"), and, to the extent any Applicable Other Agreement entered into with any Comparable Investor has the effect of establishing rights or otherwise benefiting such other Comparable Investor in a manner more favorable to such Comparable Investor than the rights and benefits established in favor of the Investor by this Letter Agreement and the Limited Partnership Agreement, the Investor shall, upon request to the General Partner made within 30 days of being notified of the terms of such Applicable Other Agreements, receive the same rights and benefits of such Applicable Other Agreement (the \"Relevant Terms\") and are so requested, but only if the Investor agrees to be bound by the obligations or restrictions in such Applicable Other Agreement directly relating to the Relevant Terms; provided, however, that Relevant Terms shall exclude any \"most favored nation\" rights granted in any Applicable Other Agreement. For the avoidance of doubt, Relevant Terms do not include rights or benefits that (1) are granted to any Third Party Investor in connection with such Third Party Investor\\'s legal, regulatory or tax status that is not DOC ID - 36972123.18 -3- Page 3 shared by, nor applicable to, the Investor or is otherwise based upon laws, rules or regulations applicable to such Third Party Investor to which the Investor is not also subject, (2) are granted based on a requirement under a formal written policy of such Third Party Investor unrelated to its investment in the Fund, the Sister Fund or the SFRO Feeder, to which the Investor is also not subject, (3) relate to any representation by such Third Party Investor on, or any observer rights with respect to, the Advisory Board (including, without limitation, designation of a representative to serve as a member of the Advisory Board or attend meetings of the Advisory Board or receive or have access to any materials provided to the Advisory Board), unless the Limited Partner to which such Applicable Other Agreement is disclosed has also designated a member of the Advisory Board or (4) are based upon such Third Party Investor\\'s place of organization or headquarters or organizational form (in each case, if different from that of the Investor). As used herein, the following terms shall have the following meanings: \"Comparable Investor\" shall mean any Third Party Investor having a Capital Commitment to the Fund, the Sister Fund or the SFRO Feeder equal to or less than the Investor\\'s aggregate Capital Commitment to the Fund, the Sister Fund or the SFRO Feeder; provided that for purposes of determining whether any Third Party Investor is a Comparable Investor, the investment of such Third Party Investor in the Fund, the Sister Fund or the SFRO Feeder may, in the discretion of the General Partner, be aggregated with the aggregate amount of Capital Commitments to the Fund, the Sister Fund or the SFRO Feeder by any Affiliates thereof and any other related Persons thereof (including any such Persons treated as affiliated or related for such purposes as a result of being clients of, or otherwise managed or advised by, the same Person or by an Affiliate thereof) and the aggregate amount of any requested subscription amounts of the Third Party Investor or any of the foregoing which were not accepted due to legal or regulatory limitations (including, without limitation, in order to ensure that the aggregate direct and indirect Capital Commitments by all Benefit Plan Investors to the Fund, the Sister Fund or the SFRO Feeder are less than twenty-five percent (25%) of the total Capital Commitments to such vehicle), in each case, to the extent deemed to have been made by such Third Party Investor for purposes of its Other Agreement as so designated therein; A Third Party Investor that has materially less U.S. ownership than another Third Party Investor will not be considered a Comparable Investor with respect to such other Third Party Investor solely for economic purposes. For example, a Third Party Investor making a Capital Commitment comprised of 25% more U.S. ownership than another Third Party Investor making a Capital Commitment of the same size would not be considered Comparable Investors for economic purposes. \"Other Agreements\" shall mean side letters or similar agreements with Limited Partners of the Fund, the limited partners of the Sister Fund or the limited partners of the SFRO Feeder. \"Third Party Investor\" means any Person that subscribes to or invests in the Fund, the Sister Fund or the SFRO Feeder other than: (i) any current or former (x) member, partner, director, officer, employee, principal, or consultant (provided such consultant is generally subject to AC Partners\\' compliance policies) of the General Partner, the Management Company or any of their Affiliates, or (y) any Related Investor, or other account, trust, partnership or entity primarily for the benefit of any of the foregoing or any of their families; (ii) any Person (or any Persons DOC ID - 36972123.18 -4- Page 4 affiliated with or related to such Person) including, without limitation, one individual who may assist in raising capital through such individual\\'s employer\\'s private client platform (subject to applicable law and such individual\\'s employer\\'s policies and procedures around making such investments) that is a current or former joint venture partner or strategic partner of, or co-manager or co-adviser with, the General Partner, the Management Company or any of their Affiliates, (iii) any Person (or any Persons affiliated with or related to such Person) currently or previously serving or having representatives on any investment committee (or similar body or structure exercising investment discretion) of the Fund, the Sister Fund or of any investment fund, vehicle or account co-managed or co-advised by the General Partner, the Management Company or any of their Affiliates, or (iv) any subsequent successor, heir or assign of the foregoing. 3. Capital Commitments by Benefit Plan Investors. The parties hereto acknowledge that the Investor has submitted a Subscription Agreement on or prior to the date hereof requesting an aggregate Capital Commitment of $50 million (the \"Requested Commitment\"), and the Investor shall be deemed to have such Capital Commitment for purposes of this Letter Agreement. Notwithstanding the foregoing, the parties hereto agree that, in the sole discretion of the General Partner, the Fund shall accept less than the full amount of the Investor\\'s Requested Commitment on the date hereof in order to ensure that the aggregate direct and indirect capital commitments by all Benefit Plan Investors to the Fund are less than 25% of the total capital commitments to the Fund (excluding any capital commitments by the General Partner or its Affiliates to the Fund or the SFRO Feeder). In such event, at each subsequent Closing following the date hereof, the General Partner shall accept additional portions of the remaining Requested Commitment of the Investor (each, an \"Adjustment\") if and to the extent that the General Partner, in its sole discretion, determines that doing so would not cause the aggregate direct and indirect capital commitments by all Benefit Plan Investors to the Fund to exceed 25% of the total capital commitments to the Fund (excluding any capital commitments by the General Partner or its Affiliates to the Fund or the SFRO Feeder). Such Adjustments shall be accepted by the General Partner on not less than a pro rata basis with any similar adjustments for any other Benefit Plan Investors whose requested Capital Commitment was not accepted in full on or prior to the date hereof. Notwithstanding the foregoing, at one or more subsequent Closings, the General Partner may admit any other Benefit Plan Investor as a Limited Partner and enter into an Other Agreement with such Benefit Plan Investor that provides for the acceptance of such Benefit Plan Investor\\'s Capital Commitment on a similarly conditional basis, provided that the Fund\\'s acceptance of such Benefit Plan Investor\\'s Capital Commitment in full is only to the extent that such Capital Commitment is later in priority to the acceptance of the Investor\\'s Requested Commitment. Other than as set forth in this Section 3, the General Partner shall not accept Capital Commitments from any Benefit Plan Investors until such time as the entire amount of the Requested Commitment has been accepted. For the avoidance of doubt, (i) the Requested Commitment shall be irrevocable by the Investor and (ii) the Investor shall be obligated to fund each portion of the Requested Commitment that is accepted by the Fund at each subsequent Closing. Further, for purposes of determining the Lock-Up and the Commitment Lock-Up Expiration Date applicable to the Investor\\'s Capital Commitment, the Investor shall be deemed to have made its entire Capital Commitment as of the date hereof. DOC ID - 36972123.18 -5- Page 5 4. Other Agreements. For so long as the Investor holds an Interest in the Fund, to the extent that any Other Agreement is entered into with a Third Party Investor with respect to its interest in the Fund, and a copy of such Other Agreement is not required to be provided to the Investor pursuant to Section 2 above, then in such event, the General Partner shall provide to the Investor a copy of such Other Agreement (which such copy may be redacted for any identifying information with respect to the Third Party Investor or any other information not relevant hereto) unless the General Partner is otherwise restricted by confidentiality or non- disclosure obligations with respect to the provision of such Other Agreement. 5. Advisory Board. In consideration of the Investor\\'s admission as a Limited Partner and for so long as the Investor is a Limited Partner in the Fund and maintains a Capital Commitment of at least $50 million (or such lesser aggregate amount of the Investor\\'s Capital Commitment that has been accepted by the General Partner in accordance with Section 3 above as of the relevant date), and is not a Defaulting Limited Partner, the General Partner agrees that the Investor shall be entitled to designate one member to serve on a committee of the Fund established pursuant to Section 5.6 of the Limited Partnership Agreement (the \"Advisory Board\"). The appointment of an Advisory Board member pursuant to this Section 5 shall be effective upon written notice from the Investor to the Fund of the name and contact information of the individual so appointed. If the individual appointed pursuant this Section 5 to act as the Advisory Board member is no longer affiliated with the Investor, or no longer able or willing to act as the Advisory Board member, the Investor shall provide prompt written notice thereof to the Fund and such Advisory Board member shall automatically be removed. The Investor shall be entitled to remove or replace any Advisory Board member at any time pursuant to prior written notice provided by the Investor to the General Partner. The Investor acknowledges that the Advisory Board member shall be bound by the confidentiality provisions described in Section 14.2 of the Limited Partnership Agreement. The Advisory Board may act on behalf of the Fund and the Sister Fund if requested by the General Partner, provided that in the event the Advisory Board acts on behalf of the Sister Fund, the Advisory Board representative appointed by the Investor shall be indemnified pursuant to a separate indemnification agreement between such Advisory Board representative and the Sister Fund. 6. Transfers. In connection with any proposed transfer by the Investor of all or a portion of its Interest in the Fund to a Lockheed Party (as defined below), at the request of the Investor, the General Partner shall not unreasonably withhold its written consent to such transfer and the transferee\\'s substitution as a Limited Partner, as required by the Subscription Agreement; provided (a) such transfer will not result in a violation of any applicable laws, rules or regulations or have any material adverse impact (whether legal, financial, tax, regulatory, or otherwise) on the Fund, the Management Company or the General Partner, as determined by the General Partner, (b) such transferee is not a competitor of (directly or indirectly) or otherwise affiliated with any competitor of the Fund, the General Partner, the Management Company or their respective Affiliates, as determined in good faith by the General Partner, (c) such transferee is determined to be sufficiently creditworthy to assume the Limited Partner\\'s obligations with respect to the Interest being transferred and clears any anti-money laundering (AML), know your customer (KYC) and similar reviews conducted by or on behalf of the Fund or its administrator and consistent with their policies and procedures, and (d) such transfer is documented in writing in a form reasonably DOC ID - 36972123.18 -6- Page 6 acceptable to the General Partner and such transferee makes such representations, warranties, covenants and undertakings as may be reasonably required by the General Partner in connection with such transfer, including representations, warranties, covenants and undertakings comparable to those included in the Investor\\'s Subscription Agreement. The rights and obligations arising under this Letter Agreement may be assigned by the Investor to any such transferee, and will apply equally to such transferee, in connection with such transfer; provided, however, that the rights arising',\n",
              "   {'entities': [[18, 26, 'B-ORG'],\n",
              "     [27, 34, 'I-ORG'],\n",
              "     [35, 41, 'B-MISC'],\n",
              "     [42, 46, 'I-MISC'],\n",
              "     [47, 51, 'I-MISC'],\n",
              "     [52, 55, 'I-MISC'],\n",
              "     [58, 62, 'B-LOC'],\n",
              "     [63, 68, 'I-LOC'],\n",
              "     [69, 74, 'I-LOC'],\n",
              "     [75, 78, 'I-LOC'],\n",
              "     [79, 83, 'I-LOC'],\n",
              "     [85, 88, 'B-LOC'],\n",
              "     [89, 93, 'I-LOC'],\n",
              "     [94, 99, 'I-LOC'],\n",
              "     [100, 107, 'B-DATE'],\n",
              "     [108, 109, 'I-DATE'],\n",
              "     [111, 115, 'I-DATE'],\n",
              "     [116, 121, 'B-PER'],\n",
              "     [122, 131, 'I-PER'],\n",
              "     [132, 134, 'B-LOC'],\n",
              "     [135, 144, 'I-LOC'],\n",
              "     [145, 151, 'I-LOC'],\n",
              "     [152, 158, 'I-LOC'],\n",
              "     [194, 202, 'B-ORG'],\n",
              "     [203, 210, 'I-ORG'],\n",
              "     [211, 217, 'B-MISC'],\n",
              "     [218, 222, 'I-MISC'],\n",
              "     [223, 227, 'I-MISC'],\n",
              "     [228, 230, 'I-MISC'],\n",
              "     [234, 242, 'B-AGRE'],\n",
              "     [243, 250, 'I-AGRE'],\n",
              "     [251, 262, 'I-AGRE'],\n",
              "     [281, 287, 'B-AGRE'],\n",
              "     [288, 297, 'I-AGRE'],\n",
              "     [304, 311, 'B-AGRE'],\n",
              "     [312, 322, 'I-AGRE'],\n",
              "     [375, 384, 'B-PER'],\n",
              "     [390, 400, 'B-MISC'],\n",
              "     [407, 414, 'B-AGRE'],\n",
              "     [415, 426, 'I-AGRE'],\n",
              "     [547, 554, 'B-AGRE'],\n",
              "     [559, 567, 'I-AGRE'],\n",
              "     [568, 575, 'I-AGRE'],\n",
              "     [576, 587, 'I-AGRE'],\n",
              "     [588, 597, 'I-AGRE'],\n",
              "     [622, 628, 'B-DATE'],\n",
              "     [629, 631, 'I-DATE'],\n",
              "     [633, 637, 'I-DATE'],\n",
              "     [643, 651, 'B-AGRE'],\n",
              "     [652, 663, 'I-AGRE'],\n",
              "     [664, 674, 'I-AGRE'],\n",
              "     [681, 693, 'B-AGRE'],\n",
              "     [694, 703, 'I-AGRE'],\n",
              "     [716, 724, 'B-MISC'],\n",
              "     [771, 784, 'B-AGRE'],\n",
              "     [785, 795, 'I-AGRE'],\n",
              "     [986, 987, 'B-CURR'],\n",
              "     [987, 997, 'I-CURR'],\n",
              "     [1025, 1033, 'B-AGRE'],\n",
              "     [1034, 1045, 'I-AGRE'],\n",
              "     [1048, 1056, 'B-ORG'],\n",
              "     [1057, 1064, 'I-ORG'],\n",
              "     [1065, 1073, 'I-ORG'],\n",
              "     [1074, 1076, 'I-ORG'],\n",
              "     [1078, 1084, 'I-ORG'],\n",
              "     [1088, 1096, 'B-ORG'],\n",
              "     [1097, 1104, 'I-ORG'],\n",
              "     [1105, 1114, 'I-ORG'],\n",
              "     [1115, 1122, 'I-ORG'],\n",
              "     [1128, 1136, 'B-MISC'],\n",
              "     [1137, 1145, 'I-MISC'],\n",
              "     [1216, 1224, 'B-MISC'],\n",
              "     [1276, 1284, 'B-MISC'],\n",
              "     [1409, 1416, 'B-DATE'],\n",
              "     [1417, 1418, 'I-DATE'],\n",
              "     [1420, 1424, 'I-DATE'],\n",
              "     [1665, 1669, 'B-MISC'],\n",
              "     [1669, 1670, 'I-MISC'],\n",
              "     [1710, 1717, 'B-MISC'],\n",
              "     [1718, 1725, 'I-MISC'],\n",
              "     [1748, 1756, 'B-MISC'],\n",
              "     [1769, 1774, 'B-AGRE'],\n",
              "     [1775, 1785, 'I-AGRE'],\n",
              "     [1849, 1859, 'B-MISC'],\n",
              "     [1860, 1869, 'I-MISC'],\n",
              "     [1892, 1900, 'B-ORG'],\n",
              "     [1901, 1908, 'I-ORG'],\n",
              "     [1909, 1915, 'B-MISC'],\n",
              "     [1916, 1920, 'I-MISC'],\n",
              "     [1921, 1925, 'I-MISC'],\n",
              "     [1926, 1929, 'I-MISC'],\n",
              "     [1935, 1942, 'B-ORG'],\n",
              "     [1943, 1948, 'I-ORG'],\n",
              "     [1969, 1977, 'B-MISC'],\n",
              "     [1978, 1986, 'I-MISC'],\n",
              "     [1988, 1992, 'B-MISC'],\n",
              "     [1998, 2003, 'B-ORG'],\n",
              "     [2004, 2011, 'I-ORG'],\n",
              "     [2080, 2090, 'B-MISC'],\n",
              "     [2091, 2100, 'I-MISC'],\n",
              "     [2114, 2119, 'B-AGRE'],\n",
              "     [2120, 2131, 'I-AGRE'],\n",
              "     [2206, 2216, 'B-MISC'],\n",
              "     [2217, 2225, 'I-MISC'],\n",
              "     [2299, 2309, 'B-MISC'],\n",
              "     [2310, 2318, 'I-MISC'],\n",
              "     [2354, 2364, 'B-MISC'],\n",
              "     [2365, 2373, 'I-MISC'],\n",
              "     [2448, 2454, 'B-AGRE'],\n",
              "     [2455, 2464, 'I-AGRE'],\n",
              "     [2473, 2480, 'B-AGRE'],\n",
              "     [2481, 2492, 'I-AGRE'],\n",
              "     [2493, 2502, 'I-AGRE'],\n",
              "     [2508, 2516, 'B-MISC'],\n",
              "     [2572, 2574, 'B-TIME'],\n",
              "     [2575, 2579, 'I-TIME'],\n",
              "     [2630, 2635, 'B-AGRE'],\n",
              "     [2636, 2646, 'I-AGRE'],\n",
              "     [2704, 2709, 'B-AGRE'],\n",
              "     [2710, 2719, 'I-AGRE'],\n",
              "     [2781, 2789, 'B-MISC'],\n",
              "     [2863, 2868, 'B-AGRE'],\n",
              "     [2869, 2878, 'I-AGRE'],\n",
              "     [3032, 3037, 'B-AGRE'],\n",
              "     [3038, 3048, 'I-AGRE'],\n",
              "     [3199, 3204, 'B-MISC'],\n",
              "     [3205, 3210, 'I-MISC'],\n",
              "     [3211, 3219, 'I-MISC'],\n",
              "     [3266, 3269, 'B-MISC'],\n",
              "     [3270, 3272, 'I-MISC'],\n",
              "     [3275, 3286, 'I-MISC'],\n",
              "     [3414, 3419, 'B-MISC'],\n",
              "     [3420, 3425, 'I-MISC'],\n",
              "     [3426, 3434, 'I-MISC'],\n",
              "     [3448, 3456, 'B-MISC'],\n",
              "     [3555, 3560, 'B-MISC'],\n",
              "     [3561, 3566, 'I-MISC'],\n",
              "     [3567, 3575, 'I-MISC'],\n",
              "     [3621, 3627, 'B-ORG'],\n",
              "     [3628, 3632, 'I-ORG'],\n",
              "     [3640, 3644, 'B-ORG'],\n",
              "     [3645, 3651, 'I-ORG'],\n",
              "     [3737, 3742, 'B-MISC'],\n",
              "     [3743, 3748, 'I-MISC'],\n",
              "     [3749, 3757, 'I-MISC'],\n",
              "     [3806, 3814, 'B-ORG'],\n",
              "     [3815, 3820, 'I-ORG'],\n",
              "     [3913, 3921, 'B-ORG'],\n",
              "     [3922, 3927, 'I-ORG'],\n",
              "     [3954, 3962, 'B-ORG'],\n",
              "     [3963, 3968, 'B-ORG'],\n",
              "     [4028, 4036, 'B-ORG'],\n",
              "     [4037, 4042, 'I-ORG'],\n",
              "     [4056, 4063, 'B-MISC'],\n",
              "     [4064, 4071, 'I-MISC'],\n",
              "     [4097, 4102, 'B-AGRE'],\n",
              "     [4103, 4112, 'I-AGRE'],\n",
              "     [4162, 4170, 'B-ORG'],\n",
              "     [4171, 4176, 'I-ORG'],\n",
              "     [4204, 4209, 'B-MISC'],\n",
              "     [4210, 4215, 'I-MISC'],\n",
              "     [4216, 4226, 'I-MISC'],\n",
              "     [4415, 4426, 'B-MISC'],\n",
              "     [4427, 4436, 'I-MISC'],\n",
              "     [4518, 4524, 'B-ORG'],\n",
              "     [4525, 4529, 'I-ORG'],\n",
              "     [4537, 4541, 'B-ORG'],\n",
              "     [4542, 4548, 'I-ORG'],\n",
              "     [4575, 4585, 'B-MISC'],\n",
              "     [4632, 4638, 'B-ORG'],\n",
              "     [4639, 4643, 'I-ORG'],\n",
              "     [4651, 4655, 'B-ORG'],\n",
              "     [4656, 4662, 'I-ORG'],\n",
              "     [4718, 4723, 'B-MISC'],\n",
              "     [4724, 4729, 'I-MISC'],\n",
              "     [4730, 4738, 'I-MISC'],\n",
              "     [4744, 4754, 'B-MISC'],\n",
              "     [4755, 4763, 'I-MISC'],\n",
              "     [4788, 4793, 'B-MISC'],\n",
              "     [4794, 4799, 'I-MISC'],\n",
              "     [4800, 4808, 'I-MISC'],\n",
              "     [4826, 4832, 'B-ORG'],\n",
              "     [4833, 4837, 'I-ORG'],\n",
              "     [4845, 4849, 'B-ORG'],\n",
              "     [4850, 4856, 'I-ORG'],\n",
              "     [4887, 4894, 'B-MISC'],\n",
              "     [4895, 4902, 'I-MISC'],\n",
              "     [4984, 4990, 'B-ORG'],\n",
              "     [4991, 4995, 'I-ORG'],\n",
              "     [5003, 5007, 'B-ORG'],\n",
              "     [5008, 5014, 'I-ORG'],\n",
              "     [5341, 5346, 'B-MISC'],\n",
              "     [5347, 5352, 'I-MISC'],\n",
              "     [5353, 5361, 'I-MISC'],\n",
              "     [5579, 5588, 'B-MISC'],\n",
              "     [5606, 5612, 'B-ORG'],\n",
              "     [5613, 5617, 'I-ORG'],\n",
              "     [5625, 5629, 'B-ORG'],\n",
              "     [5630, 5636, 'I-ORG'],\n",
              "     [5651, 5662, 'B-MISC'],\n",
              "     [5663, 5670, 'I-MISC'],\n",
              "     [5672, 5674, 'B-MISC'],\n",
              "     [5674, 5675, 'I-MISC'],\n",
              "     [5789, 5794, 'B-MISC'],\n",
              "     [5795, 5800, 'I-MISC'],\n",
              "     [5801, 5809, 'I-MISC'],\n",
              "     [5830, 5835, 'B-AGRE'],\n",
              "     [5836, 5845, 'I-AGRE'],\n",
              "     [5874, 5879, 'B-MISC'],\n",
              "     [5880, 5885, 'I-MISC'],\n",
              "     [5886, 5894, 'I-MISC'],\n",
              "     [5920, 5924, 'B-LOC'],\n",
              "     [5948, 5953, 'B-MISC'],\n",
              "     [5954, 5959, 'I-MISC'],\n",
              "     [5960, 5968, 'I-MISC'],\n",
              "     [5994, 6004, 'B-MISC'],\n",
              "     [6005, 6013, 'I-MISC'],\n",
              "     [6041, 6046, 'B-MISC'],\n",
              "     [6047, 6052, 'I-MISC'],\n",
              "     [6053, 6061, 'I-MISC'],\n",
              "     [6107, 6112, 'B-MISC'],\n",
              "     [6113, 6118, 'I-MISC'],\n",
              "     [6119, 6127, 'I-MISC'],\n",
              "     [6169, 6171, 'B-MISC'],\n",
              "     [6171, 6172, 'I-MISC'],\n",
              "     [6178, 6182, 'B-LOC'],\n",
              "     [6206, 6211, 'B-MISC'],\n",
              "     [6212, 6217, 'I-MISC'],\n",
              "     [6218, 6226, 'I-MISC'],\n",
              "     [6296, 6306, 'B-MISC'],\n",
              "     [6307, 6316, 'I-MISC'],\n",
              "     [6340, 6346, 'B-MISC'],\n",
              "     [6347, 6358, 'I-MISC'],\n",
              "     [6410, 6417, 'B-MISC'],\n",
              "     [6418, 6426, 'I-MISC'],\n",
              "     [6444, 6451, 'B-MISC'],\n",
              "     [6452, 6460, 'I-MISC'],\n",
              "     [6468, 6474, 'B-ORG'],\n",
              "     [6475, 6479, 'I-ORG'],\n",
              "     [6511, 6515, 'B-ORG'],\n",
              "     [6516, 6523, 'I-ORG'],\n",
              "     [6524, 6530, 'B-MISC'],\n",
              "     [6531, 6536, 'I-MISC'],\n",
              "     [6537, 6546, 'I-MISC'],\n",
              "     [6611, 6617, 'B-ORG'],\n",
              "     [6618, 6622, 'I-ORG'],\n",
              "     [6630, 6634, 'B-ORG'],\n",
              "     [6635, 6641, 'I-ORG'],\n",
              "     [6846, 6853, 'B-MISC'],\n",
              "     [6854, 6861, 'I-MISC'],\n",
              "     [6867, 6877, 'B-ORG'],\n",
              "     [6878, 6885, 'I-ORG'],\n",
              "     [7098, 7101, 'B-MISC'],\n",
              "     [7102, 7104, 'I-MISC'],\n",
              "     [7107, 7118, 'I-MISC'],\n",
              "     [7508, 7518, 'B-PER'],\n",
              "     [7522, 7532, 'B-PER'],\n",
              "     [7543, 7550, 'B-MISC'],\n",
              "     [7551, 7558, 'I-MISC'],\n",
              "     [7564, 7574, 'B-ORG'],\n",
              "     [7575, 7582, 'I-ORG'],\n",
              "     [7752, 7762, 'B-ORG'],\n",
              "     [7763, 7772, 'I-ORG'],\n",
              "     [7854, 7860, 'B-ORG'],\n",
              "     [7861, 7865, 'I-ORG'],\n",
              "     [7944, 7951, 'B-MISC'],\n",
              "     [7952, 7959, 'B-MISC'],\n",
              "     [7965, 7975, 'B-ORG'],\n",
              "     [7976, 7983, 'I-ORG'],\n",
              "     [8169, 8177, 'B-MISC'],\n",
              "     [8194, 8206, 'B-AGRE'],\n",
              "     [8207, 8216, 'I-AGRE'],\n",
              "     [8294, 8295, 'B-CURR'],\n",
              "     [8295, 8297, 'I-CURR'],\n",
              "     [8298, 8305, 'I-CURR'],\n",
              "     [8344, 8352, 'B-MISC'],\n",
              "     [8382, 8389, 'B-MISC'],\n",
              "     [8390, 8400, 'I-MISC'],\n",
              "     [8422, 8428, 'B-AGRE'],\n",
              "     [8429, 8439, 'I-AGRE'],\n",
              "     [8532, 8539, 'B-MISC'],\n",
              "     [8540, 8547, 'I-MISC'],\n",
              "     [8789, 8791, 'B-MISC'],\n",
              "     [8791, 8792, 'I-MISC'],\n",
              "     [8880, 8887, 'B-MISC'],\n",
              "     [8888, 8895, 'I-MISC'],\n",
              "     [8933, 8937, 'B-ORG'],\n",
              "     [8938, 8944, 'I-ORG'],\n",
              "     [9020, 9027, 'B-MISC'],\n",
              "     [9028, 9035, 'I-MISC'],\n",
              "     [9114, 9122, 'B-MISC'],\n",
              "     [9177, 9184, 'B-MISC'],\n",
              "     [9185, 9192, 'I-MISC'],\n",
              "     [9333, 9342, 'B-MISC'],\n",
              "     [9365, 9367, 'B-MISC'],\n",
              "     [9367, 9368, 'I-MISC'],\n",
              "     [9456, 9463, 'B-MISC'],\n",
              "     [9464, 9471, 'I-MISC'],\n",
              "     [9509, 9513, 'B-ORG'],\n",
              "     [9514, 9520, 'I-ORG'],\n",
              "     [9565, 9572, 'B-MISC'],\n",
              "     [9573, 9580, 'I-MISC'],\n",
              "     [9697, 9704, 'B-MISC'],\n",
              "     [9705, 9715, 'I-MISC'],\n",
              "     [9844, 9851, 'B-MISC'],\n",
              "     [9852, 9859, 'I-MISC'],\n",
              "     [9893, 9901, 'B-MISC'],\n",
              "     [9907, 9914, 'B-MISC'],\n",
              "     [9915, 9922, 'I-MISC'],\n",
              "     [9941, 9946, 'B-AGRE'],\n",
              "     [9947, 9956, 'I-AGRE'],\n",
              "     [9980, 9988, 'B-MISC'],\n",
              "     [10043, 10053, 'B-MISC'],\n",
              "     [10054, 10061, 'I-MISC'],\n",
              "     [10062, 10072, 'I-MISC'],\n",
              "     [10164, 10174, 'B-MISC'],\n",
              "     [10175, 10182, 'I-MISC'],\n",
              "     [10183, 10193, 'I-MISC'],\n",
              "     [10234, 10241, 'B-MISC'],\n",
              "     [10242, 10252, 'I-MISC'],\n",
              "     [10299, 10309, 'B-MISC'],\n",
              "     [10364, 10371, 'B-MISC'],\n",
              "     [10372, 10373, 'I-MISC'],\n",
              "     [10379, 10386, 'B-MISC'],\n",
              "     [10387, 10394, 'I-MISC'],\n",
              "     [10412, 10419, 'B-MISC'],\n",
              "     [10420, 10431, 'I-MISC'],\n",
              "     [10454, 10463, 'B-MISC'],\n",
              "     [10633, 10641, 'B-MISC'],\n",
              "     [10899, 10909, 'B-MISC'],\n",
              "     [10910, 10917, 'I-MISC'],\n",
              "     [10918, 10928, 'I-MISC'],\n",
              "     [10934, 10942, 'B-MISC'],\n",
              "     [10983, 10990, 'B-MISC'],\n",
              "     [10991, 11001, 'I-MISC'],\n",
              "     [11025, 11028, 'B-MISC'],\n",
              "     [11029, 11031, 'I-MISC'],\n",
              "     [11034, 11045, 'I-MISC'],\n",
              "     [11060, 11065, 'B-AGRE'],\n",
              "     [11066, 11077, 'I-AGRE'],\n",
              "     [11160, 11165, 'B-AGRE'],\n",
              "     [11166, 11175, 'I-AGRE'],\n",
              "     [11199, 11204, 'B-MISC'],\n",
              "     [11205, 11210, 'I-MISC'],\n",
              "     [11211, 11219, 'I-MISC'],\n",
              "     [11281, 11286, 'B-AGRE'],\n",
              "     [11287, 11296, 'I-AGRE'],\n",
              "     [11335, 11343, 'I-AGRE'],\n",
              "     [11397, 11404, 'B-MISC'],\n",
              "     [11405, 11412, 'I-MISC'],\n",
              "     [11434, 11442, 'B-MISC'],\n",
              "     [11458, 11463, 'B-AGRE'],\n",
              "     [11464, 11473, 'I-AGRE'],\n",
              "     [11559, 11564, 'B-MISC'],\n",
              "     [11565, 11570, 'I-MISC'],\n",
              "     [11571, 11579, 'I-MISC'],\n",
              "     [11637, 11644, 'B-MISC'],\n",
              "     [11645, 11652, 'I-MISC'],\n",
              "     [11765, 11770, 'B-AGRE'],\n",
              "     [11771, 11781, 'I-AGRE'],\n",
              "     [11785, 11793, 'B-ORG'],\n",
              "     [11794, 11800, 'I-ORG'],\n",
              "     [11851, 11858, 'B-MISC'],\n",
              "     [11859, 11866, 'I-MISC'],\n",
              "     [11890, 11898, 'B-MISC'],\n",
              "     [11904, 11911, 'B-MISC'],\n",
              "     [11912, 11919, 'I-MISC'],\n",
              "     [11948, 11955, 'B-MISC'],\n",
              "     [11956, 11966, 'I-MISC'],\n",
              "     [11979, 11980, 'B-CURR'],\n",
              "     [11980, 11982, 'I-CURR'],\n",
              "     [11983, 11990, 'I-CURR'],\n",
              "     [12031, 12041, 'B-MISC'],\n",
              "     [12042, 12049, 'I-MISC'],\n",
              "     [12050, 12060, 'I-MISC'],\n",
              "     [12091, 12098, 'B-MISC'],\n",
              "     [12099, 12106, 'I-MISC'],\n",
              "     [12126, 12133, 'B-MISC'],\n",
              "     [12134, 12135, 'I-MISC'],\n",
              "     [12192, 12199, 'B-MISC'],\n",
              "     [12200, 12207, 'I-MISC'],\n",
              "     [12213, 12220, 'B-MISC'],\n",
              "     [12221, 12228, 'I-MISC'],\n",
              "     [12245, 12253, 'B-MISC'],\n",
              "     [12356, 12363, 'B-MISC'],\n",
              "     [12364, 12367, 'I-MISC'],\n",
              "     [12375, 12382, 'B-AGRE'],\n",
              "     [12383, 12394, 'I-AGRE'],\n",
              "     [12395, 12404, 'I-AGRE'],\n",
              "     [12410, 12419, 'B-ORG'],\n",
              "     [12420, 12426, 'I-ORG'],\n",
              "     [12451, 12459, 'B-ORG'],\n",
              "     [12460, 12465, 'I-ORG'],\n",
              "     [12490, 12497, 'B-MISC'],\n",
              "     [12498, 12499, 'I-MISC'],\n",
              "     [12548, 12556, 'B-MISC'],\n",
              "     [12679, 12686, 'B-MISC'],\n",
              "     [12687, 12688, 'I-MISC'],\n",
              "     [12703, 12711, 'B-ORG'],\n",
              "     [12712, 12717, 'I-ORG'],\n",
              "     [12758, 12766, 'B-MISC'],\n",
              "     [12811, 12819, 'B-ORG'],\n",
              "     [12820, 12825, 'I-ORG'],\n",
              "     [12838, 12846, 'B-MISC'],\n",
              "     [12912, 12920, 'B-ORG'],\n",
              "     [12921, 12926, 'I-ORG'],\n",
              "     [12970, 12978, 'B-MISC'],\n",
              "     [13022, 13030, 'B-ORG'],\n",
              "     [13031, 13036, 'I-ORG'],\n",
              "     [13105, 13113, 'B-MISC'],\n",
              "     [13121, 13128, 'B-MISC'],\n",
              "     [13129, 13137, 'I-MISC'],\n",
              "     [13142, 13150, 'B-MISC'],\n",
              "     [13173, 13181, 'B-ORG'],\n",
              "     [13182, 13187, 'I-ORG'],\n",
              "     [13257, 13264, 'B-MISC'],\n",
              "     [13265, 13269, 'I-MISC'],\n",
              "     [13277, 13284, 'B-AGRE'],\n",
              "     [13285, 13296, 'I-AGRE'],\n",
              "     [13297, 13307, 'I-AGRE'],\n",
              "     [13312, 13320, 'B-ORG'],\n",
              "     [13321, 13326, 'I-ORG'],\n",
              "     [13365, 13371, 'B-ORG'],\n",
              "     [13372, 13376, 'I-ORG'],\n",
              "     [13397, 13404, 'B-MISC'],\n",
              "     [13405, 13412, 'I-MISC'],\n",
              "     [13445, 13453, 'B-ORG'],\n",
              "     [13454, 13459, 'I-ORG'],\n",
              "     [13482, 13488, 'B-ORG'],\n",
              "     [13489, 13493, 'I-ORG'],\n",
              "     [13499, 13507, 'B-ORG'],\n",
              "     [13508, 13513, 'I-ORG'],\n",
              "     [13546, 13554, 'B-MISC'],\n",
              "     [13599, 13614, 'B-AGRE'],\n",
              "     [13615, 13624, 'I-AGRE'],\n",
              "     [13638, 13646, 'B-ORG'],\n",
              "     [13647, 13652, 'I-ORG'],\n",
              "     [13676, 13682, 'B-ORG'],\n",
              "     [13683, 13688, 'I-ORG'],\n",
              "     [13751, 13759, 'B-MISC'],\n",
              "     [13813, 13821, 'B-MISC'],\n",
              "     [13822, 13827, 'I-MISC'],\n",
              "     [13870, 13878, 'B-MISC'],\n",
              "     [13884, 13891, 'B-MISC'],\n",
              "     [13892, 13899, 'I-MISC'],\n",
              "     [14008, 14015, 'B-MISC'],\n",
              "     [14016, 14023, 'I-MISC'],\n",
              "     [14044, 14056, 'B-AGRE'],\n",
              "     [14057, 14066, 'I-AGRE'],\n",
              "     [14282, 14292, 'B-ORG'],\n",
              "     [14293, 14300, 'I-ORG'],\n",
              "     [14308, 14315, 'B-MISC'],\n",
              "     [14316, 14323, 'I-MISC'],\n",
              "     [14346, 14353, 'B-MISC'],\n",
              "     [14354, 14361, 'I-MISC'],\n",
              "     [14492, 14499, 'B-MISC'],\n",
              "     [14500, 14507, 'I-MISC'],\n",
              "     [14513, 14523, 'B-ORG'],\n",
              "     [14524, 14531, 'I-ORG'],\n",
              "     [14599, 14606, 'B-MISC'],\n",
              "     [14607, 14614, 'I-MISC'],\n",
              "     [14696, 14703, 'B-MISC'],\n",
              "     [14704, 14713, 'I-MISC'],\n",
              "     [14788, 14798, 'B-MISC'],\n",
              "     [14799, 14809, 'I-MISC'],\n",
              "     [14811, 14814, 'B-MISC'],\n",
              "     [14817, 14821, 'B-MISC'],\n",
              "     [14822, 14826, 'I-MISC'],\n",
              "     [14827, 14835, 'I-MISC'],\n",
              "     [14837, 14840, 'B-MISC'],\n",
              "     [15040, 15043, 'B-MISC'],\n",
              "     [15044, 15046, 'I-MISC'],\n",
              "     [15049, 15060, 'I-MISC'],\n",
              "     [15090, 15097, 'B-MISC'],\n",
              "     [15098, 15105, 'I-MISC'],\n",
              "     [15230, 15237, 'B-MISC'],\n",
              "     [15238, 15245, 'I-MISC'],\n",
              "     [15382, 15392, 'B-AGRE'],\n",
              "     [15393, 15405, 'I-AGRE'],\n",
              "     [15406, 15416, 'I-AGRE'],\n",
              "     [15463, 15469, 'B-AGRE'],\n",
              "     [15470, 15479, 'I-AGRE'],\n",
              "     [15503, 15511, 'B-MISC']]}]]}"
            ]
          },
          "metadata": {},
          "execution_count": 155
        }
      ]
    },
    {
      "cell_type": "code",
      "source": [
        "text = data[\"annotations\"][0][0]\n",
        "classes=data['classes']\n",
        "tags=data['annotations'][0][1]['entities']"
      ],
      "metadata": {
        "id": "z3KVzBUjYUbQ"
      },
      "execution_count": 156,
      "outputs": []
    },
    {
      "cell_type": "code",
      "source": [
        "print('classes are -->', classes)\n",
        "print('tag are -->', tags)"
      ],
      "metadata": {
        "colab": {
          "base_uri": "https://localhost:8080/"
        },
        "id": "L6G_u7KgWIny",
        "outputId": "c943c4bb-ba92-42d8-d5f8-c178bafacc23"
      },
      "execution_count": 157,
      "outputs": [
        {
          "output_type": "stream",
          "name": "stdout",
          "text": [
            "classes are --> ['NONE', 'B-ORG', 'I-ORG', 'B-DATE', 'I-DATE', 'B-TIME', 'I-TIME', 'B-PER', 'I-PER', 'B-CURR', 'I-CURR', 'B-LOC', 'I-LOC', 'B-AGRE', 'I-AGRE', 'B-MISC', 'I-MISC']\n",
            "tag are --> [[18, 26, 'B-ORG'], [27, 34, 'I-ORG'], [35, 41, 'B-MISC'], [42, 46, 'I-MISC'], [47, 51, 'I-MISC'], [52, 55, 'I-MISC'], [58, 62, 'B-LOC'], [63, 68, 'I-LOC'], [69, 74, 'I-LOC'], [75, 78, 'I-LOC'], [79, 83, 'I-LOC'], [85, 88, 'B-LOC'], [89, 93, 'I-LOC'], [94, 99, 'I-LOC'], [100, 107, 'B-DATE'], [108, 109, 'I-DATE'], [111, 115, 'I-DATE'], [116, 121, 'B-PER'], [122, 131, 'I-PER'], [132, 134, 'B-LOC'], [135, 144, 'I-LOC'], [145, 151, 'I-LOC'], [152, 158, 'I-LOC'], [194, 202, 'B-ORG'], [203, 210, 'I-ORG'], [211, 217, 'B-MISC'], [218, 222, 'I-MISC'], [223, 227, 'I-MISC'], [228, 230, 'I-MISC'], [234, 242, 'B-AGRE'], [243, 250, 'I-AGRE'], [251, 262, 'I-AGRE'], [281, 287, 'B-AGRE'], [288, 297, 'I-AGRE'], [304, 311, 'B-AGRE'], [312, 322, 'I-AGRE'], [375, 384, 'B-PER'], [390, 400, 'B-MISC'], [407, 414, 'B-AGRE'], [415, 426, 'I-AGRE'], [547, 554, 'B-AGRE'], [559, 567, 'I-AGRE'], [568, 575, 'I-AGRE'], [576, 587, 'I-AGRE'], [588, 597, 'I-AGRE'], [622, 628, 'B-DATE'], [629, 631, 'I-DATE'], [633, 637, 'I-DATE'], [643, 651, 'B-AGRE'], [652, 663, 'I-AGRE'], [664, 674, 'I-AGRE'], [681, 693, 'B-AGRE'], [694, 703, 'I-AGRE'], [716, 724, 'B-MISC'], [771, 784, 'B-AGRE'], [785, 795, 'I-AGRE'], [986, 987, 'B-CURR'], [987, 997, 'I-CURR'], [1025, 1033, 'B-AGRE'], [1034, 1045, 'I-AGRE'], [1048, 1056, 'B-ORG'], [1057, 1064, 'I-ORG'], [1065, 1073, 'I-ORG'], [1074, 1076, 'I-ORG'], [1078, 1084, 'I-ORG'], [1088, 1096, 'B-ORG'], [1097, 1104, 'I-ORG'], [1105, 1114, 'I-ORG'], [1115, 1122, 'I-ORG'], [1128, 1136, 'B-MISC'], [1137, 1145, 'I-MISC'], [1216, 1224, 'B-MISC'], [1276, 1284, 'B-MISC'], [1409, 1416, 'B-DATE'], [1417, 1418, 'I-DATE'], [1420, 1424, 'I-DATE'], [1665, 1669, 'B-MISC'], [1669, 1670, 'I-MISC'], [1710, 1717, 'B-MISC'], [1718, 1725, 'I-MISC'], [1748, 1756, 'B-MISC'], [1769, 1774, 'B-AGRE'], [1775, 1785, 'I-AGRE'], [1849, 1859, 'B-MISC'], [1860, 1869, 'I-MISC'], [1892, 1900, 'B-ORG'], [1901, 1908, 'I-ORG'], [1909, 1915, 'B-MISC'], [1916, 1920, 'I-MISC'], [1921, 1925, 'I-MISC'], [1926, 1929, 'I-MISC'], [1935, 1942, 'B-ORG'], [1943, 1948, 'I-ORG'], [1969, 1977, 'B-MISC'], [1978, 1986, 'I-MISC'], [1988, 1992, 'B-MISC'], [1998, 2003, 'B-ORG'], [2004, 2011, 'I-ORG'], [2080, 2090, 'B-MISC'], [2091, 2100, 'I-MISC'], [2114, 2119, 'B-AGRE'], [2120, 2131, 'I-AGRE'], [2206, 2216, 'B-MISC'], [2217, 2225, 'I-MISC'], [2299, 2309, 'B-MISC'], [2310, 2318, 'I-MISC'], [2354, 2364, 'B-MISC'], [2365, 2373, 'I-MISC'], [2448, 2454, 'B-AGRE'], [2455, 2464, 'I-AGRE'], [2473, 2480, 'B-AGRE'], [2481, 2492, 'I-AGRE'], [2493, 2502, 'I-AGRE'], [2508, 2516, 'B-MISC'], [2572, 2574, 'B-TIME'], [2575, 2579, 'I-TIME'], [2630, 2635, 'B-AGRE'], [2636, 2646, 'I-AGRE'], [2704, 2709, 'B-AGRE'], [2710, 2719, 'I-AGRE'], [2781, 2789, 'B-MISC'], [2863, 2868, 'B-AGRE'], [2869, 2878, 'I-AGRE'], [3032, 3037, 'B-AGRE'], [3038, 3048, 'I-AGRE'], [3199, 3204, 'B-MISC'], [3205, 3210, 'I-MISC'], [3211, 3219, 'I-MISC'], [3266, 3269, 'B-MISC'], [3270, 3272, 'I-MISC'], [3275, 3286, 'I-MISC'], [3414, 3419, 'B-MISC'], [3420, 3425, 'I-MISC'], [3426, 3434, 'I-MISC'], [3448, 3456, 'B-MISC'], [3555, 3560, 'B-MISC'], [3561, 3566, 'I-MISC'], [3567, 3575, 'I-MISC'], [3621, 3627, 'B-ORG'], [3628, 3632, 'I-ORG'], [3640, 3644, 'B-ORG'], [3645, 3651, 'I-ORG'], [3737, 3742, 'B-MISC'], [3743, 3748, 'I-MISC'], [3749, 3757, 'I-MISC'], [3806, 3814, 'B-ORG'], [3815, 3820, 'I-ORG'], [3913, 3921, 'B-ORG'], [3922, 3927, 'I-ORG'], [3954, 3962, 'B-ORG'], [3963, 3968, 'B-ORG'], [4028, 4036, 'B-ORG'], [4037, 4042, 'I-ORG'], [4056, 4063, 'B-MISC'], [4064, 4071, 'I-MISC'], [4097, 4102, 'B-AGRE'], [4103, 4112, 'I-AGRE'], [4162, 4170, 'B-ORG'], [4171, 4176, 'I-ORG'], [4204, 4209, 'B-MISC'], [4210, 4215, 'I-MISC'], [4216, 4226, 'I-MISC'], [4415, 4426, 'B-MISC'], [4427, 4436, 'I-MISC'], [4518, 4524, 'B-ORG'], [4525, 4529, 'I-ORG'], [4537, 4541, 'B-ORG'], [4542, 4548, 'I-ORG'], [4575, 4585, 'B-MISC'], [4632, 4638, 'B-ORG'], [4639, 4643, 'I-ORG'], [4651, 4655, 'B-ORG'], [4656, 4662, 'I-ORG'], [4718, 4723, 'B-MISC'], [4724, 4729, 'I-MISC'], [4730, 4738, 'I-MISC'], [4744, 4754, 'B-MISC'], [4755, 4763, 'I-MISC'], [4788, 4793, 'B-MISC'], [4794, 4799, 'I-MISC'], [4800, 4808, 'I-MISC'], [4826, 4832, 'B-ORG'], [4833, 4837, 'I-ORG'], [4845, 4849, 'B-ORG'], [4850, 4856, 'I-ORG'], [4887, 4894, 'B-MISC'], [4895, 4902, 'I-MISC'], [4984, 4990, 'B-ORG'], [4991, 4995, 'I-ORG'], [5003, 5007, 'B-ORG'], [5008, 5014, 'I-ORG'], [5341, 5346, 'B-MISC'], [5347, 5352, 'I-MISC'], [5353, 5361, 'I-MISC'], [5579, 5588, 'B-MISC'], [5606, 5612, 'B-ORG'], [5613, 5617, 'I-ORG'], [5625, 5629, 'B-ORG'], [5630, 5636, 'I-ORG'], [5651, 5662, 'B-MISC'], [5663, 5670, 'I-MISC'], [5672, 5674, 'B-MISC'], [5674, 5675, 'I-MISC'], [5789, 5794, 'B-MISC'], [5795, 5800, 'I-MISC'], [5801, 5809, 'I-MISC'], [5830, 5835, 'B-AGRE'], [5836, 5845, 'I-AGRE'], [5874, 5879, 'B-MISC'], [5880, 5885, 'I-MISC'], [5886, 5894, 'I-MISC'], [5920, 5924, 'B-LOC'], [5948, 5953, 'B-MISC'], [5954, 5959, 'I-MISC'], [5960, 5968, 'I-MISC'], [5994, 6004, 'B-MISC'], [6005, 6013, 'I-MISC'], [6041, 6046, 'B-MISC'], [6047, 6052, 'I-MISC'], [6053, 6061, 'I-MISC'], [6107, 6112, 'B-MISC'], [6113, 6118, 'I-MISC'], [6119, 6127, 'I-MISC'], [6169, 6171, 'B-MISC'], [6171, 6172, 'I-MISC'], [6178, 6182, 'B-LOC'], [6206, 6211, 'B-MISC'], [6212, 6217, 'I-MISC'], [6218, 6226, 'I-MISC'], [6296, 6306, 'B-MISC'], [6307, 6316, 'I-MISC'], [6340, 6346, 'B-MISC'], [6347, 6358, 'I-MISC'], [6410, 6417, 'B-MISC'], [6418, 6426, 'I-MISC'], [6444, 6451, 'B-MISC'], [6452, 6460, 'I-MISC'], [6468, 6474, 'B-ORG'], [6475, 6479, 'I-ORG'], [6511, 6515, 'B-ORG'], [6516, 6523, 'I-ORG'], [6524, 6530, 'B-MISC'], [6531, 6536, 'I-MISC'], [6537, 6546, 'I-MISC'], [6611, 6617, 'B-ORG'], [6618, 6622, 'I-ORG'], [6630, 6634, 'B-ORG'], [6635, 6641, 'I-ORG'], [6846, 6853, 'B-MISC'], [6854, 6861, 'I-MISC'], [6867, 6877, 'B-ORG'], [6878, 6885, 'I-ORG'], [7098, 7101, 'B-MISC'], [7102, 7104, 'I-MISC'], [7107, 7118, 'I-MISC'], [7508, 7518, 'B-PER'], [7522, 7532, 'B-PER'], [7543, 7550, 'B-MISC'], [7551, 7558, 'I-MISC'], [7564, 7574, 'B-ORG'], [7575, 7582, 'I-ORG'], [7752, 7762, 'B-ORG'], [7763, 7772, 'I-ORG'], [7854, 7860, 'B-ORG'], [7861, 7865, 'I-ORG'], [7944, 7951, 'B-MISC'], [7952, 7959, 'B-MISC'], [7965, 7975, 'B-ORG'], [7976, 7983, 'I-ORG'], [8169, 8177, 'B-MISC'], [8194, 8206, 'B-AGRE'], [8207, 8216, 'I-AGRE'], [8294, 8295, 'B-CURR'], [8295, 8297, 'I-CURR'], [8298, 8305, 'I-CURR'], [8344, 8352, 'B-MISC'], [8382, 8389, 'B-MISC'], [8390, 8400, 'I-MISC'], [8422, 8428, 'B-AGRE'], [8429, 8439, 'I-AGRE'], [8532, 8539, 'B-MISC'], [8540, 8547, 'I-MISC'], [8789, 8791, 'B-MISC'], [8791, 8792, 'I-MISC'], [8880, 8887, 'B-MISC'], [8888, 8895, 'I-MISC'], [8933, 8937, 'B-ORG'], [8938, 8944, 'I-ORG'], [9020, 9027, 'B-MISC'], [9028, 9035, 'I-MISC'], [9114, 9122, 'B-MISC'], [9177, 9184, 'B-MISC'], [9185, 9192, 'I-MISC'], [9333, 9342, 'B-MISC'], [9365, 9367, 'B-MISC'], [9367, 9368, 'I-MISC'], [9456, 9463, 'B-MISC'], [9464, 9471, 'I-MISC'], [9509, 9513, 'B-ORG'], [9514, 9520, 'I-ORG'], [9565, 9572, 'B-MISC'], [9573, 9580, 'I-MISC'], [9697, 9704, 'B-MISC'], [9705, 9715, 'I-MISC'], [9844, 9851, 'B-MISC'], [9852, 9859, 'I-MISC'], [9893, 9901, 'B-MISC'], [9907, 9914, 'B-MISC'], [9915, 9922, 'I-MISC'], [9941, 9946, 'B-AGRE'], [9947, 9956, 'I-AGRE'], [9980, 9988, 'B-MISC'], [10043, 10053, 'B-MISC'], [10054, 10061, 'I-MISC'], [10062, 10072, 'I-MISC'], [10164, 10174, 'B-MISC'], [10175, 10182, 'I-MISC'], [10183, 10193, 'I-MISC'], [10234, 10241, 'B-MISC'], [10242, 10252, 'I-MISC'], [10299, 10309, 'B-MISC'], [10364, 10371, 'B-MISC'], [10372, 10373, 'I-MISC'], [10379, 10386, 'B-MISC'], [10387, 10394, 'I-MISC'], [10412, 10419, 'B-MISC'], [10420, 10431, 'I-MISC'], [10454, 10463, 'B-MISC'], [10633, 10641, 'B-MISC'], [10899, 10909, 'B-MISC'], [10910, 10917, 'I-MISC'], [10918, 10928, 'I-MISC'], [10934, 10942, 'B-MISC'], [10983, 10990, 'B-MISC'], [10991, 11001, 'I-MISC'], [11025, 11028, 'B-MISC'], [11029, 11031, 'I-MISC'], [11034, 11045, 'I-MISC'], [11060, 11065, 'B-AGRE'], [11066, 11077, 'I-AGRE'], [11160, 11165, 'B-AGRE'], [11166, 11175, 'I-AGRE'], [11199, 11204, 'B-MISC'], [11205, 11210, 'I-MISC'], [11211, 11219, 'I-MISC'], [11281, 11286, 'B-AGRE'], [11287, 11296, 'I-AGRE'], [11335, 11343, 'I-AGRE'], [11397, 11404, 'B-MISC'], [11405, 11412, 'I-MISC'], [11434, 11442, 'B-MISC'], [11458, 11463, 'B-AGRE'], [11464, 11473, 'I-AGRE'], [11559, 11564, 'B-MISC'], [11565, 11570, 'I-MISC'], [11571, 11579, 'I-MISC'], [11637, 11644, 'B-MISC'], [11645, 11652, 'I-MISC'], [11765, 11770, 'B-AGRE'], [11771, 11781, 'I-AGRE'], [11785, 11793, 'B-ORG'], [11794, 11800, 'I-ORG'], [11851, 11858, 'B-MISC'], [11859, 11866, 'I-MISC'], [11890, 11898, 'B-MISC'], [11904, 11911, 'B-MISC'], [11912, 11919, 'I-MISC'], [11948, 11955, 'B-MISC'], [11956, 11966, 'I-MISC'], [11979, 11980, 'B-CURR'], [11980, 11982, 'I-CURR'], [11983, 11990, 'I-CURR'], [12031, 12041, 'B-MISC'], [12042, 12049, 'I-MISC'], [12050, 12060, 'I-MISC'], [12091, 12098, 'B-MISC'], [12099, 12106, 'I-MISC'], [12126, 12133, 'B-MISC'], [12134, 12135, 'I-MISC'], [12192, 12199, 'B-MISC'], [12200, 12207, 'I-MISC'], [12213, 12220, 'B-MISC'], [12221, 12228, 'I-MISC'], [12245, 12253, 'B-MISC'], [12356, 12363, 'B-MISC'], [12364, 12367, 'I-MISC'], [12375, 12382, 'B-AGRE'], [12383, 12394, 'I-AGRE'], [12395, 12404, 'I-AGRE'], [12410, 12419, 'B-ORG'], [12420, 12426, 'I-ORG'], [12451, 12459, 'B-ORG'], [12460, 12465, 'I-ORG'], [12490, 12497, 'B-MISC'], [12498, 12499, 'I-MISC'], [12548, 12556, 'B-MISC'], [12679, 12686, 'B-MISC'], [12687, 12688, 'I-MISC'], [12703, 12711, 'B-ORG'], [12712, 12717, 'I-ORG'], [12758, 12766, 'B-MISC'], [12811, 12819, 'B-ORG'], [12820, 12825, 'I-ORG'], [12838, 12846, 'B-MISC'], [12912, 12920, 'B-ORG'], [12921, 12926, 'I-ORG'], [12970, 12978, 'B-MISC'], [13022, 13030, 'B-ORG'], [13031, 13036, 'I-ORG'], [13105, 13113, 'B-MISC'], [13121, 13128, 'B-MISC'], [13129, 13137, 'I-MISC'], [13142, 13150, 'B-MISC'], [13173, 13181, 'B-ORG'], [13182, 13187, 'I-ORG'], [13257, 13264, 'B-MISC'], [13265, 13269, 'I-MISC'], [13277, 13284, 'B-AGRE'], [13285, 13296, 'I-AGRE'], [13297, 13307, 'I-AGRE'], [13312, 13320, 'B-ORG'], [13321, 13326, 'I-ORG'], [13365, 13371, 'B-ORG'], [13372, 13376, 'I-ORG'], [13397, 13404, 'B-MISC'], [13405, 13412, 'I-MISC'], [13445, 13453, 'B-ORG'], [13454, 13459, 'I-ORG'], [13482, 13488, 'B-ORG'], [13489, 13493, 'I-ORG'], [13499, 13507, 'B-ORG'], [13508, 13513, 'I-ORG'], [13546, 13554, 'B-MISC'], [13599, 13614, 'B-AGRE'], [13615, 13624, 'I-AGRE'], [13638, 13646, 'B-ORG'], [13647, 13652, 'I-ORG'], [13676, 13682, 'B-ORG'], [13683, 13688, 'I-ORG'], [13751, 13759, 'B-MISC'], [13813, 13821, 'B-MISC'], [13822, 13827, 'I-MISC'], [13870, 13878, 'B-MISC'], [13884, 13891, 'B-MISC'], [13892, 13899, 'I-MISC'], [14008, 14015, 'B-MISC'], [14016, 14023, 'I-MISC'], [14044, 14056, 'B-AGRE'], [14057, 14066, 'I-AGRE'], [14282, 14292, 'B-ORG'], [14293, 14300, 'I-ORG'], [14308, 14315, 'B-MISC'], [14316, 14323, 'I-MISC'], [14346, 14353, 'B-MISC'], [14354, 14361, 'I-MISC'], [14492, 14499, 'B-MISC'], [14500, 14507, 'I-MISC'], [14513, 14523, 'B-ORG'], [14524, 14531, 'I-ORG'], [14599, 14606, 'B-MISC'], [14607, 14614, 'I-MISC'], [14696, 14703, 'B-MISC'], [14704, 14713, 'I-MISC'], [14788, 14798, 'B-MISC'], [14799, 14809, 'I-MISC'], [14811, 14814, 'B-MISC'], [14817, 14821, 'B-MISC'], [14822, 14826, 'I-MISC'], [14827, 14835, 'I-MISC'], [14837, 14840, 'B-MISC'], [15040, 15043, 'B-MISC'], [15044, 15046, 'I-MISC'], [15049, 15060, 'I-MISC'], [15090, 15097, 'B-MISC'], [15098, 15105, 'I-MISC'], [15230, 15237, 'B-MISC'], [15238, 15245, 'I-MISC'], [15382, 15392, 'B-AGRE'], [15393, 15405, 'I-AGRE'], [15406, 15416, 'I-AGRE'], [15463, 15469, 'B-AGRE'], [15470, 15479, 'I-AGRE'], [15503, 15511, 'B-MISC']]\n"
          ]
        }
      ]
    },
    {
      "cell_type": "code",
      "source": [
        "print((classes))"
      ],
      "metadata": {
        "colab": {
          "base_uri": "https://localhost:8080/"
        },
        "id": "aVpsxBL7CR7n",
        "outputId": "b472f866-b78a-4402-bf58-e56e2d7ac693"
      },
      "execution_count": 158,
      "outputs": [
        {
          "output_type": "stream",
          "name": "stdout",
          "text": [
            "['NONE', 'B-ORG', 'I-ORG', 'B-DATE', 'I-DATE', 'B-TIME', 'I-TIME', 'B-PER', 'I-PER', 'B-CURR', 'I-CURR', 'B-LOC', 'I-LOC', 'B-AGRE', 'I-AGRE', 'B-MISC', 'I-MISC']\n"
          ]
        }
      ]
    },
    {
      "cell_type": "code",
      "source": [
        "classes_dict = {}\n",
        "class_length = len(classes)\n",
        "\n",
        "for i in range(class_length):\n",
        "  classes_dict[classes[i]] = i"
      ],
      "metadata": {
        "id": "nmiiV9uRYFHa"
      },
      "execution_count": 159,
      "outputs": []
    },
    {
      "cell_type": "code",
      "source": [
        "# class_dict"
      ],
      "metadata": {
        "id": "OcgTHaji2xGN"
      },
      "execution_count": 160,
      "outputs": []
    },
    {
      "cell_type": "code",
      "source": [
        "tokens=[]\n",
        "named_tags=[]"
      ],
      "metadata": {
        "id": "W08oy2ud3LvJ"
      },
      "execution_count": 161,
      "outputs": []
    },
    {
      "cell_type": "code",
      "source": [
        "\n",
        "for tag in tags:\n",
        "  tokens.append(text[tag[0]:tag[1]])\n",
        "  named_tags.append(tag[2])"
      ],
      "metadata": {
        "id": "TJiuk-rQ9hL5"
      },
      "execution_count": 162,
      "outputs": []
    },
    {
      "cell_type": "code",
      "source": [
        "print('tokens are:   ',tokens)\n",
        "print('named_tag are:', named_tags)"
      ],
      "metadata": {
        "colab": {
          "base_uri": "https://localhost:8080/"
        },
        "id": "0A-8K16DA7s1",
        "outputId": "c867a7dd-4505-4d48-e82f-677ef3d726e1"
      },
      "execution_count": 163,
      "outputs": [
        {
          "output_type": "stream",
          "name": "stdout",
          "text": [
            "tokens are:    ['Inveniam', 'Private', 'Equity', 'Fund', 'Demo', 'IV.', '8500', 'World', 'Trade', 'New', 'York', 'New', 'York', '10022', 'January', '1', '2019', 'Maria', 'Sharapova', '31', 'Blandford', 'Street', 'London', 'Inveniam', 'Private', 'Equity', 'Fund', 'Demo', 'IV', 'Delaware', 'limited', 'partnership', 'letter', 'agreement', '\"Letter', 'Agreement\"', 'Sharapova', '\"Investor\"', 'limited', 'partnership', 'Amended', 'Restated', 'Limited', 'Partnership', 'Agreement', 'August', '27', '2021', '\"Limited', 'Partnership', 'Agreement\"', 'Subscription', 'Agreement', 'Investor', '\"Subscription', 'Agreement\"', '$', '50,000,000', '\"Capital', 'Commitment\"', 'Inveniam', 'Capital', 'Partners', 'GP', 'L.L.C.', 'Delaware', 'limited', 'liability', 'company', '\"General', 'Partner\"', 'Investor', 'Investor', 'January', '1', '2019', '0.85', '%', 'General', 'Partner', 'Investor', 'Other', 'Agreements', 'Comparable', 'Investors', 'Inveniam', 'Private', 'Equity', 'Fund', 'Demo', 'IV.', '\"Sister', 'Fund\"', 'Overseas', 'Partners', 'L.P.', '\"SFRO', 'Feeder\"', 'Comparable', 'Investors', 'Other', 'Agreements\"', 'Comparable', 'Investor', 'Comparable', 'Investor', 'Comparable', 'Investor', 'Letter', 'Agreement', 'Limited', 'Partnership', 'Agreement', 'Investor', '30', 'days', 'Other', 'Agreements', 'Other', 'Agreement', 'Investor', 'Other', 'Agreement', 'Other', 'Agreement.', 'Third', 'Party', 'Investor', 'DOC', 'ID', '36972123.18', 'Third', 'Party', 'Investor', 'Investor', 'Third', 'Party', 'Investor', 'Sister', 'Fund', 'SFRO', 'Feeder', 'Third', 'Party', 'Investor', 'Advisory', 'Board', 'Advisory', 'Board', 'Advisory', 'Board', 'Advisory', 'Board', 'Limited', 'Partner', 'Other', 'Agreement', 'Advisory', 'Board', 'Third', 'Party', \"Investor's\", '\"Comparable', 'Investor\"', 'Sister', 'Fund', 'SFRO', 'Feeder', \"Investor's\", 'Sister', 'Fund', 'SFRO', 'Feeder', 'Third', 'Party', 'Investor', 'Comparable', 'Investor', 'Third', 'Party', 'Investor', 'Sister', 'Fund', 'SFRO', 'Feeder', 'General', 'Partner', 'Sister', 'Fund', 'SFRO', 'Feeder', 'Third', 'Party', 'Investor', 'Investors', 'Sister', 'Fund', 'SFRO', 'Feeder', 'twenty-five', 'percent', '25', '%', 'Third', 'Party', 'Investor', 'Other', 'Agreement', 'Third', 'Party', 'Investor', 'U.S.', 'Third', 'Party', 'Investor', 'Comparable', 'Investor', 'Third', 'Party', 'Investor', 'Third', 'Party', 'Investor', '25', '%', 'U.S.', 'Third', 'Party', 'Investor', 'Comparable', 'Investors', '\"Other', 'Agreements\"', 'Limited', 'Partners', 'limited', 'partners', 'Sister', 'Fund', 'SFRO', 'Feeder.', '\"Third', 'Party', 'Investor\"', 'Sister', 'Fund', 'SFRO', 'Feeder', 'General', 'Partner', 'Management', 'Company', 'DOC', 'ID', '36972123.18', 'co-manager', 'co-adviser', 'General', 'Partner', 'Management', 'Company', 'investment', 'committee', 'Sister', 'Fund', 'General', 'Partner', 'Management', 'Company', 'Investor', 'Subscription', 'Agreement', '$', '50', 'million', 'Investor', 'Capital', 'Commitment', 'Letter', 'Agreement.', 'General', 'Partner', '25', '%', 'General', 'Partner', 'SFRO', 'Feeder', 'General', 'Partner', 'Investor', 'General', 'Partner', 'Investors', '25', '%', 'General', 'Partner', 'SFRO', 'Feeder', 'General', 'Partner', 'Capital', 'Commitment', 'General', 'Partner', 'Investor', 'Limited', 'Partner', 'Other', 'Agreement', 'Investor', \"Investor's\", 'Capital', 'Commitment', \"Investor's\", 'Capital', 'Commitment', 'Capital', 'Commitment', \"Investor's\", 'Section', '3', 'General', 'Partner', 'Capital', 'Commitments', 'Investors', 'Investor', \"Investor's\", 'Capital', 'Commitment', 'Investor', 'Capital', 'Commitment', 'DOC', 'ID', '36972123.18', 'Other', 'Agreements.', 'Other', 'Agreement', 'Third', 'Party', 'Investor', 'Other', 'Agreement', 'Investor', 'General', 'Partner', 'Investor', 'Other', 'Agreement', 'Third', 'Party', 'Investor', 'General', 'Partner', 'Other', 'Agreement.', 'Advisory', 'Board.', 'Limited', 'Partner', 'Investor', 'Limited', 'Partner', 'Capital', 'Commitment', '$', '50', 'million', \"Investor's\", 'Capital', 'Commitment', 'General', 'Partner', 'Section', '3', 'Limited', 'Partner', 'General', 'Partner', 'Investor', 'Section', '5.6', 'Limited', 'Partnership', 'Agreement', '\"Advisory', 'Board\"', 'Advisory', 'Board', 'Section', '5', 'Investor', 'Section', '5', 'Advisory', 'Board', 'Investor', 'Advisory', 'Board', 'Investor', 'Advisory', 'Board', 'Investor', 'Advisory', 'Board', 'Investor', 'General', 'Partner.', 'Investor', 'Advisory', 'Board', 'Section', '14.2', 'Limited', 'Partnership', 'Agreement.', 'Advisory', 'Board', 'Sister', 'Fund', 'General', 'Partner', 'Advisory', 'Board', 'Sister', 'Fund', 'Advisory', 'Board', 'Investor', 'indemnification', 'agreement', 'Advisory', 'Board', 'Sister', 'Fund.', 'Investor', 'Lockheed', 'Party', 'Investor', 'General', 'Partner', 'Limited', 'Partner', 'Subscription', 'Agreement', 'Management', 'Company', 'General', 'Partner', 'General', 'Partner', 'General', 'Partner', 'Management', 'Company', 'General', 'Partner', 'Limited', \"Partner's\", 'anti-money', 'laundering', 'AML', 'know', 'your', 'customer', 'KYC', 'DOC', 'ID', '36972123.18', 'General', 'Partner', 'General', 'Partner', \"Investor's\", 'Subscription', 'Agreement.', 'Letter', 'Agreement', 'Investor']\n",
            "named_tag are: ['B-ORG', 'I-ORG', 'B-MISC', 'I-MISC', 'I-MISC', 'I-MISC', 'B-LOC', 'I-LOC', 'I-LOC', 'I-LOC', 'I-LOC', 'B-LOC', 'I-LOC', 'I-LOC', 'B-DATE', 'I-DATE', 'I-DATE', 'B-PER', 'I-PER', 'B-LOC', 'I-LOC', 'I-LOC', 'I-LOC', 'B-ORG', 'I-ORG', 'B-MISC', 'I-MISC', 'I-MISC', 'I-MISC', 'B-AGRE', 'I-AGRE', 'I-AGRE', 'B-AGRE', 'I-AGRE', 'B-AGRE', 'I-AGRE', 'B-PER', 'B-MISC', 'B-AGRE', 'I-AGRE', 'B-AGRE', 'I-AGRE', 'I-AGRE', 'I-AGRE', 'I-AGRE', 'B-DATE', 'I-DATE', 'I-DATE', 'B-AGRE', 'I-AGRE', 'I-AGRE', 'B-AGRE', 'I-AGRE', 'B-MISC', 'B-AGRE', 'I-AGRE', 'B-CURR', 'I-CURR', 'B-AGRE', 'I-AGRE', 'B-ORG', 'I-ORG', 'I-ORG', 'I-ORG', 'I-ORG', 'B-ORG', 'I-ORG', 'I-ORG', 'I-ORG', 'B-MISC', 'I-MISC', 'B-MISC', 'B-MISC', 'B-DATE', 'I-DATE', 'I-DATE', 'B-MISC', 'I-MISC', 'B-MISC', 'I-MISC', 'B-MISC', 'B-AGRE', 'I-AGRE', 'B-MISC', 'I-MISC', 'B-ORG', 'I-ORG', 'B-MISC', 'I-MISC', 'I-MISC', 'I-MISC', 'B-ORG', 'I-ORG', 'B-MISC', 'I-MISC', 'B-MISC', 'B-ORG', 'I-ORG', 'B-MISC', 'I-MISC', 'B-AGRE', 'I-AGRE', 'B-MISC', 'I-MISC', 'B-MISC', 'I-MISC', 'B-MISC', 'I-MISC', 'B-AGRE', 'I-AGRE', 'B-AGRE', 'I-AGRE', 'I-AGRE', 'B-MISC', 'B-TIME', 'I-TIME', 'B-AGRE', 'I-AGRE', 'B-AGRE', 'I-AGRE', 'B-MISC', 'B-AGRE', 'I-AGRE', 'B-AGRE', 'I-AGRE', 'B-MISC', 'I-MISC', 'I-MISC', 'B-MISC', 'I-MISC', 'I-MISC', 'B-MISC', 'I-MISC', 'I-MISC', 'B-MISC', 'B-MISC', 'I-MISC', 'I-MISC', 'B-ORG', 'I-ORG', 'B-ORG', 'I-ORG', 'B-MISC', 'I-MISC', 'I-MISC', 'B-ORG', 'I-ORG', 'B-ORG', 'I-ORG', 'B-ORG', 'B-ORG', 'B-ORG', 'I-ORG', 'B-MISC', 'I-MISC', 'B-AGRE', 'I-AGRE', 'B-ORG', 'I-ORG', 'B-MISC', 'I-MISC', 'I-MISC', 'B-MISC', 'I-MISC', 'B-ORG', 'I-ORG', 'B-ORG', 'I-ORG', 'B-MISC', 'B-ORG', 'I-ORG', 'B-ORG', 'I-ORG', 'B-MISC', 'I-MISC', 'I-MISC', 'B-MISC', 'I-MISC', 'B-MISC', 'I-MISC', 'I-MISC', 'B-ORG', 'I-ORG', 'B-ORG', 'I-ORG', 'B-MISC', 'I-MISC', 'B-ORG', 'I-ORG', 'B-ORG', 'I-ORG', 'B-MISC', 'I-MISC', 'I-MISC', 'B-MISC', 'B-ORG', 'I-ORG', 'B-ORG', 'I-ORG', 'B-MISC', 'I-MISC', 'B-MISC', 'I-MISC', 'B-MISC', 'I-MISC', 'I-MISC', 'B-AGRE', 'I-AGRE', 'B-MISC', 'I-MISC', 'I-MISC', 'B-LOC', 'B-MISC', 'I-MISC', 'I-MISC', 'B-MISC', 'I-MISC', 'B-MISC', 'I-MISC', 'I-MISC', 'B-MISC', 'I-MISC', 'I-MISC', 'B-MISC', 'I-MISC', 'B-LOC', 'B-MISC', 'I-MISC', 'I-MISC', 'B-MISC', 'I-MISC', 'B-MISC', 'I-MISC', 'B-MISC', 'I-MISC', 'B-MISC', 'I-MISC', 'B-ORG', 'I-ORG', 'B-ORG', 'I-ORG', 'B-MISC', 'I-MISC', 'I-MISC', 'B-ORG', 'I-ORG', 'B-ORG', 'I-ORG', 'B-MISC', 'I-MISC', 'B-ORG', 'I-ORG', 'B-MISC', 'I-MISC', 'I-MISC', 'B-PER', 'B-PER', 'B-MISC', 'I-MISC', 'B-ORG', 'I-ORG', 'B-ORG', 'I-ORG', 'B-ORG', 'I-ORG', 'B-MISC', 'B-MISC', 'B-ORG', 'I-ORG', 'B-MISC', 'B-AGRE', 'I-AGRE', 'B-CURR', 'I-CURR', 'I-CURR', 'B-MISC', 'B-MISC', 'I-MISC', 'B-AGRE', 'I-AGRE', 'B-MISC', 'I-MISC', 'B-MISC', 'I-MISC', 'B-MISC', 'I-MISC', 'B-ORG', 'I-ORG', 'B-MISC', 'I-MISC', 'B-MISC', 'B-MISC', 'I-MISC', 'B-MISC', 'B-MISC', 'I-MISC', 'B-MISC', 'I-MISC', 'B-ORG', 'I-ORG', 'B-MISC', 'I-MISC', 'B-MISC', 'I-MISC', 'B-MISC', 'I-MISC', 'B-MISC', 'B-MISC', 'I-MISC', 'B-AGRE', 'I-AGRE', 'B-MISC', 'B-MISC', 'I-MISC', 'I-MISC', 'B-MISC', 'I-MISC', 'I-MISC', 'B-MISC', 'I-MISC', 'B-MISC', 'B-MISC', 'I-MISC', 'B-MISC', 'I-MISC', 'B-MISC', 'I-MISC', 'B-MISC', 'B-MISC', 'B-MISC', 'I-MISC', 'I-MISC', 'B-MISC', 'B-MISC', 'I-MISC', 'B-MISC', 'I-MISC', 'I-MISC', 'B-AGRE', 'I-AGRE', 'B-AGRE', 'I-AGRE', 'B-MISC', 'I-MISC', 'I-MISC', 'B-AGRE', 'I-AGRE', 'I-AGRE', 'B-MISC', 'I-MISC', 'B-MISC', 'B-AGRE', 'I-AGRE', 'B-MISC', 'I-MISC', 'I-MISC', 'B-MISC', 'I-MISC', 'B-AGRE', 'I-AGRE', 'B-ORG', 'I-ORG', 'B-MISC', 'I-MISC', 'B-MISC', 'B-MISC', 'I-MISC', 'B-MISC', 'I-MISC', 'B-CURR', 'I-CURR', 'I-CURR', 'B-MISC', 'I-MISC', 'I-MISC', 'B-MISC', 'I-MISC', 'B-MISC', 'I-MISC', 'B-MISC', 'I-MISC', 'B-MISC', 'I-MISC', 'B-MISC', 'B-MISC', 'I-MISC', 'B-AGRE', 'I-AGRE', 'I-AGRE', 'B-ORG', 'I-ORG', 'B-ORG', 'I-ORG', 'B-MISC', 'I-MISC', 'B-MISC', 'B-MISC', 'I-MISC', 'B-ORG', 'I-ORG', 'B-MISC', 'B-ORG', 'I-ORG', 'B-MISC', 'B-ORG', 'I-ORG', 'B-MISC', 'B-ORG', 'I-ORG', 'B-MISC', 'B-MISC', 'I-MISC', 'B-MISC', 'B-ORG', 'I-ORG', 'B-MISC', 'I-MISC', 'B-AGRE', 'I-AGRE', 'I-AGRE', 'B-ORG', 'I-ORG', 'B-ORG', 'I-ORG', 'B-MISC', 'I-MISC', 'B-ORG', 'I-ORG', 'B-ORG', 'I-ORG', 'B-ORG', 'I-ORG', 'B-MISC', 'B-AGRE', 'I-AGRE', 'B-ORG', 'I-ORG', 'B-ORG', 'I-ORG', 'B-MISC', 'B-MISC', 'I-MISC', 'B-MISC', 'B-MISC', 'I-MISC', 'B-MISC', 'I-MISC', 'B-AGRE', 'I-AGRE', 'B-ORG', 'I-ORG', 'B-MISC', 'I-MISC', 'B-MISC', 'I-MISC', 'B-MISC', 'I-MISC', 'B-ORG', 'I-ORG', 'B-MISC', 'I-MISC', 'B-MISC', 'I-MISC', 'B-MISC', 'I-MISC', 'B-MISC', 'B-MISC', 'I-MISC', 'I-MISC', 'B-MISC', 'B-MISC', 'I-MISC', 'I-MISC', 'B-MISC', 'I-MISC', 'B-MISC', 'I-MISC', 'B-AGRE', 'I-AGRE', 'I-AGRE', 'B-AGRE', 'I-AGRE', 'B-MISC']\n"
          ]
        }
      ]
    },
    {
      "cell_type": "code",
      "source": [
        "dictionary=dict(zip(tokens,named_tags))"
      ],
      "metadata": {
        "id": "pC1oDxt8CaKW"
      },
      "execution_count": 164,
      "outputs": []
    },
    {
      "cell_type": "code",
      "source": [
        "print(dictionary)"
      ],
      "metadata": {
        "colab": {
          "base_uri": "https://localhost:8080/"
        },
        "id": "LtyqdVwsDiwY",
        "outputId": "4244ec8e-4b7f-4656-9484-e9089ce88e76"
      },
      "execution_count": 165,
      "outputs": [
        {
          "output_type": "stream",
          "name": "stdout",
          "text": [
            "{'Inveniam': 'B-ORG', 'Private': 'I-ORG', 'Equity': 'B-MISC', 'Fund': 'I-ORG', 'Demo': 'I-MISC', 'IV.': 'I-MISC', '8500': 'B-LOC', 'World': 'I-LOC', 'Trade': 'I-LOC', 'New': 'B-LOC', 'York': 'I-LOC', '10022': 'I-LOC', 'January': 'B-DATE', '1': 'I-DATE', '2019': 'I-DATE', 'Maria': 'B-PER', 'Sharapova': 'B-PER', '31': 'B-LOC', 'Blandford': 'I-LOC', 'Street': 'I-LOC', 'London': 'I-LOC', 'IV': 'I-MISC', 'Delaware': 'B-ORG', 'limited': 'B-MISC', 'partnership': 'I-AGRE', 'letter': 'B-AGRE', 'agreement': 'I-AGRE', '\"Letter': 'B-AGRE', 'Agreement\"': 'I-AGRE', '\"Investor\"': 'B-MISC', 'Amended': 'B-AGRE', 'Restated': 'I-AGRE', 'Limited': 'B-MISC', 'Partnership': 'I-AGRE', 'Agreement': 'I-AGRE', 'August': 'B-DATE', '27': 'I-DATE', '2021': 'I-DATE', '\"Limited': 'B-AGRE', 'Subscription': 'I-AGRE', 'Investor': 'B-MISC', '\"Subscription': 'B-AGRE', '$': 'B-CURR', '50,000,000': 'I-CURR', '\"Capital': 'B-AGRE', 'Commitment\"': 'I-AGRE', 'Capital': 'I-MISC', 'Partners': 'I-MISC', 'GP': 'I-ORG', 'L.L.C.': 'I-ORG', 'liability': 'I-ORG', 'company': 'I-ORG', '\"General': 'B-MISC', 'Partner\"': 'I-MISC', '0.85': 'B-MISC', '%': 'I-MISC', 'General': 'B-MISC', 'Partner': 'I-MISC', 'Other': 'B-AGRE', 'Agreements': 'I-AGRE', 'Comparable': 'B-MISC', 'Investors': 'B-MISC', '\"Sister': 'B-ORG', 'Fund\"': 'I-ORG', 'Overseas': 'B-MISC', 'L.P.': 'B-MISC', '\"SFRO': 'B-ORG', 'Feeder\"': 'I-ORG', 'Agreements\"': 'I-MISC', 'Letter': 'B-AGRE', '30': 'B-TIME', 'days': 'I-TIME', 'Agreement.': 'I-AGRE', 'Third': 'B-MISC', 'Party': 'I-MISC', 'DOC': 'B-MISC', 'ID': 'I-MISC', '36972123.18': 'I-MISC', 'Sister': 'B-ORG', 'SFRO': 'B-ORG', 'Feeder': 'I-ORG', 'Advisory': 'B-ORG', 'Board': 'I-ORG', \"Investor's\": 'B-AGRE', '\"Comparable': 'B-MISC', 'Investor\"': 'I-MISC', 'twenty-five': 'B-MISC', 'percent': 'I-MISC', '25': 'B-MISC', 'U.S.': 'B-LOC', '\"Other': 'B-MISC', 'partners': 'I-MISC', 'Feeder.': 'I-ORG', '\"Third': 'B-MISC', 'Management': 'B-ORG', 'Company': 'I-ORG', 'co-manager': 'B-PER', 'co-adviser': 'B-PER', 'investment': 'B-ORG', 'committee': 'I-ORG', '50': 'I-CURR', 'million': 'I-CURR', 'Commitment': 'I-MISC', 'Section': 'B-MISC', '3': 'I-MISC', 'Commitments': 'I-MISC', 'Agreements.': 'I-AGRE', 'Board.': 'I-ORG', '5.6': 'I-MISC', '\"Advisory': 'B-ORG', 'Board\"': 'I-ORG', '5': 'I-MISC', 'Partner.': 'I-MISC', '14.2': 'I-MISC', 'indemnification': 'B-AGRE', 'Fund.': 'I-ORG', 'Lockheed': 'B-MISC', \"Partner's\": 'I-MISC', 'anti-money': 'B-MISC', 'laundering': 'I-MISC', 'AML': 'B-MISC', 'know': 'B-MISC', 'your': 'I-MISC', 'customer': 'I-MISC', 'KYC': 'B-MISC'}\n"
          ]
        }
      ]
    },
    {
      "cell_type": "code",
      "source": [
        "\n"
      ],
      "metadata": {
        "id": "ajNOJiwyDr3K"
      },
      "execution_count": 165,
      "outputs": []
    },
    {
      "cell_type": "code",
      "source": [
        "\n"
      ],
      "metadata": {
        "id": "NjzRkBNTIVXP"
      },
      "execution_count": 165,
      "outputs": []
    },
    {
      "cell_type": "code",
      "source": [
        "all_tokens=text.split(\" \")\n",
        "named_label=[]\n",
        "number_label=[]"
      ],
      "metadata": {
        "id": "gAec-diLIYd9"
      },
      "execution_count": 166,
      "outputs": []
    },
    {
      "cell_type": "code",
      "source": [
        "for token in all_tokens:\n",
        "  if token not in dictionary:\n",
        "    named_label.append(\"NONE\")\n",
        "  else:\n",
        "    named_label.append(dictionary[token])"
      ],
      "metadata": {
        "id": "xUcEET_tJG0Q"
      },
      "execution_count": 167,
      "outputs": []
    },
    {
      "cell_type": "code",
      "source": [
        "for label in named_label:\n",
        "  number_label.append(classes_dict[label])"
      ],
      "metadata": {
        "id": "EVi2Ye-JL17j"
      },
      "execution_count": 168,
      "outputs": []
    },
    {
      "cell_type": "code",
      "source": [
        "print(\"anno_dict\",dictionary)\n",
        "print(\"tokens\",all_tokens)\n",
        "print(\"named_label\", named_label)\n",
        "print(\"number\",number_label)"
      ],
      "metadata": {
        "colab": {
          "base_uri": "https://localhost:8080/"
        },
        "id": "uQhQNPNiMi5X",
        "outputId": "2de7fc1e-5505-4169-8539-a5b920c069d2"
      },
      "execution_count": 169,
      "outputs": [
        {
          "output_type": "stream",
          "name": "stdout",
          "text": [
            "anno_dict {'Inveniam': 'B-ORG', 'Private': 'I-ORG', 'Equity': 'B-MISC', 'Fund': 'I-ORG', 'Demo': 'I-MISC', 'IV.': 'I-MISC', '8500': 'B-LOC', 'World': 'I-LOC', 'Trade': 'I-LOC', 'New': 'B-LOC', 'York': 'I-LOC', '10022': 'I-LOC', 'January': 'B-DATE', '1': 'I-DATE', '2019': 'I-DATE', 'Maria': 'B-PER', 'Sharapova': 'B-PER', '31': 'B-LOC', 'Blandford': 'I-LOC', 'Street': 'I-LOC', 'London': 'I-LOC', 'IV': 'I-MISC', 'Delaware': 'B-ORG', 'limited': 'B-MISC', 'partnership': 'I-AGRE', 'letter': 'B-AGRE', 'agreement': 'I-AGRE', '\"Letter': 'B-AGRE', 'Agreement\"': 'I-AGRE', '\"Investor\"': 'B-MISC', 'Amended': 'B-AGRE', 'Restated': 'I-AGRE', 'Limited': 'B-MISC', 'Partnership': 'I-AGRE', 'Agreement': 'I-AGRE', 'August': 'B-DATE', '27': 'I-DATE', '2021': 'I-DATE', '\"Limited': 'B-AGRE', 'Subscription': 'I-AGRE', 'Investor': 'B-MISC', '\"Subscription': 'B-AGRE', '$': 'B-CURR', '50,000,000': 'I-CURR', '\"Capital': 'B-AGRE', 'Commitment\"': 'I-AGRE', 'Capital': 'I-MISC', 'Partners': 'I-MISC', 'GP': 'I-ORG', 'L.L.C.': 'I-ORG', 'liability': 'I-ORG', 'company': 'I-ORG', '\"General': 'B-MISC', 'Partner\"': 'I-MISC', '0.85': 'B-MISC', '%': 'I-MISC', 'General': 'B-MISC', 'Partner': 'I-MISC', 'Other': 'B-AGRE', 'Agreements': 'I-AGRE', 'Comparable': 'B-MISC', 'Investors': 'B-MISC', '\"Sister': 'B-ORG', 'Fund\"': 'I-ORG', 'Overseas': 'B-MISC', 'L.P.': 'B-MISC', '\"SFRO': 'B-ORG', 'Feeder\"': 'I-ORG', 'Agreements\"': 'I-MISC', 'Letter': 'B-AGRE', '30': 'B-TIME', 'days': 'I-TIME', 'Agreement.': 'I-AGRE', 'Third': 'B-MISC', 'Party': 'I-MISC', 'DOC': 'B-MISC', 'ID': 'I-MISC', '36972123.18': 'I-MISC', 'Sister': 'B-ORG', 'SFRO': 'B-ORG', 'Feeder': 'I-ORG', 'Advisory': 'B-ORG', 'Board': 'I-ORG', \"Investor's\": 'B-AGRE', '\"Comparable': 'B-MISC', 'Investor\"': 'I-MISC', 'twenty-five': 'B-MISC', 'percent': 'I-MISC', '25': 'B-MISC', 'U.S.': 'B-LOC', '\"Other': 'B-MISC', 'partners': 'I-MISC', 'Feeder.': 'I-ORG', '\"Third': 'B-MISC', 'Management': 'B-ORG', 'Company': 'I-ORG', 'co-manager': 'B-PER', 'co-adviser': 'B-PER', 'investment': 'B-ORG', 'committee': 'I-ORG', '50': 'I-CURR', 'million': 'I-CURR', 'Commitment': 'I-MISC', 'Section': 'B-MISC', '3': 'I-MISC', 'Commitments': 'I-MISC', 'Agreements.': 'I-AGRE', 'Board.': 'I-ORG', '5.6': 'I-MISC', '\"Advisory': 'B-ORG', 'Board\"': 'I-ORG', '5': 'I-MISC', 'Partner.': 'I-MISC', '14.2': 'I-MISC', 'indemnification': 'B-AGRE', 'Fund.': 'I-ORG', 'Lockheed': 'B-MISC', \"Partner's\": 'I-MISC', 'anti-money': 'B-MISC', 'laundering': 'I-MISC', 'AML': 'B-MISC', 'know': 'B-MISC', 'your': 'I-MISC', 'customer': 'I-MISC', 'KYC': 'B-MISC'}\n",
            "tokens ['EXECUTION', 'VERSION', 'Inveniam', 'Private', 'Equity', 'Fund', 'Demo', 'IV.', '.', '8500', 'World', 'Trade', 'New', 'York,', 'New', 'York', '10022', 'January', '1,', '2019', 'Maria', 'Sharapova', '31', 'Blandford', 'Street', 'London,', 'W1U', '3DN', 'Ladies', 'and', 'Gentlemen:', 'RE:', 'Inveniam', 'Private', 'Equity', 'Fund', 'Demo', 'IV,', 'a', 'Delaware', 'limited', 'partnership', '(the', '\"Fund\")', 'This', 'letter', 'agreement', '(this', '\"Letter', 'Agreement\")', 'is', 'entered', 'into', 'in', 'connection', 'with', 'the', 'purchase', 'by', 'Sharapova', '(the', '\"Investor\")', 'of', 'a', 'limited', 'partnership', 'interest', 'in', 'the', 'Fund.', 'Capitalized', 'terms', 'used', 'and', 'not', 'defined', 'herein', 'shall', 'have', 'the', 'meanings', 'given', 'to', 'them', 'in', 'the', 'Fourth', 'Amended', 'and', 'Restated', 'Limited', 'Partnership', 'Agreement', 'of', 'the', 'Fund', 'dated', 'as', 'of', 'August', '27,', '2021', '(the', '\"Limited', 'Partnership', 'Agreement\"),', 'the', 'Subscription', 'Agreement', 'between', 'the', 'Investor', 'and', 'the', 'Fund', 'dated', 'as', 'of', 'the', 'date', 'hereof', '(the', '\"Subscription', 'Agreement\"),', 'including', 'any', 'amendments', 'and', 'supplements', 'to', 'all', 'of', 'the', 'foregoing', '(collectively,', 'the', '\"Fund', 'Documents\").', 'In', 'consideration', 'for', 'the', 'Investor', 'making', 'an', 'aggregate', 'capital', 'commitment', 'of', 'at', 'least', '$50,000,000', 'as', 'of', 'the', 'date', 'hereof', '(the', '\"Capital', 'Commitment\"),', 'Inveniam', 'Capital', 'Partners', 'GP,', 'L.L.C.,', 'a', 'Delaware', 'limited', 'liability', 'company', '(the', '\"General', 'Partner\"),', 'in', 'its', 'capacity', 'as', 'the', 'general', 'partner', 'of', 'the', 'Fund,', 'agrees', 'with', 'the', 'Investor', 'as', 'follows:', '1.', 'Reduced', 'Management', 'Fee', 'Rate.', 'If', 'the', 'Investor', 'has', 'submitted', 'a', 'withdrawal', 'request', 'and', 'the', 'amount', 'of', 'such', 'withdrawal', 'request', 'has', 'not', 'been', 'fully', 'paid', 'to', 'the', 'Investor', 'by', 'the', 'January', '1,', '2019', 'of', 'the', 'applicable', 'Withdrawal', 'Date,', 'the', 'Management', 'Fee', 'charged', 'to', 'the', 'Investor', 'with', 'respect', 'to', 'the', 'amount', 'that', 'has', 'not', 'been', 'paid', 'will', 'be', 'reduced', 'in', 'accordance', 'with', 'the', 'following', 'schedule', 'until', 'any', 'such', 'unsatisfied', 'withdrawal', 'request', 'will', 'be', '0.85%', 'Page', '2', '-2-', '2.', 'Most', 'Favored', 'Nation.', 'The', 'General', 'Partner', 'shall', 'disclose', 'to', 'the', 'Investor', 'any', 'and', 'all', 'Other', 'Agreements', '(which', 'may', 'be', 'redacted', 'to', 'remove', 'identifying', 'information)', 'with', 'Comparable', 'Investors', 'admitted', 'to', 'the', 'Fund,', 'Inveniam', 'Private', 'Equity', 'Fund', 'Demo', 'IV.', '(the', '\"Sister', 'Fund\")', 'and/or', 'AC', 'Partners', 'Overseas', 'Partners,', 'L.P.', '(the', '\"SFRO', 'Feeder\")', 'entered', 'into', 'after', 'the', 'date', 'hereof', '(all', 'such', 'Other', 'Agreements', 'with', 'Comparable', 'Investors,', '\"Applicable', 'Other', 'Agreements\"),', 'and,', 'to', 'the', 'extent', 'any', 'Applicable', 'Other', 'Agreement', 'entered', 'into', 'with', 'any', 'Comparable', 'Investor', 'has', 'the', 'effect', 'of', 'establishing', 'rights', 'or', 'otherwise', 'benefiting', 'such', 'other', 'Comparable', 'Investor', 'in', 'a', 'manner', 'more', 'favorable', 'to', 'such', 'Comparable', 'Investor', 'than', 'the', 'rights', 'and', 'benefits', 'established', 'in', 'favor', 'of', 'the', 'Investor', 'by', 'this', 'Letter', 'Agreement', 'and', 'the', 'Limited', 'Partnership', 'Agreement,', 'the', 'Investor', 'shall,', 'upon', 'request', 'to', 'the', 'General', 'Partner', 'made', 'within', '30', 'days', 'of', 'being', 'notified', 'of', 'the', 'terms', 'of', 'such', 'Applicable', 'Other', 'Agreements,', 'receive', 'the', 'same', 'rights', 'and', 'benefits', 'of', 'such', 'Applicable', 'Other', 'Agreement', '(the', '\"Relevant', 'Terms\")', 'and', 'are', 'so', 'requested,', 'but', 'only', 'if', 'the', 'Investor', 'agrees', 'to', 'be', 'bound', 'by', 'the', 'obligations', 'or', 'restrictions', 'in', 'such', 'Applicable', 'Other', 'Agreement', 'directly', 'relating', 'to', 'the', 'Relevant', 'Terms;', 'provided,', 'however,', 'that', 'Relevant', 'Terms', 'shall', 'exclude', 'any', '\"most', 'favored', 'nation\"', 'rights', 'granted', 'in', 'any', 'Applicable', 'Other', 'Agreement.', 'For', 'the', 'avoidance', 'of', 'doubt,', 'Relevant', 'Terms', 'do', 'not', 'include', 'rights', 'or', 'benefits', 'that', '(1)', 'are', 'granted', 'to', 'any', 'Third', 'Party', 'Investor', 'in', 'connection', 'with', 'such', 'Third', 'Party', \"Investor's\", 'legal,', 'regulatory', 'or', 'tax', 'status', 'that', 'is', 'not', 'DOC', 'ID', '-', '36972123.18', '-3-', 'Page', '3', 'shared', 'by,', 'nor', 'applicable', 'to,', 'the', 'Investor', 'or', 'is', 'otherwise', 'based', 'upon', 'laws,', 'rules', 'or', 'regulations', 'applicable', 'to', 'such', 'Third', 'Party', 'Investor', 'to', 'which', 'the', 'Investor', 'is', 'not', 'also', 'subject,', '(2)', 'are', 'granted', 'based', 'on', 'a', 'requirement', 'under', 'a', 'formal', 'written', 'policy', 'of', 'such', 'Third', 'Party', 'Investor', 'unrelated', 'to', 'its', 'investment', 'in', 'the', 'Fund,', 'the', 'Sister', 'Fund', 'or', 'the', 'SFRO', 'Feeder,', 'to', 'which', 'the', 'Investor', 'is', 'also', 'not', 'subject,', '(3)', 'relate', 'to', 'any', 'representation', 'by', 'such', 'Third', 'Party', 'Investor', 'on,', 'or', 'any', 'observer', 'rights', 'with', 'respect', 'to,', 'the', 'Advisory', 'Board', '(including,', 'without', 'limitation,', 'designation', 'of', 'a', 'representative', 'to', 'serve', 'as', 'a', 'member', 'of', 'the', 'Advisory', 'Board', 'or', 'attend', 'meetings', 'of', 'the', 'Advisory', 'Board', 'or', 'receive', 'or', 'have', 'access', 'to', 'any', 'materials', 'provided', 'to', 'the', 'Advisory', 'Board),', 'unless', 'the', 'Limited', 'Partner', 'to', 'which', 'such', 'Applicable', 'Other', 'Agreement', 'is', 'disclosed', 'has', 'also', 'designated', 'a', 'member', 'of', 'the', 'Advisory', 'Board', 'or', '(4)', 'are', 'based', 'upon', 'such', 'Third', 'Party', \"Investor's\", 'place', 'of', 'organization', 'or', 'headquarters', 'or', 'organizational', 'form', '(in', 'each', 'case,', 'if', 'different', 'from', 'that', 'of', 'the', 'Investor).', 'As', 'used', 'herein,', 'the', 'following', 'terms', 'shall', 'have', 'the', 'following', 'meanings:', '\"Comparable', 'Investor\"', 'shall', 'mean', 'any', 'Third', 'Party', 'Investor', 'having', 'a', 'Capital', 'Commitment', 'to', 'the', 'Fund,', 'the', 'Sister', 'Fund', 'or', 'the', 'SFRO', 'Feeder', 'equal', 'to', 'or', 'less', 'than', 'the', \"Investor's\", 'aggregate', 'Capital', 'Commitment', 'to', 'the', 'Fund,', 'the', 'Sister', 'Fund', 'or', 'the', 'SFRO', 'Feeder;', 'provided', 'that', 'for', 'purposes', 'of', 'determining', 'whether', 'any', 'Third', 'Party', 'Investor', 'is', 'a', 'Comparable', 'Investor,', 'the', 'investment', 'of', 'such', 'Third', 'Party', 'Investor', 'in', 'the', 'Fund,', 'the', 'Sister', 'Fund', 'or', 'the', 'SFRO', 'Feeder', 'may,', 'in', 'the', 'discretion', 'of', 'the', 'General', 'Partner,', 'be', 'aggregated', 'with', 'the', 'aggregate', 'amount', 'of', 'Capital', 'Commitments', 'to', 'the', 'Fund,', 'the', 'Sister', 'Fund', 'or', 'the', 'SFRO', 'Feeder', 'by', 'any', 'Affiliates', 'thereof', 'and', 'any', 'other', 'related', 'Persons', 'thereof', '(including', 'any', 'such', 'Persons', 'treated', 'as', 'affiliated', 'or', 'related', 'for', 'such', 'purposes', 'as', 'a', 'result', 'of', 'being', 'clients', 'of,', 'or', 'otherwise', 'managed', 'or', 'advised', 'by,', 'the', 'same', 'Person', 'or', 'by', 'an', 'Affiliate', 'thereof)', 'and', 'the', 'aggregate', 'amount', 'of', 'any', 'requested', 'subscription', 'amounts', 'of', 'the', 'Third', 'Party', 'Investor', 'or', 'any', 'of', 'the', 'foregoing', 'which', 'were', 'not', 'accepted', 'due', 'to', 'legal', 'or', 'regulatory', 'limitations', '(including,', 'without', 'limitation,', 'in', 'order', 'to', 'ensure', 'that', 'the', 'aggregate', 'direct', 'and', 'indirect', 'Capital', 'Commitments', 'by', 'all', 'Benefit', 'Plan', 'Investors', 'to', 'the', 'Fund,', 'the', 'Sister', 'Fund', 'or', 'the', 'SFRO', 'Feeder', 'are', 'less', 'than', 'twenty-five', 'percent', '(25%)', 'of', 'the', 'total', 'Capital', 'Commitments', 'to', 'such', 'vehicle),', 'in', 'each', 'case,', 'to', 'the', 'extent', 'deemed', 'to', 'have', 'been', 'made', 'by', 'such', 'Third', 'Party', 'Investor', 'for', 'purposes', 'of', 'its', 'Other', 'Agreement', 'as', 'so', 'designated', 'therein;', 'A', 'Third', 'Party', 'Investor', 'that', 'has', 'materially', 'less', 'U.S.', 'ownership', 'than', 'another', 'Third', 'Party', 'Investor', 'will', 'not', 'be', 'considered', 'a', 'Comparable', 'Investor', 'with', 'respect', 'to', 'such', 'other', 'Third', 'Party', 'Investor', 'solely', 'for', 'economic', 'purposes.', 'For', 'example,', 'a', 'Third', 'Party', 'Investor', 'making', 'a', 'Capital', 'Commitment', 'comprised', 'of', '25%', 'more', 'U.S.', 'ownership', 'than', 'another', 'Third', 'Party', 'Investor', 'making', 'a', 'Capital', 'Commitment', 'of', 'the', 'same', 'size', 'would', 'not', 'be', 'considered', 'Comparable', 'Investors', 'for', 'economic', 'purposes.', '\"Other', 'Agreements\"', 'shall', 'mean', 'side', 'letters', 'or', 'similar', 'agreements', 'with', 'Limited', 'Partners', 'of', 'the', 'Fund,', 'the', 'limited', 'partners', 'of', 'the', 'Sister', 'Fund', 'or', 'the', 'limited', 'partners', 'of', 'the', 'SFRO', 'Feeder.', '\"Third', 'Party', 'Investor\"', 'means', 'any', 'Person', 'that', 'subscribes', 'to', 'or', 'invests', 'in', 'the', 'Fund,', 'the', 'Sister', 'Fund', 'or', 'the', 'SFRO', 'Feeder', 'other', 'than:', '(i)', 'any', 'current', 'or', 'former', '(x)', 'member,', 'partner,', 'director,', 'officer,', 'employee,', 'principal,', 'or', 'consultant', '(provided', 'such', 'consultant', 'is', 'generally', 'subject', 'to', 'AC', \"Partners'\", 'compliance', 'policies)', 'of', 'the', 'General', 'Partner,', 'the', 'Management', 'Company', 'or', 'any', 'of', 'their', 'Affiliates,', 'or', '(y)', 'any', 'Related', 'Investor,', 'or', 'other', 'account,', 'trust,', 'partnership', 'or', 'entity', 'primarily', 'for', 'the', 'benefit', 'of', 'any', 'of', 'the', 'foregoing', 'or', 'any', 'of', 'their', 'families;', '(ii)', 'any', 'Person', '(or', 'any', 'Persons', 'DOC', 'ID', '-', '36972123.18', '-4-', 'Page', '4', 'affiliated', 'with', 'or', 'related', 'to', 'such', 'Person)', 'including,', 'without', 'limitation,', 'one', 'individual', 'who', 'may', 'assist', 'in', 'raising', 'capital', 'through', 'such', \"individual's\", \"employer's\", 'private', 'client', 'platform', '(subject', 'to', 'applicable', 'law', 'and', 'such', \"individual's\", \"employer's\", 'policies', 'and', 'procedures', 'around', 'making', 'such', 'investments)', 'that', 'is', 'a', 'current', 'or', 'former', 'joint', 'venture', 'partner', 'or', 'strategic', 'partner', 'of,', 'or', 'co-manager', 'or', 'co-adviser', 'with,', 'the', 'General', 'Partner,', 'the', 'Management', 'Company', 'or', 'any', 'of', 'their', 'Affiliates,', '(iii)', 'any', 'Person', '(or', 'any', 'Persons', 'affiliated', 'with', 'or', 'related', 'to', 'such', 'Person)', 'currently', 'or', 'previously', 'serving', 'or', 'having', 'representatives', 'on', 'any', 'investment', 'committee', '(or', 'similar', 'body', 'or', 'structure', 'exercising', 'investment', 'discretion)', 'of', 'the', 'Fund,', 'the', 'Sister', 'Fund', 'or', 'of', 'any', 'investment', 'fund,', 'vehicle', 'or', 'account', 'co-managed', 'or', 'co-advised', 'by', 'the', 'General', 'Partner,', 'the', 'Management', 'Company', 'or', 'any', 'of', 'their', 'Affiliates,', 'or', '(iv)', 'any', 'subsequent', 'successor,', 'heir', 'or', 'assign', 'of', 'the', 'foregoing.', '3.', 'Capital', 'Commitments', 'by', 'Benefit', 'Plan', 'Investors.', 'The', 'parties', 'hereto', 'acknowledge', 'that', 'the', 'Investor', 'has', 'submitted', 'a', 'Subscription', 'Agreement', 'on', 'or', 'prior', 'to', 'the', 'date', 'hereof', 'requesting', 'an', 'aggregate', 'Capital', 'Commitment', 'of', '$50', 'million', '(the', '\"Requested', 'Commitment\"),', 'and', 'the', 'Investor', 'shall', 'be', 'deemed', 'to', 'have', 'such', 'Capital', 'Commitment', 'for', 'purposes', 'of', 'this', 'Letter', 'Agreement.', 'Notwithstanding', 'the', 'foregoing,', 'the', 'parties', 'hereto', 'agree', 'that,', 'in', 'the', 'sole', 'discretion', 'of', 'the', 'General', 'Partner,', 'the', 'Fund', 'shall', 'accept', 'less', 'than', 'the', 'full', 'amount', 'of', 'the', \"Investor's\", 'Requested', 'Commitment', 'on', 'the', 'date', 'hereof', 'in', 'order', 'to', 'ensure', 'that', 'the', 'aggregate', 'direct', 'and', 'indirect', 'capital', 'commitments', 'by', 'all', 'Benefit', 'Plan', 'Investors', 'to', 'the', 'Fund', 'are', 'less', 'than', '25%', 'of', 'the', 'total', 'capital', 'commitments', 'to', 'the', 'Fund', '(excluding', 'any', 'capital', 'commitments', 'by', 'the', 'General', 'Partner', 'or', 'its', 'Affiliates', 'to', 'the', 'Fund', 'or', 'the', 'SFRO', 'Feeder).', 'In', 'such', 'event,', 'at', 'each', 'subsequent', 'Closing', 'following', 'the', 'date', 'hereof,', 'the', 'General', 'Partner', 'shall', 'accept', 'additional', 'portions', 'of', 'the', 'remaining', 'Requested', 'Commitment', 'of', 'the', 'Investor', '(each,', 'an', '\"Adjustment\")', 'if', 'and', 'to', 'the', 'extent', 'that', 'the', 'General', 'Partner,', 'in', 'its', 'sole', 'discretion,', 'determines', 'that', 'doing', 'so', 'would', 'not', 'cause', 'the', 'aggregate', 'direct', 'and', 'indirect', 'capital', 'commitments', 'by', 'all', 'Benefit', 'Plan', 'Investors', 'to', 'the', 'Fund', 'to', 'exceed', '25%', 'of', 'the', 'total', 'capital', 'commitments', 'to', 'the', 'Fund', '(excluding', 'any', 'capital', 'commitments', 'by', 'the', 'General', 'Partner', 'or', 'its', 'Affiliates', 'to', 'the', 'Fund', 'or', 'the', 'SFRO', 'Feeder).', 'Such', 'Adjustments', 'shall', 'be', 'accepted', 'by', 'the', 'General', 'Partner', 'on', 'not', 'less', 'than', 'a', 'pro', 'rata', 'basis', 'with', 'any', 'similar', 'adjustments', 'for', 'any', 'other', 'Benefit', 'Plan', 'Investors', 'whose', 'requested', 'Capital', 'Commitment', 'was', 'not', 'accepted', 'in', 'full', 'on', 'or', 'prior', 'to', 'the', 'date', 'hereof.', 'Notwithstanding', 'the', 'foregoing,', 'at', 'one', 'or', 'more', 'subsequent', 'Closings,', 'the', 'General', 'Partner', 'may', 'admit', 'any', 'other', 'Benefit', 'Plan', 'Investor', 'as', 'a', 'Limited', 'Partner', 'and', 'enter', 'into', 'an', 'Other', 'Agreement', 'with', 'such', 'Benefit', 'Plan', 'Investor', 'that', 'provides', 'for', 'the', 'acceptance', 'of', 'such', 'Benefit', 'Plan', \"Investor's\", 'Capital', 'Commitment', 'on', 'a', 'similarly', 'conditional', 'basis,', 'provided', 'that', 'the', \"Fund's\", 'acceptance', 'of', 'such', 'Benefit', 'Plan', \"Investor's\", 'Capital', 'Commitment', 'in', 'full', 'is', 'only', 'to', 'the', 'extent', 'that', 'such', 'Capital', 'Commitment', 'is', 'later', 'in', 'priority', 'to', 'the', 'acceptance', 'of', 'the', \"Investor's\", 'Requested', 'Commitment.', 'Other', 'than', 'as', 'set', 'forth', 'in', 'this', 'Section', '3,', 'the', 'General', 'Partner', 'shall', 'not', 'accept', 'Capital', 'Commitments', 'from', 'any', 'Benefit', 'Plan', 'Investors', 'until', 'such', 'time', 'as', 'the', 'entire', 'amount', 'of', 'the', 'Requested', 'Commitment', 'has', 'been', 'accepted.', 'For', 'the', 'avoidance', 'of', 'doubt,', '(i)', 'the', 'Requested', 'Commitment', 'shall', 'be', 'irrevocable', 'by', 'the', 'Investor', 'and', '(ii)', 'the', 'Investor', 'shall', 'be', 'obligated', 'to', 'fund', 'each', 'portion', 'of', 'the', 'Requested', 'Commitment', 'that', 'is', 'accepted', 'by', 'the', 'Fund', 'at', 'each', 'subsequent', 'Closing.', 'Further,', 'for', 'purposes', 'of', 'determining', 'the', 'Lock-Up', 'and', 'the', 'Commitment', 'Lock-Up', 'Expiration', 'Date', 'applicable', 'to', 'the', \"Investor's\", 'Capital', 'Commitment,', 'the', 'Investor', 'shall', 'be', 'deemed', 'to', 'have', 'made', 'its', 'entire', 'Capital', 'Commitment', 'as', 'of', 'the', 'date', 'hereof.', 'DOC', 'ID', '-', '36972123.18', '-5-', 'Page', '5', '4.', 'Other', 'Agreements.', 'For', 'so', 'long', 'as', 'the', 'Investor', 'holds', 'an', 'Interest', 'in', 'the', 'Fund,', 'to', 'the', 'extent', 'that', 'any', 'Other', 'Agreement', 'is', 'entered', 'into', 'with', 'a', 'Third', 'Party', 'Investor', 'with', 'respect', 'to', 'its', 'interest', 'in', 'the', 'Fund,', 'and', 'a', 'copy', 'of', 'such', 'Other', 'Agreement', 'is', 'not', 'required', 'to', 'be', 'provided', 'to', 'the', 'Investor', 'pursuant', 'to', 'Section', '2', 'above,', 'then', 'in', 'such', 'event,', 'the', 'General', 'Partner', 'shall', 'provide', 'to', 'the', 'Investor', 'a', 'copy', 'of', 'such', 'Other', 'Agreement', '(which', 'such', 'copy', 'may', 'be', 'redacted', 'for', 'any', 'identifying', 'information', 'with', 'respect', 'to', 'the', 'Third', 'Party', 'Investor', 'or', 'any', 'other', 'information', 'not', 'relevant', 'hereto)', 'unless', 'the', 'General', 'Partner', 'is', 'otherwise', 'restricted', 'by', 'confidentiality', 'or', 'non-', 'disclosure', 'obligations', 'with', 'respect', 'to', 'the', 'provision', 'of', 'such', 'Other', 'Agreement.', '5.', 'Advisory', 'Board.', 'In', 'consideration', 'of', 'the', \"Investor's\", 'admission', 'as', 'a', 'Limited', 'Partner', 'and', 'for', 'so', 'long', 'as', 'the', 'Investor', 'is', 'a', 'Limited', 'Partner', 'in', 'the', 'Fund', 'and', 'maintains', 'a', 'Capital', 'Commitment', 'of', 'at', 'least', '$50', 'million', '(or', 'such', 'lesser', 'aggregate', 'amount', 'of', 'the', \"Investor's\", 'Capital', 'Commitment', 'that', 'has', 'been', 'accepted', 'by', 'the', 'General', 'Partner', 'in', 'accordance', 'with', 'Section', '3', 'above', 'as', 'of', 'the', 'relevant', 'date),', 'and', 'is', 'not', 'a', 'Defaulting', 'Limited', 'Partner,', 'the', 'General', 'Partner', 'agrees', 'that', 'the', 'Investor', 'shall', 'be', 'entitled', 'to', 'designate', 'one', 'member', 'to', 'serve', 'on', 'a', 'committee', 'of', 'the', 'Fund', 'established', 'pursuant', 'to', 'Section', '5.6', 'of', 'the', 'Limited', 'Partnership', 'Agreement', '(the', '\"Advisory', 'Board\").', 'The', 'appointment', 'of', 'an', 'Advisory', 'Board', 'member', 'pursuant', 'to', 'this', 'Section', '5', 'shall', 'be', 'effective', 'upon', 'written', 'notice', 'from', 'the', 'Investor', 'to', 'the', 'Fund', 'of', 'the', 'name', 'and', 'contact', 'information', 'of', 'the', 'individual', 'so', 'appointed.', 'If', 'the', 'individual', 'appointed', 'pursuant', 'this', 'Section', '5', 'to', 'act', 'as', 'the', 'Advisory', 'Board', 'member', 'is', 'no', 'longer', 'affiliated', 'with', 'the', 'Investor,', 'or', 'no', 'longer', 'able', 'or', 'willing', 'to', 'act', 'as', 'the', 'Advisory', 'Board', 'member,', 'the', 'Investor', 'shall', 'provide', 'prompt', 'written', 'notice', 'thereof', 'to', 'the', 'Fund', 'and', 'such', 'Advisory', 'Board', 'member', 'shall', 'automatically', 'be', 'removed.', 'The', 'Investor', 'shall', 'be', 'entitled', 'to', 'remove', 'or', 'replace', 'any', 'Advisory', 'Board', 'member', 'at', 'any', 'time', 'pursuant', 'to', 'prior', 'written', 'notice', 'provided', 'by', 'the', 'Investor', 'to', 'the', 'General', 'Partner.', 'The', 'Investor', 'acknowledges', 'that', 'the', 'Advisory', 'Board', 'member', 'shall', 'be', 'bound', 'by', 'the', 'confidentiality', 'provisions', 'described', 'in', 'Section', '14.2', 'of', 'the', 'Limited', 'Partnership', 'Agreement.', 'The', 'Advisory', 'Board', 'may', 'act', 'on', 'behalf', 'of', 'the', 'Fund', 'and', 'the', 'Sister', 'Fund', 'if', 'requested', 'by', 'the', 'General', 'Partner,', 'provided', 'that', 'in', 'the', 'event', 'the', 'Advisory', 'Board', 'acts', 'on', 'behalf', 'of', 'the', 'Sister', 'Fund,', 'the', 'Advisory', 'Board', 'representative', 'appointed', 'by', 'the', 'Investor', 'shall', 'be', 'indemnified', 'pursuant', 'to', 'a', 'separate', 'indemnification', 'agreement', 'between', 'such', 'Advisory', 'Board', 'representative', 'and', 'the', 'Sister', 'Fund.', '6.', 'Transfers.', 'In', 'connection', 'with', 'any', 'proposed', 'transfer', 'by', 'the', 'Investor', 'of', 'all', 'or', 'a', 'portion', 'of', 'its', 'Interest', 'in', 'the', 'Fund', 'to', 'a', 'Lockheed', 'Party', '(as', 'defined', 'below),', 'at', 'the', 'request', 'of', 'the', 'Investor,', 'the', 'General', 'Partner', 'shall', 'not', 'unreasonably', 'withhold', 'its', 'written', 'consent', 'to', 'such', 'transfer', 'and', 'the', \"transferee's\", 'substitution', 'as', 'a', 'Limited', 'Partner,', 'as', 'required', 'by', 'the', 'Subscription', 'Agreement;', 'provided', '(a)', 'such', 'transfer', 'will', 'not', 'result', 'in', 'a', 'violation', 'of', 'any', 'applicable', 'laws,', 'rules', 'or', 'regulations', 'or', 'have', 'any', 'material', 'adverse', 'impact', '(whether', 'legal,', 'financial,', 'tax,', 'regulatory,', 'or', 'otherwise)', 'on', 'the', 'Fund,', 'the', 'Management', 'Company', 'or', 'the', 'General', 'Partner,', 'as', 'determined', 'by', 'the', 'General', 'Partner,', '(b)', 'such', 'transferee', 'is', 'not', 'a', 'competitor', 'of', '(directly', 'or', 'indirectly)', 'or', 'otherwise', 'affiliated', 'with', 'any', 'competitor', 'of', 'the', 'Fund,', 'the', 'General', 'Partner,', 'the', 'Management', 'Company', 'or', 'their', 'respective', 'Affiliates,', 'as', 'determined', 'in', 'good', 'faith', 'by', 'the', 'General', 'Partner,', '(c)', 'such', 'transferee', 'is', 'determined', 'to', 'be', 'sufficiently', 'creditworthy', 'to', 'assume', 'the', 'Limited', \"Partner's\", 'obligations', 'with', 'respect', 'to', 'the', 'Interest', 'being', 'transferred', 'and', 'clears', 'any', 'anti-money', 'laundering', '(AML),', 'know', 'your', 'customer', '(KYC)', 'and', 'similar', 'reviews', 'conducted', 'by', 'or', 'on', 'behalf', 'of', 'the', 'Fund', 'or', 'its', 'administrator', 'and', 'consistent', 'with', 'their', 'policies', 'and', 'procedures,', 'and', '(d)', 'such', 'transfer', 'is', 'documented', 'in', 'writing', 'in', 'a', 'form', 'reasonably', 'DOC', 'ID', '-', '36972123.18', '-6-', 'Page', '6', 'acceptable', 'to', 'the', 'General', 'Partner', 'and', 'such', 'transferee', 'makes', 'such', 'representations,', 'warranties,', 'covenants', 'and', 'undertakings', 'as', 'may', 'be', 'reasonably', 'required', 'by', 'the', 'General', 'Partner', 'in', 'connection', 'with', 'such', 'transfer,', 'including', 'representations,', 'warranties,', 'covenants', 'and', 'undertakings', 'comparable', 'to', 'those', 'included', 'in', 'the', \"Investor's\", 'Subscription', 'Agreement.', 'The', 'rights', 'and', 'obligations', 'arising', 'under', 'this', 'Letter', 'Agreement', 'may', 'be', 'assigned', 'by', 'the', 'Investor', 'to', 'any', 'such', 'transferee,', 'and', 'will', 'apply', 'equally', 'to', 'such', 'transferee,', 'in', 'connection', 'with', 'such', 'transfer;', 'provided,', 'however,', 'that', 'the', 'rights', 'arising']\n",
            "named_label ['NONE', 'NONE', 'B-ORG', 'I-ORG', 'B-MISC', 'I-ORG', 'I-MISC', 'I-MISC', 'NONE', 'B-LOC', 'I-LOC', 'I-LOC', 'B-LOC', 'NONE', 'B-LOC', 'I-LOC', 'I-LOC', 'B-DATE', 'NONE', 'I-DATE', 'B-PER', 'B-PER', 'B-LOC', 'I-LOC', 'I-LOC', 'NONE', 'NONE', 'NONE', 'NONE', 'NONE', 'NONE', 'NONE', 'B-ORG', 'I-ORG', 'B-MISC', 'I-ORG', 'I-MISC', 'NONE', 'NONE', 'B-ORG', 'B-MISC', 'I-AGRE', 'NONE', 'NONE', 'NONE', 'B-AGRE', 'I-AGRE', 'NONE', 'B-AGRE', 'NONE', 'NONE', 'NONE', 'NONE', 'NONE', 'NONE', 'NONE', 'NONE', 'NONE', 'NONE', 'B-PER', 'NONE', 'NONE', 'NONE', 'NONE', 'B-MISC', 'I-AGRE', 'NONE', 'NONE', 'NONE', 'I-ORG', 'NONE', 'NONE', 'NONE', 'NONE', 'NONE', 'NONE', 'NONE', 'NONE', 'NONE', 'NONE', 'NONE', 'NONE', 'NONE', 'NONE', 'NONE', 'NONE', 'NONE', 'B-AGRE', 'NONE', 'I-AGRE', 'B-MISC', 'I-AGRE', 'I-AGRE', 'NONE', 'NONE', 'I-ORG', 'NONE', 'NONE', 'NONE', 'B-DATE', 'NONE', 'I-DATE', 'NONE', 'B-AGRE', 'I-AGRE', 'NONE', 'NONE', 'I-AGRE', 'I-AGRE', 'NONE', 'NONE', 'B-MISC', 'NONE', 'NONE', 'I-ORG', 'NONE', 'NONE', 'NONE', 'NONE', 'NONE', 'NONE', 'NONE', 'B-AGRE', 'NONE', 'NONE', 'NONE', 'NONE', 'NONE', 'NONE', 'NONE', 'NONE', 'NONE', 'NONE', 'NONE', 'NONE', 'NONE', 'NONE', 'NONE', 'NONE', 'NONE', 'NONE', 'NONE', 'B-MISC', 'NONE', 'NONE', 'NONE', 'NONE', 'NONE', 'NONE', 'NONE', 'NONE', 'NONE', 'NONE', 'NONE', 'NONE', 'NONE', 'NONE', 'NONE', 'B-AGRE', 'NONE', 'B-ORG', 'I-MISC', 'I-MISC', 'NONE', 'NONE', 'NONE', 'B-ORG', 'B-MISC', 'I-ORG', 'I-ORG', 'NONE', 'B-MISC', 'NONE', 'NONE', 'NONE', 'NONE', 'NONE', 'NONE', 'NONE', 'NONE', 'NONE', 'NONE', 'NONE', 'NONE', 'NONE', 'NONE', 'B-MISC', 'NONE', 'NONE', 'NONE', 'NONE', 'B-ORG', 'NONE', 'NONE', 'NONE', 'NONE', 'B-MISC', 'NONE', 'NONE', 'NONE', 'NONE', 'NONE', 'NONE', 'NONE', 'NONE', 'NONE', 'NONE', 'NONE', 'NONE', 'NONE', 'NONE', 'NONE', 'NONE', 'NONE', 'NONE', 'NONE', 'B-MISC', 'NONE', 'NONE', 'B-DATE', 'NONE', 'I-DATE', 'NONE', 'NONE', 'NONE', 'NONE', 'NONE', 'NONE', 'B-ORG', 'NONE', 'NONE', 'NONE', 'NONE', 'B-MISC', 'NONE', 'NONE', 'NONE', 'NONE', 'NONE', 'NONE', 'NONE', 'NONE', 'NONE', 'NONE', 'NONE', 'NONE', 'NONE', 'NONE', 'NONE', 'NONE', 'NONE', 'NONE', 'NONE', 'NONE', 'NONE', 'NONE', 'NONE', 'NONE', 'NONE', 'NONE', 'NONE', 'NONE', 'NONE', 'NONE', 'NONE', 'NONE', 'NONE', 'NONE', 'NONE', 'NONE', 'B-MISC', 'I-MISC', 'NONE', 'NONE', 'NONE', 'NONE', 'B-MISC', 'NONE', 'NONE', 'NONE', 'B-AGRE', 'I-AGRE', 'NONE', 'NONE', 'NONE', 'NONE', 'NONE', 'NONE', 'NONE', 'NONE', 'NONE', 'B-MISC', 'B-MISC', 'NONE', 'NONE', 'NONE', 'NONE', 'B-ORG', 'I-ORG', 'B-MISC', 'I-ORG', 'I-MISC', 'I-MISC', 'NONE', 'B-ORG', 'NONE', 'NONE', 'NONE', 'I-MISC', 'B-MISC', 'NONE', 'B-MISC', 'NONE', 'B-ORG', 'NONE', 'NONE', 'NONE', 'NONE', 'NONE', 'NONE', 'NONE', 'NONE', 'NONE', 'B-AGRE', 'I-AGRE', 'NONE', 'B-MISC', 'NONE', 'NONE', 'B-AGRE', 'NONE', 'NONE', 'NONE', 'NONE', 'NONE', 'NONE', 'NONE', 'B-AGRE', 'I-AGRE', 'NONE', 'NONE', 'NONE', 'NONE', 'B-MISC', 'B-MISC', 'NONE', 'NONE', 'NONE', 'NONE', 'NONE', 'NONE', 'NONE', 'NONE', 'NONE', 'NONE', 'NONE', 'B-MISC', 'B-MISC', 'NONE', 'NONE', 'NONE', 'NONE', 'NONE', 'NONE', 'NONE', 'B-MISC', 'B-MISC', 'NONE', 'NONE', 'NONE', 'NONE', 'NONE', 'NONE', 'NONE', 'NONE', 'NONE', 'NONE', 'B-MISC', 'NONE', 'NONE', 'B-AGRE', 'I-AGRE', 'NONE', 'NONE', 'B-MISC', 'I-AGRE', 'NONE', 'NONE', 'B-MISC', 'NONE', 'NONE', 'NONE', 'NONE', 'NONE', 'B-MISC', 'I-MISC', 'NONE', 'NONE', 'B-TIME', 'I-TIME', 'NONE', 'NONE', 'NONE', 'NONE', 'NONE', 'NONE', 'NONE', 'NONE', 'NONE', 'B-AGRE', 'NONE', 'NONE', 'NONE', 'NONE', 'NONE', 'NONE', 'NONE', 'NONE', 'NONE', 'NONE', 'B-AGRE', 'I-AGRE', 'NONE', 'NONE', 'NONE', 'NONE', 'NONE', 'NONE', 'NONE', 'NONE', 'NONE', 'NONE', 'NONE', 'B-MISC', 'NONE', 'NONE', 'NONE', 'NONE', 'NONE', 'NONE', 'NONE', 'NONE', 'NONE', 'NONE', 'NONE', 'NONE', 'B-AGRE', 'I-AGRE', 'NONE', 'NONE', 'NONE', 'NONE', 'NONE', 'NONE', 'NONE', 'NONE', 'NONE', 'NONE', 'NONE', 'NONE', 'NONE', 'NONE', 'NONE', 'NONE', 'NONE', 'NONE', 'NONE', 'NONE', 'NONE', 'NONE', 'B-AGRE', 'I-AGRE', 'NONE', 'NONE', 'NONE', 'NONE', 'NONE', 'NONE', 'NONE', 'NONE', 'NONE', 'NONE', 'NONE', 'NONE', 'NONE', 'NONE', 'NONE', 'NONE', 'NONE', 'NONE', 'NONE', 'B-MISC', 'I-MISC', 'B-MISC', 'NONE', 'NONE', 'NONE', 'NONE', 'B-MISC', 'I-MISC', 'B-AGRE', 'NONE', 'NONE', 'NONE', 'NONE', 'NONE', 'NONE', 'NONE', 'NONE', 'B-MISC', 'I-MISC', 'NONE', 'I-MISC', 'NONE', 'NONE', 'I-MISC', 'NONE', 'NONE', 'NONE', 'NONE', 'NONE', 'NONE', 'B-MISC', 'NONE', 'NONE', 'NONE', 'NONE', 'NONE', 'NONE', 'NONE', 'NONE', 'NONE', 'NONE', 'NONE', 'NONE', 'B-MISC', 'I-MISC', 'B-MISC', 'NONE', 'NONE', 'NONE', 'B-MISC', 'NONE', 'NONE', 'NONE', 'NONE', 'NONE', 'NONE', 'NONE', 'NONE', 'NONE', 'NONE', 'NONE', 'NONE', 'NONE', 'NONE', 'NONE', 'NONE', 'NONE', 'NONE', 'B-MISC', 'I-MISC', 'B-MISC', 'NONE', 'NONE', 'NONE', 'B-ORG', 'NONE', 'NONE', 'NONE', 'NONE', 'B-ORG', 'I-ORG', 'NONE', 'NONE', 'B-ORG', 'NONE', 'NONE', 'NONE', 'NONE', 'B-MISC', 'NONE', 'NONE', 'NONE', 'NONE', 'NONE', 'NONE', 'NONE', 'NONE', 'NONE', 'NONE', 'NONE', 'B-MISC', 'I-MISC', 'B-MISC', 'NONE', 'NONE', 'NONE', 'NONE', 'NONE', 'NONE', 'NONE', 'NONE', 'NONE', 'B-ORG', 'I-ORG', 'NONE', 'NONE', 'NONE', 'NONE', 'NONE', 'NONE', 'NONE', 'NONE', 'NONE', 'NONE', 'NONE', 'NONE', 'NONE', 'NONE', 'B-ORG', 'I-ORG', 'NONE', 'NONE', 'NONE', 'NONE', 'NONE', 'B-ORG', 'I-ORG', 'NONE', 'NONE', 'NONE', 'NONE', 'NONE', 'NONE', 'NONE', 'NONE', 'NONE', 'NONE', 'NONE', 'B-ORG', 'NONE', 'NONE', 'NONE', 'B-MISC', 'I-MISC', 'NONE', 'NONE', 'NONE', 'NONE', 'B-AGRE', 'I-AGRE', 'NONE', 'NONE', 'NONE', 'NONE', 'NONE', 'NONE', 'NONE', 'NONE', 'NONE', 'B-ORG', 'I-ORG', 'NONE', 'NONE', 'NONE', 'NONE', 'NONE', 'NONE', 'B-MISC', 'I-MISC', 'B-AGRE', 'NONE', 'NONE', 'NONE', 'NONE', 'NONE', 'NONE', 'NONE', 'NONE', 'NONE', 'NONE', 'NONE', 'NONE', 'NONE', 'NONE', 'NONE', 'NONE', 'NONE', 'NONE', 'NONE', 'NONE', 'NONE', 'NONE', 'NONE', 'NONE', 'NONE', 'NONE', 'NONE', 'NONE', 'NONE', 'B-MISC', 'I-MISC', 'NONE', 'NONE', 'NONE', 'B-MISC', 'I-MISC', 'B-MISC', 'NONE', 'NONE', 'I-MISC', 'I-MISC', 'NONE', 'NONE', 'NONE', 'NONE', 'B-ORG', 'I-ORG', 'NONE', 'NONE', 'B-ORG', 'I-ORG', 'NONE', 'NONE', 'NONE', 'NONE', 'NONE', 'NONE', 'B-AGRE', 'NONE', 'I-MISC', 'I-MISC', 'NONE', 'NONE', 'NONE', 'NONE', 'B-ORG', 'I-ORG', 'NONE', 'NONE', 'B-ORG', 'NONE', 'NONE', 'NONE', 'NONE', 'NONE', 'NONE', 'NONE', 'NONE', 'NONE', 'B-MISC', 'I-MISC', 'B-MISC', 'NONE', 'NONE', 'B-MISC', 'NONE', 'NONE', 'B-ORG', 'NONE', 'NONE', 'B-MISC', 'I-MISC', 'B-MISC', 'NONE', 'NONE', 'NONE', 'NONE', 'B-ORG', 'I-ORG', 'NONE', 'NONE', 'B-ORG', 'I-ORG', 'NONE', 'NONE', 'NONE', 'NONE', 'NONE', 'NONE', 'B-MISC', 'NONE', 'NONE', 'NONE', 'NONE', 'NONE', 'NONE', 'NONE', 'NONE', 'I-MISC', 'I-MISC', 'NONE', 'NONE', 'NONE', 'NONE', 'B-ORG', 'I-ORG', 'NONE', 'NONE', 'B-ORG', 'I-ORG', 'NONE', 'NONE', 'NONE', 'NONE', 'NONE', 'NONE', 'NONE', 'NONE', 'NONE', 'NONE', 'NONE', 'NONE', 'NONE', 'NONE', 'NONE', 'NONE', 'NONE', 'NONE', 'NONE', 'NONE', 'NONE', 'NONE', 'NONE', 'NONE', 'NONE', 'NONE', 'NONE', 'NONE', 'NONE', 'NONE', 'NONE', 'NONE', 'NONE', 'NONE', 'NONE', 'NONE', 'NONE', 'NONE', 'NONE', 'NONE', 'NONE', 'NONE', 'NONE', 'NONE', 'NONE', 'NONE', 'NONE', 'NONE', 'NONE', 'NONE', 'NONE', 'NONE', 'NONE', 'NONE', 'B-MISC', 'I-MISC', 'B-MISC', 'NONE', 'NONE', 'NONE', 'NONE', 'NONE', 'NONE', 'NONE', 'NONE', 'NONE', 'NONE', 'NONE', 'NONE', 'NONE', 'NONE', 'NONE', 'NONE', 'NONE', 'NONE', 'NONE', 'NONE', 'NONE', 'NONE', 'NONE', 'NONE', 'NONE', 'NONE', 'NONE', 'NONE', 'I-MISC', 'I-MISC', 'NONE', 'NONE', 'NONE', 'NONE', 'B-MISC', 'NONE', 'NONE', 'NONE', 'NONE', 'B-ORG', 'I-ORG', 'NONE', 'NONE', 'B-ORG', 'I-ORG', 'NONE', 'NONE', 'NONE', 'B-MISC', 'I-MISC', 'NONE', 'NONE', 'NONE', 'NONE', 'I-MISC', 'I-MISC', 'NONE', 'NONE', 'NONE', 'NONE', 'NONE', 'NONE', 'NONE', 'NONE', 'NONE', 'NONE', 'NONE', 'NONE', 'NONE', 'NONE', 'NONE', 'NONE', 'B-MISC', 'I-MISC', 'B-MISC', 'NONE', 'NONE', 'NONE', 'NONE', 'B-AGRE', 'I-AGRE', 'NONE', 'NONE', 'NONE', 'NONE', 'NONE', 'B-MISC', 'I-MISC', 'B-MISC', 'NONE', 'NONE', 'NONE', 'NONE', 'B-LOC', 'NONE', 'NONE', 'NONE', 'B-MISC', 'I-MISC', 'B-MISC', 'NONE', 'NONE', 'NONE', 'NONE', 'NONE', 'B-MISC', 'B-MISC', 'NONE', 'NONE', 'NONE', 'NONE', 'NONE', 'B-MISC', 'I-MISC', 'B-MISC', 'NONE', 'NONE', 'NONE', 'NONE', 'NONE', 'NONE', 'NONE', 'B-MISC', 'I-MISC', 'B-MISC', 'NONE', 'NONE', 'I-MISC', 'I-MISC', 'NONE', 'NONE', 'NONE', 'NONE', 'B-LOC', 'NONE', 'NONE', 'NONE', 'B-MISC', 'I-MISC', 'B-MISC', 'NONE', 'NONE', 'I-MISC', 'I-MISC', 'NONE', 'NONE', 'NONE', 'NONE', 'NONE', 'NONE', 'NONE', 'NONE', 'B-MISC', 'B-MISC', 'NONE', 'NONE', 'NONE', 'B-MISC', 'I-MISC', 'NONE', 'NONE', 'NONE', 'NONE', 'NONE', 'NONE', 'NONE', 'NONE', 'B-MISC', 'I-MISC', 'NONE', 'NONE', 'NONE', 'NONE', 'B-MISC', 'I-MISC', 'NONE', 'NONE', 'B-ORG', 'I-ORG', 'NONE', 'NONE', 'B-MISC', 'I-MISC', 'NONE', 'NONE', 'B-ORG', 'I-ORG', 'B-MISC', 'I-MISC', 'I-MISC', 'NONE', 'NONE', 'NONE', 'NONE', 'NONE', 'NONE', 'NONE', 'NONE', 'NONE', 'NONE', 'NONE', 'NONE', 'B-ORG', 'I-ORG', 'NONE', 'NONE', 'B-ORG', 'I-ORG', 'NONE', 'NONE', 'NONE', 'NONE', 'NONE', 'NONE', 'NONE', 'NONE', 'NONE', 'NONE', 'NONE', 'NONE', 'NONE', 'NONE', 'NONE', 'NONE', 'NONE', 'NONE', 'NONE', 'NONE', 'NONE', 'NONE', 'NONE', 'NONE', 'NONE', 'NONE', 'NONE', 'NONE', 'NONE', 'B-MISC', 'NONE', 'NONE', 'B-ORG', 'I-ORG', 'NONE', 'NONE', 'NONE', 'NONE', 'NONE', 'NONE', 'NONE', 'NONE', 'NONE', 'NONE', 'NONE', 'NONE', 'NONE', 'NONE', 'I-AGRE', 'NONE', 'NONE', 'NONE', 'NONE', 'NONE', 'NONE', 'NONE', 'NONE', 'NONE', 'NONE', 'NONE', 'NONE', 'NONE', 'NONE', 'NONE', 'NONE', 'NONE', 'NONE', 'NONE', 'NONE', 'NONE', 'NONE', 'B-MISC', 'I-MISC', 'NONE', 'I-MISC', 'NONE', 'NONE', 'NONE', 'NONE', 'NONE', 'NONE', 'NONE', 'NONE', 'NONE', 'NONE', 'NONE', 'NONE', 'NONE', 'NONE', 'NONE', 'NONE', 'NONE', 'NONE', 'NONE', 'NONE', 'NONE', 'NONE', 'NONE', 'NONE', 'NONE', 'NONE', 'NONE', 'NONE', 'NONE', 'NONE', 'NONE', 'NONE', 'NONE', 'NONE', 'NONE', 'NONE', 'NONE', 'NONE', 'NONE', 'NONE', 'NONE', 'NONE', 'NONE', 'NONE', 'NONE', 'NONE', 'NONE', 'NONE', 'NONE', 'NONE', 'NONE', 'NONE', 'NONE', 'NONE', 'NONE', 'NONE', 'NONE', 'B-PER', 'NONE', 'B-PER', 'NONE', 'NONE', 'B-MISC', 'NONE', 'NONE', 'B-ORG', 'I-ORG', 'NONE', 'NONE', 'NONE', 'NONE', 'NONE', 'NONE', 'NONE', 'NONE', 'NONE', 'NONE', 'NONE', 'NONE', 'NONE', 'NONE', 'NONE', 'NONE', 'NONE', 'NONE', 'NONE', 'NONE', 'NONE', 'NONE', 'NONE', 'NONE', 'NONE', 'NONE', 'NONE', 'B-ORG', 'I-ORG', 'NONE', 'NONE', 'NONE', 'NONE', 'NONE', 'NONE', 'B-ORG', 'NONE', 'NONE', 'NONE', 'NONE', 'NONE', 'B-ORG', 'I-ORG', 'NONE', 'NONE', 'NONE', 'B-ORG', 'NONE', 'NONE', 'NONE', 'NONE', 'NONE', 'NONE', 'NONE', 'NONE', 'NONE', 'B-MISC', 'NONE', 'NONE', 'B-ORG', 'I-ORG', 'NONE', 'NONE', 'NONE', 'NONE', 'NONE', 'NONE', 'NONE', 'NONE', 'NONE', 'NONE', 'NONE', 'NONE', 'NONE', 'NONE', 'NONE', 'NONE', 'NONE', 'I-MISC', 'I-MISC', 'NONE', 'NONE', 'NONE', 'NONE', 'NONE', 'NONE', 'NONE', 'NONE', 'NONE', 'NONE', 'B-MISC', 'NONE', 'NONE', 'NONE', 'I-AGRE', 'I-AGRE', 'NONE', 'NONE', 'NONE', 'NONE', 'NONE', 'NONE', 'NONE', 'NONE', 'NONE', 'NONE', 'I-MISC', 'I-MISC', 'NONE', 'NONE', 'I-CURR', 'NONE', 'NONE', 'NONE', 'NONE', 'NONE', 'B-MISC', 'NONE', 'NONE', 'NONE', 'NONE', 'NONE', 'NONE', 'I-MISC', 'I-MISC', 'NONE', 'NONE', 'NONE', 'NONE', 'B-AGRE', 'I-AGRE', 'NONE', 'NONE', 'NONE', 'NONE', 'NONE', 'NONE', 'NONE', 'NONE', 'NONE', 'NONE', 'NONE', 'NONE', 'NONE', 'NONE', 'B-MISC', 'NONE', 'NONE', 'I-ORG', 'NONE', 'NONE', 'NONE', 'NONE', 'NONE', 'NONE', 'NONE', 'NONE', 'NONE', 'B-AGRE', 'NONE', 'I-MISC', 'NONE', 'NONE', 'NONE', 'NONE', 'NONE', 'NONE', 'NONE', 'NONE', 'NONE', 'NONE', 'NONE', 'NONE', 'NONE', 'NONE', 'NONE', 'NONE', 'NONE', 'NONE', 'NONE', 'NONE', 'B-MISC', 'NONE', 'NONE', 'I-ORG', 'NONE', 'NONE', 'NONE', 'NONE', 'NONE', 'NONE', 'NONE', 'NONE', 'NONE', 'NONE', 'NONE', 'I-ORG', 'NONE', 'NONE', 'NONE', 'NONE', 'NONE', 'NONE', 'B-MISC', 'I-MISC', 'NONE', 'NONE', 'NONE', 'NONE', 'NONE', 'I-ORG', 'NONE', 'NONE', 'B-ORG', 'NONE', 'NONE', 'NONE', 'NONE', 'NONE', 'NONE', 'NONE', 'NONE', 'NONE', 'NONE', 'NONE', 'NONE', 'NONE', 'B-MISC', 'I-MISC', 'NONE', 'NONE', 'NONE', 'NONE', 'NONE', 'NONE', 'NONE', 'NONE', 'I-MISC', 'NONE', 'NONE', 'B-MISC', 'NONE', 'NONE', 'NONE', 'NONE', 'NONE', 'NONE', 'NONE', 'NONE', 'NONE', 'NONE', 'B-MISC', 'NONE', 'NONE', 'NONE', 'NONE', 'NONE', 'NONE', 'NONE', 'NONE', 'NONE', 'NONE', 'NONE', 'NONE', 'NONE', 'NONE', 'NONE', 'NONE', 'NONE', 'NONE', 'NONE', 'NONE', 'NONE', 'NONE', 'NONE', 'B-MISC', 'NONE', 'NONE', 'I-ORG', 'NONE', 'NONE', 'NONE', 'NONE', 'NONE', 'NONE', 'NONE', 'NONE', 'NONE', 'NONE', 'I-ORG', 'NONE', 'NONE', 'NONE', 'NONE', 'NONE', 'NONE', 'B-MISC', 'I-MISC', 'NONE', 'NONE', 'NONE', 'NONE', 'NONE', 'I-ORG', 'NONE', 'NONE', 'B-ORG', 'NONE', 'NONE', 'NONE', 'NONE', 'NONE', 'NONE', 'NONE', 'NONE', 'B-MISC', 'I-MISC', 'NONE', 'NONE', 'NONE', 'NONE', 'NONE', 'NONE', 'NONE', 'NONE', 'NONE', 'NONE', 'NONE', 'NONE', 'NONE', 'NONE', 'NONE', 'NONE', 'NONE', 'B-MISC', 'NONE', 'NONE', 'I-MISC', 'I-MISC', 'NONE', 'NONE', 'NONE', 'NONE', 'NONE', 'NONE', 'NONE', 'NONE', 'NONE', 'NONE', 'NONE', 'NONE', 'NONE', 'NONE', 'NONE', 'NONE', 'NONE', 'NONE', 'NONE', 'NONE', 'NONE', 'NONE', 'B-MISC', 'I-MISC', 'NONE', 'NONE', 'NONE', 'NONE', 'NONE', 'NONE', 'B-MISC', 'NONE', 'NONE', 'B-MISC', 'I-MISC', 'NONE', 'NONE', 'NONE', 'NONE', 'B-AGRE', 'I-AGRE', 'NONE', 'NONE', 'NONE', 'NONE', 'B-MISC', 'NONE', 'NONE', 'NONE', 'NONE', 'NONE', 'NONE', 'NONE', 'NONE', 'NONE', 'B-AGRE', 'I-MISC', 'I-MISC', 'NONE', 'NONE', 'NONE', 'NONE', 'NONE', 'NONE', 'NONE', 'NONE', 'NONE', 'NONE', 'NONE', 'NONE', 'NONE', 'NONE', 'B-AGRE', 'I-MISC', 'I-MISC', 'NONE', 'NONE', 'NONE', 'NONE', 'NONE', 'NONE', 'NONE', 'NONE', 'NONE', 'I-MISC', 'I-MISC', 'NONE', 'NONE', 'NONE', 'NONE', 'NONE', 'NONE', 'NONE', 'NONE', 'NONE', 'B-AGRE', 'NONE', 'NONE', 'B-AGRE', 'NONE', 'NONE', 'NONE', 'NONE', 'NONE', 'NONE', 'B-MISC', 'NONE', 'NONE', 'B-MISC', 'I-MISC', 'NONE', 'NONE', 'NONE', 'I-MISC', 'I-MISC', 'NONE', 'NONE', 'NONE', 'NONE', 'B-MISC', 'NONE', 'NONE', 'NONE', 'NONE', 'NONE', 'NONE', 'NONE', 'NONE', 'NONE', 'NONE', 'I-MISC', 'NONE', 'NONE', 'NONE', 'NONE', 'NONE', 'NONE', 'NONE', 'NONE', 'NONE', 'NONE', 'NONE', 'I-MISC', 'NONE', 'NONE', 'NONE', 'NONE', 'NONE', 'B-MISC', 'NONE', 'NONE', 'NONE', 'B-MISC', 'NONE', 'NONE', 'NONE', 'NONE', 'NONE', 'NONE', 'NONE', 'NONE', 'NONE', 'NONE', 'I-MISC', 'NONE', 'NONE', 'NONE', 'NONE', 'NONE', 'I-ORG', 'NONE', 'NONE', 'NONE', 'NONE', 'NONE', 'NONE', 'NONE', 'NONE', 'NONE', 'NONE', 'NONE', 'NONE', 'NONE', 'I-MISC', 'NONE', 'NONE', 'NONE', 'NONE', 'NONE', 'NONE', 'B-AGRE', 'I-MISC', 'NONE', 'NONE', 'B-MISC', 'NONE', 'NONE', 'NONE', 'NONE', 'NONE', 'NONE', 'NONE', 'NONE', 'I-MISC', 'I-MISC', 'NONE', 'NONE', 'NONE', 'NONE', 'NONE', 'B-MISC', 'I-MISC', 'NONE', 'I-MISC', 'NONE', 'NONE', 'I-MISC', 'NONE', 'B-AGRE', 'I-AGRE', 'NONE', 'NONE', 'NONE', 'NONE', 'NONE', 'B-MISC', 'NONE', 'NONE', 'NONE', 'NONE', 'NONE', 'NONE', 'NONE', 'NONE', 'NONE', 'NONE', 'NONE', 'B-AGRE', 'I-AGRE', 'NONE', 'NONE', 'NONE', 'NONE', 'NONE', 'B-MISC', 'I-MISC', 'B-MISC', 'NONE', 'NONE', 'NONE', 'NONE', 'NONE', 'NONE', 'NONE', 'NONE', 'NONE', 'NONE', 'NONE', 'NONE', 'NONE', 'B-AGRE', 'I-AGRE', 'NONE', 'NONE', 'NONE', 'NONE', 'NONE', 'NONE', 'NONE', 'NONE', 'B-MISC', 'NONE', 'NONE', 'B-MISC', 'NONE', 'NONE', 'NONE', 'NONE', 'NONE', 'NONE', 'NONE', 'B-MISC', 'I-MISC', 'NONE', 'NONE', 'NONE', 'NONE', 'B-MISC', 'NONE', 'NONE', 'NONE', 'NONE', 'B-AGRE', 'I-AGRE', 'NONE', 'NONE', 'NONE', 'NONE', 'NONE', 'NONE', 'NONE', 'NONE', 'NONE', 'NONE', 'NONE', 'NONE', 'NONE', 'NONE', 'B-MISC', 'I-MISC', 'B-MISC', 'NONE', 'NONE', 'NONE', 'NONE', 'NONE', 'NONE', 'NONE', 'NONE', 'NONE', 'B-MISC', 'I-MISC', 'NONE', 'NONE', 'NONE', 'NONE', 'NONE', 'NONE', 'NONE', 'NONE', 'NONE', 'NONE', 'NONE', 'NONE', 'NONE', 'NONE', 'NONE', 'NONE', 'B-AGRE', 'I-AGRE', 'NONE', 'B-ORG', 'I-ORG', 'NONE', 'NONE', 'NONE', 'NONE', 'B-AGRE', 'NONE', 'NONE', 'NONE', 'B-MISC', 'I-MISC', 'NONE', 'NONE', 'NONE', 'NONE', 'NONE', 'NONE', 'B-MISC', 'NONE', 'NONE', 'B-MISC', 'I-MISC', 'NONE', 'NONE', 'I-ORG', 'NONE', 'NONE', 'NONE', 'I-MISC', 'I-MISC', 'NONE', 'NONE', 'NONE', 'NONE', 'I-CURR', 'NONE', 'NONE', 'NONE', 'NONE', 'NONE', 'NONE', 'NONE', 'B-AGRE', 'I-MISC', 'I-MISC', 'NONE', 'NONE', 'NONE', 'NONE', 'NONE', 'NONE', 'B-MISC', 'I-MISC', 'NONE', 'NONE', 'NONE', 'B-MISC', 'I-MISC', 'NONE', 'NONE', 'NONE', 'NONE', 'NONE', 'NONE', 'NONE', 'NONE', 'NONE', 'NONE', 'NONE', 'B-MISC', 'NONE', 'NONE', 'B-MISC', 'I-MISC', 'NONE', 'NONE', 'NONE', 'B-MISC', 'NONE', 'NONE', 'NONE', 'NONE', 'NONE', 'NONE', 'NONE', 'NONE', 'NONE', 'NONE', 'NONE', 'I-ORG', 'NONE', 'NONE', 'I-ORG', 'NONE', 'NONE', 'NONE', 'B-MISC', 'I-MISC', 'NONE', 'NONE', 'B-MISC', 'I-AGRE', 'I-AGRE', 'NONE', 'B-ORG', 'NONE', 'NONE', 'NONE', 'NONE', 'NONE', 'B-ORG', 'I-ORG', 'NONE', 'NONE', 'NONE', 'NONE', 'B-MISC', 'I-MISC', 'NONE', 'NONE', 'NONE', 'NONE', 'NONE', 'NONE', 'NONE', 'NONE', 'B-MISC', 'NONE', 'NONE', 'I-ORG', 'NONE', 'NONE', 'NONE', 'NONE', 'NONE', 'NONE', 'NONE', 'NONE', 'NONE', 'NONE', 'NONE', 'NONE', 'NONE', 'NONE', 'NONE', 'NONE', 'NONE', 'B-MISC', 'I-MISC', 'NONE', 'NONE', 'NONE', 'NONE', 'B-ORG', 'I-ORG', 'NONE', 'NONE', 'NONE', 'NONE', 'NONE', 'NONE', 'NONE', 'NONE', 'NONE', 'NONE', 'NONE', 'NONE', 'NONE', 'NONE', 'NONE', 'NONE', 'NONE', 'NONE', 'B-ORG', 'I-ORG', 'NONE', 'NONE', 'B-MISC', 'NONE', 'NONE', 'NONE', 'NONE', 'NONE', 'NONE', 'NONE', 'NONE', 'I-ORG', 'NONE', 'NONE', 'B-ORG', 'I-ORG', 'NONE', 'NONE', 'NONE', 'NONE', 'NONE', 'NONE', 'B-MISC', 'NONE', 'NONE', 'NONE', 'NONE', 'NONE', 'NONE', 'NONE', 'NONE', 'B-ORG', 'I-ORG', 'NONE', 'NONE', 'NONE', 'NONE', 'NONE', 'NONE', 'NONE', 'NONE', 'NONE', 'NONE', 'NONE', 'NONE', 'B-MISC', 'NONE', 'NONE', 'B-MISC', 'I-MISC', 'NONE', 'B-MISC', 'NONE', 'NONE', 'NONE', 'B-ORG', 'I-ORG', 'NONE', 'NONE', 'NONE', 'NONE', 'NONE', 'NONE', 'NONE', 'NONE', 'NONE', 'NONE', 'B-MISC', 'I-MISC', 'NONE', 'NONE', 'B-MISC', 'I-AGRE', 'I-AGRE', 'NONE', 'B-ORG', 'I-ORG', 'NONE', 'NONE', 'NONE', 'NONE', 'NONE', 'NONE', 'I-ORG', 'NONE', 'NONE', 'B-ORG', 'I-ORG', 'NONE', 'NONE', 'NONE', 'NONE', 'B-MISC', 'NONE', 'NONE', 'NONE', 'NONE', 'NONE', 'NONE', 'NONE', 'B-ORG', 'I-ORG', 'NONE', 'NONE', 'NONE', 'NONE', 'NONE', 'B-ORG', 'NONE', 'NONE', 'B-ORG', 'I-ORG', 'NONE', 'NONE', 'NONE', 'NONE', 'B-MISC', 'NONE', 'NONE', 'NONE', 'NONE', 'NONE', 'NONE', 'NONE', 'B-AGRE', 'I-AGRE', 'NONE', 'NONE', 'B-ORG', 'I-ORG', 'NONE', 'NONE', 'NONE', 'B-ORG', 'I-ORG', 'NONE', 'NONE', 'NONE', 'NONE', 'NONE', 'NONE', 'NONE', 'NONE', 'NONE', 'NONE', 'B-MISC', 'NONE', 'NONE', 'NONE', 'NONE', 'NONE', 'NONE', 'NONE', 'NONE', 'NONE', 'NONE', 'I-ORG', 'NONE', 'NONE', 'B-MISC', 'I-MISC', 'NONE', 'NONE', 'NONE', 'NONE', 'NONE', 'NONE', 'NONE', 'NONE', 'NONE', 'NONE', 'B-MISC', 'I-MISC', 'NONE', 'NONE', 'NONE', 'NONE', 'NONE', 'NONE', 'NONE', 'NONE', 'NONE', 'NONE', 'NONE', 'NONE', 'NONE', 'NONE', 'NONE', 'NONE', 'B-MISC', 'NONE', 'NONE', 'NONE', 'NONE', 'NONE', 'I-AGRE', 'NONE', 'NONE', 'NONE', 'NONE', 'NONE', 'NONE', 'NONE', 'NONE', 'NONE', 'NONE', 'NONE', 'NONE', 'NONE', 'NONE', 'NONE', 'NONE', 'NONE', 'NONE', 'NONE', 'NONE', 'NONE', 'NONE', 'NONE', 'NONE', 'NONE', 'NONE', 'NONE', 'NONE', 'NONE', 'NONE', 'NONE', 'NONE', 'NONE', 'NONE', 'NONE', 'B-ORG', 'I-ORG', 'NONE', 'NONE', 'B-MISC', 'NONE', 'NONE', 'NONE', 'NONE', 'NONE', 'B-MISC', 'NONE', 'NONE', 'NONE', 'NONE', 'NONE', 'NONE', 'NONE', 'NONE', 'NONE', 'NONE', 'NONE', 'NONE', 'NONE', 'NONE', 'NONE', 'NONE', 'NONE', 'NONE', 'NONE', 'NONE', 'NONE', 'NONE', 'B-MISC', 'NONE', 'NONE', 'B-ORG', 'I-ORG', 'NONE', 'NONE', 'NONE', 'NONE', 'NONE', 'NONE', 'NONE', 'NONE', 'NONE', 'NONE', 'NONE', 'B-MISC', 'NONE', 'NONE', 'NONE', 'NONE', 'NONE', 'NONE', 'NONE', 'NONE', 'NONE', 'NONE', 'NONE', 'NONE', 'NONE', 'B-MISC', 'I-MISC', 'NONE', 'NONE', 'NONE', 'NONE', 'NONE', 'NONE', 'NONE', 'NONE', 'NONE', 'NONE', 'NONE', 'B-MISC', 'I-MISC', 'NONE', 'B-MISC', 'I-MISC', 'I-MISC', 'NONE', 'NONE', 'NONE', 'NONE', 'NONE', 'NONE', 'NONE', 'NONE', 'NONE', 'NONE', 'NONE', 'I-ORG', 'NONE', 'NONE', 'NONE', 'NONE', 'NONE', 'NONE', 'NONE', 'NONE', 'NONE', 'NONE', 'NONE', 'NONE', 'NONE', 'NONE', 'NONE', 'NONE', 'NONE', 'NONE', 'NONE', 'NONE', 'NONE', 'NONE', 'B-MISC', 'I-MISC', 'NONE', 'I-MISC', 'NONE', 'NONE', 'NONE', 'NONE', 'NONE', 'NONE', 'B-MISC', 'I-MISC', 'NONE', 'NONE', 'NONE', 'NONE', 'NONE', 'NONE', 'NONE', 'NONE', 'NONE', 'NONE', 'NONE', 'NONE', 'NONE', 'NONE', 'NONE', 'NONE', 'NONE', 'B-MISC', 'I-MISC', 'NONE', 'NONE', 'NONE', 'NONE', 'NONE', 'NONE', 'NONE', 'NONE', 'NONE', 'NONE', 'NONE', 'NONE', 'NONE', 'NONE', 'NONE', 'NONE', 'NONE', 'B-AGRE', 'I-AGRE', 'I-AGRE', 'NONE', 'NONE', 'NONE', 'NONE', 'NONE', 'NONE', 'NONE', 'B-AGRE', 'I-AGRE', 'NONE', 'NONE', 'NONE', 'NONE', 'NONE', 'B-MISC', 'NONE', 'NONE', 'NONE', 'NONE', 'NONE', 'NONE', 'NONE', 'NONE', 'NONE', 'NONE', 'NONE', 'NONE', 'NONE', 'NONE', 'NONE', 'NONE', 'NONE', 'NONE', 'NONE', 'NONE', 'NONE', 'NONE']\n",
            "number [0, 0, 1, 2, 15, 2, 16, 16, 0, 11, 12, 12, 11, 0, 11, 12, 12, 3, 0, 4, 7, 7, 11, 12, 12, 0, 0, 0, 0, 0, 0, 0, 1, 2, 15, 2, 16, 0, 0, 1, 15, 14, 0, 0, 0, 13, 14, 0, 13, 0, 0, 0, 0, 0, 0, 0, 0, 0, 0, 7, 0, 0, 0, 0, 15, 14, 0, 0, 0, 2, 0, 0, 0, 0, 0, 0, 0, 0, 0, 0, 0, 0, 0, 0, 0, 0, 0, 13, 0, 14, 15, 14, 14, 0, 0, 2, 0, 0, 0, 3, 0, 4, 0, 13, 14, 0, 0, 14, 14, 0, 0, 15, 0, 0, 2, 0, 0, 0, 0, 0, 0, 0, 13, 0, 0, 0, 0, 0, 0, 0, 0, 0, 0, 0, 0, 0, 0, 0, 0, 0, 0, 0, 15, 0, 0, 0, 0, 0, 0, 0, 0, 0, 0, 0, 0, 0, 0, 0, 13, 0, 1, 16, 16, 0, 0, 0, 1, 15, 2, 2, 0, 15, 0, 0, 0, 0, 0, 0, 0, 0, 0, 0, 0, 0, 0, 0, 15, 0, 0, 0, 0, 1, 0, 0, 0, 0, 15, 0, 0, 0, 0, 0, 0, 0, 0, 0, 0, 0, 0, 0, 0, 0, 0, 0, 0, 0, 15, 0, 0, 3, 0, 4, 0, 0, 0, 0, 0, 0, 1, 0, 0, 0, 0, 15, 0, 0, 0, 0, 0, 0, 0, 0, 0, 0, 0, 0, 0, 0, 0, 0, 0, 0, 0, 0, 0, 0, 0, 0, 0, 0, 0, 0, 0, 0, 0, 0, 0, 0, 0, 0, 15, 16, 0, 0, 0, 0, 15, 0, 0, 0, 13, 14, 0, 0, 0, 0, 0, 0, 0, 0, 0, 15, 15, 0, 0, 0, 0, 1, 2, 15, 2, 16, 16, 0, 1, 0, 0, 0, 16, 15, 0, 15, 0, 1, 0, 0, 0, 0, 0, 0, 0, 0, 0, 13, 14, 0, 15, 0, 0, 13, 0, 0, 0, 0, 0, 0, 0, 13, 14, 0, 0, 0, 0, 15, 15, 0, 0, 0, 0, 0, 0, 0, 0, 0, 0, 0, 15, 15, 0, 0, 0, 0, 0, 0, 0, 15, 15, 0, 0, 0, 0, 0, 0, 0, 0, 0, 0, 15, 0, 0, 13, 14, 0, 0, 15, 14, 0, 0, 15, 0, 0, 0, 0, 0, 15, 16, 0, 0, 5, 6, 0, 0, 0, 0, 0, 0, 0, 0, 0, 13, 0, 0, 0, 0, 0, 0, 0, 0, 0, 0, 13, 14, 0, 0, 0, 0, 0, 0, 0, 0, 0, 0, 0, 15, 0, 0, 0, 0, 0, 0, 0, 0, 0, 0, 0, 0, 13, 14, 0, 0, 0, 0, 0, 0, 0, 0, 0, 0, 0, 0, 0, 0, 0, 0, 0, 0, 0, 0, 0, 0, 13, 14, 0, 0, 0, 0, 0, 0, 0, 0, 0, 0, 0, 0, 0, 0, 0, 0, 0, 0, 0, 15, 16, 15, 0, 0, 0, 0, 15, 16, 13, 0, 0, 0, 0, 0, 0, 0, 0, 15, 16, 0, 16, 0, 0, 16, 0, 0, 0, 0, 0, 0, 15, 0, 0, 0, 0, 0, 0, 0, 0, 0, 0, 0, 0, 15, 16, 15, 0, 0, 0, 15, 0, 0, 0, 0, 0, 0, 0, 0, 0, 0, 0, 0, 0, 0, 0, 0, 0, 0, 15, 16, 15, 0, 0, 0, 1, 0, 0, 0, 0, 1, 2, 0, 0, 1, 0, 0, 0, 0, 15, 0, 0, 0, 0, 0, 0, 0, 0, 0, 0, 0, 15, 16, 15, 0, 0, 0, 0, 0, 0, 0, 0, 0, 1, 2, 0, 0, 0, 0, 0, 0, 0, 0, 0, 0, 0, 0, 0, 0, 1, 2, 0, 0, 0, 0, 0, 1, 2, 0, 0, 0, 0, 0, 0, 0, 0, 0, 0, 0, 1, 0, 0, 0, 15, 16, 0, 0, 0, 0, 13, 14, 0, 0, 0, 0, 0, 0, 0, 0, 0, 1, 2, 0, 0, 0, 0, 0, 0, 15, 16, 13, 0, 0, 0, 0, 0, 0, 0, 0, 0, 0, 0, 0, 0, 0, 0, 0, 0, 0, 0, 0, 0, 0, 0, 0, 0, 0, 0, 0, 0, 15, 16, 0, 0, 0, 15, 16, 15, 0, 0, 16, 16, 0, 0, 0, 0, 1, 2, 0, 0, 1, 2, 0, 0, 0, 0, 0, 0, 13, 0, 16, 16, 0, 0, 0, 0, 1, 2, 0, 0, 1, 0, 0, 0, 0, 0, 0, 0, 0, 0, 15, 16, 15, 0, 0, 15, 0, 0, 1, 0, 0, 15, 16, 15, 0, 0, 0, 0, 1, 2, 0, 0, 1, 2, 0, 0, 0, 0, 0, 0, 15, 0, 0, 0, 0, 0, 0, 0, 0, 16, 16, 0, 0, 0, 0, 1, 2, 0, 0, 1, 2, 0, 0, 0, 0, 0, 0, 0, 0, 0, 0, 0, 0, 0, 0, 0, 0, 0, 0, 0, 0, 0, 0, 0, 0, 0, 0, 0, 0, 0, 0, 0, 0, 0, 0, 0, 0, 0, 0, 0, 0, 0, 0, 0, 0, 0, 0, 0, 0, 0, 0, 0, 0, 0, 0, 15, 16, 15, 0, 0, 0, 0, 0, 0, 0, 0, 0, 0, 0, 0, 0, 0, 0, 0, 0, 0, 0, 0, 0, 0, 0, 0, 0, 0, 0, 0, 16, 16, 0, 0, 0, 0, 15, 0, 0, 0, 0, 1, 2, 0, 0, 1, 2, 0, 0, 0, 15, 16, 0, 0, 0, 0, 16, 16, 0, 0, 0, 0, 0, 0, 0, 0, 0, 0, 0, 0, 0, 0, 0, 0, 15, 16, 15, 0, 0, 0, 0, 13, 14, 0, 0, 0, 0, 0, 15, 16, 15, 0, 0, 0, 0, 11, 0, 0, 0, 15, 16, 15, 0, 0, 0, 0, 0, 15, 15, 0, 0, 0, 0, 0, 15, 16, 15, 0, 0, 0, 0, 0, 0, 0, 15, 16, 15, 0, 0, 16, 16, 0, 0, 0, 0, 11, 0, 0, 0, 15, 16, 15, 0, 0, 16, 16, 0, 0, 0, 0, 0, 0, 0, 0, 15, 15, 0, 0, 0, 15, 16, 0, 0, 0, 0, 0, 0, 0, 0, 15, 16, 0, 0, 0, 0, 15, 16, 0, 0, 1, 2, 0, 0, 15, 16, 0, 0, 1, 2, 15, 16, 16, 0, 0, 0, 0, 0, 0, 0, 0, 0, 0, 0, 0, 1, 2, 0, 0, 1, 2, 0, 0, 0, 0, 0, 0, 0, 0, 0, 0, 0, 0, 0, 0, 0, 0, 0, 0, 0, 0, 0, 0, 0, 0, 0, 0, 0, 0, 0, 15, 0, 0, 1, 2, 0, 0, 0, 0, 0, 0, 0, 0, 0, 0, 0, 0, 0, 0, 14, 0, 0, 0, 0, 0, 0, 0, 0, 0, 0, 0, 0, 0, 0, 0, 0, 0, 0, 0, 0, 0, 0, 15, 16, 0, 16, 0, 0, 0, 0, 0, 0, 0, 0, 0, 0, 0, 0, 0, 0, 0, 0, 0, 0, 0, 0, 0, 0, 0, 0, 0, 0, 0, 0, 0, 0, 0, 0, 0, 0, 0, 0, 0, 0, 0, 0, 0, 0, 0, 0, 0, 0, 0, 0, 0, 0, 0, 0, 0, 0, 0, 0, 0, 7, 0, 7, 0, 0, 15, 0, 0, 1, 2, 0, 0, 0, 0, 0, 0, 0, 0, 0, 0, 0, 0, 0, 0, 0, 0, 0, 0, 0, 0, 0, 0, 0, 0, 0, 0, 0, 1, 2, 0, 0, 0, 0, 0, 0, 1, 0, 0, 0, 0, 0, 1, 2, 0, 0, 0, 1, 0, 0, 0, 0, 0, 0, 0, 0, 0, 15, 0, 0, 1, 2, 0, 0, 0, 0, 0, 0, 0, 0, 0, 0, 0, 0, 0, 0, 0, 0, 0, 16, 16, 0, 0, 0, 0, 0, 0, 0, 0, 0, 0, 15, 0, 0, 0, 14, 14, 0, 0, 0, 0, 0, 0, 0, 0, 0, 0, 16, 16, 0, 0, 10, 0, 0, 0, 0, 0, 15, 0, 0, 0, 0, 0, 0, 16, 16, 0, 0, 0, 0, 13, 14, 0, 0, 0, 0, 0, 0, 0, 0, 0, 0, 0, 0, 0, 0, 15, 0, 0, 2, 0, 0, 0, 0, 0, 0, 0, 0, 0, 13, 0, 16, 0, 0, 0, 0, 0, 0, 0, 0, 0, 0, 0, 0, 0, 0, 0, 0, 0, 0, 0, 0, 15, 0, 0, 2, 0, 0, 0, 0, 0, 0, 0, 0, 0, 0, 0, 2, 0, 0, 0, 0, 0, 0, 15, 16, 0, 0, 0, 0, 0, 2, 0, 0, 1, 0, 0, 0, 0, 0, 0, 0, 0, 0, 0, 0, 0, 0, 15, 16, 0, 0, 0, 0, 0, 0, 0, 0, 16, 0, 0, 15, 0, 0, 0, 0, 0, 0, 0, 0, 0, 0, 15, 0, 0, 0, 0, 0, 0, 0, 0, 0, 0, 0, 0, 0, 0, 0, 0, 0, 0, 0, 0, 0, 0, 0, 15, 0, 0, 2, 0, 0, 0, 0, 0, 0, 0, 0, 0, 0, 2, 0, 0, 0, 0, 0, 0, 15, 16, 0, 0, 0, 0, 0, 2, 0, 0, 1, 0, 0, 0, 0, 0, 0, 0, 0, 15, 16, 0, 0, 0, 0, 0, 0, 0, 0, 0, 0, 0, 0, 0, 0, 0, 0, 0, 15, 0, 0, 16, 16, 0, 0, 0, 0, 0, 0, 0, 0, 0, 0, 0, 0, 0, 0, 0, 0, 0, 0, 0, 0, 0, 0, 15, 16, 0, 0, 0, 0, 0, 0, 15, 0, 0, 15, 16, 0, 0, 0, 0, 13, 14, 0, 0, 0, 0, 15, 0, 0, 0, 0, 0, 0, 0, 0, 0, 13, 16, 16, 0, 0, 0, 0, 0, 0, 0, 0, 0, 0, 0, 0, 0, 0, 13, 16, 16, 0, 0, 0, 0, 0, 0, 0, 0, 0, 16, 16, 0, 0, 0, 0, 0, 0, 0, 0, 0, 13, 0, 0, 13, 0, 0, 0, 0, 0, 0, 15, 0, 0, 15, 16, 0, 0, 0, 16, 16, 0, 0, 0, 0, 15, 0, 0, 0, 0, 0, 0, 0, 0, 0, 0, 16, 0, 0, 0, 0, 0, 0, 0, 0, 0, 0, 0, 16, 0, 0, 0, 0, 0, 15, 0, 0, 0, 15, 0, 0, 0, 0, 0, 0, 0, 0, 0, 0, 16, 0, 0, 0, 0, 0, 2, 0, 0, 0, 0, 0, 0, 0, 0, 0, 0, 0, 0, 0, 16, 0, 0, 0, 0, 0, 0, 13, 16, 0, 0, 15, 0, 0, 0, 0, 0, 0, 0, 0, 16, 16, 0, 0, 0, 0, 0, 15, 16, 0, 16, 0, 0, 16, 0, 13, 14, 0, 0, 0, 0, 0, 15, 0, 0, 0, 0, 0, 0, 0, 0, 0, 0, 0, 13, 14, 0, 0, 0, 0, 0, 15, 16, 15, 0, 0, 0, 0, 0, 0, 0, 0, 0, 0, 0, 0, 0, 13, 14, 0, 0, 0, 0, 0, 0, 0, 0, 15, 0, 0, 15, 0, 0, 0, 0, 0, 0, 0, 15, 16, 0, 0, 0, 0, 15, 0, 0, 0, 0, 13, 14, 0, 0, 0, 0, 0, 0, 0, 0, 0, 0, 0, 0, 0, 0, 15, 16, 15, 0, 0, 0, 0, 0, 0, 0, 0, 0, 15, 16, 0, 0, 0, 0, 0, 0, 0, 0, 0, 0, 0, 0, 0, 0, 0, 0, 13, 14, 0, 1, 2, 0, 0, 0, 0, 13, 0, 0, 0, 15, 16, 0, 0, 0, 0, 0, 0, 15, 0, 0, 15, 16, 0, 0, 2, 0, 0, 0, 16, 16, 0, 0, 0, 0, 10, 0, 0, 0, 0, 0, 0, 0, 13, 16, 16, 0, 0, 0, 0, 0, 0, 15, 16, 0, 0, 0, 15, 16, 0, 0, 0, 0, 0, 0, 0, 0, 0, 0, 0, 15, 0, 0, 15, 16, 0, 0, 0, 15, 0, 0, 0, 0, 0, 0, 0, 0, 0, 0, 0, 2, 0, 0, 2, 0, 0, 0, 15, 16, 0, 0, 15, 14, 14, 0, 1, 0, 0, 0, 0, 0, 1, 2, 0, 0, 0, 0, 15, 16, 0, 0, 0, 0, 0, 0, 0, 0, 15, 0, 0, 2, 0, 0, 0, 0, 0, 0, 0, 0, 0, 0, 0, 0, 0, 0, 0, 0, 0, 15, 16, 0, 0, 0, 0, 1, 2, 0, 0, 0, 0, 0, 0, 0, 0, 0, 0, 0, 0, 0, 0, 0, 0, 0, 0, 1, 2, 0, 0, 15, 0, 0, 0, 0, 0, 0, 0, 0, 2, 0, 0, 1, 2, 0, 0, 0, 0, 0, 0, 15, 0, 0, 0, 0, 0, 0, 0, 0, 1, 2, 0, 0, 0, 0, 0, 0, 0, 0, 0, 0, 0, 0, 15, 0, 0, 15, 16, 0, 15, 0, 0, 0, 1, 2, 0, 0, 0, 0, 0, 0, 0, 0, 0, 0, 15, 16, 0, 0, 15, 14, 14, 0, 1, 2, 0, 0, 0, 0, 0, 0, 2, 0, 0, 1, 2, 0, 0, 0, 0, 15, 0, 0, 0, 0, 0, 0, 0, 1, 2, 0, 0, 0, 0, 0, 1, 0, 0, 1, 2, 0, 0, 0, 0, 15, 0, 0, 0, 0, 0, 0, 0, 13, 14, 0, 0, 1, 2, 0, 0, 0, 1, 2, 0, 0, 0, 0, 0, 0, 0, 0, 0, 0, 15, 0, 0, 0, 0, 0, 0, 0, 0, 0, 0, 2, 0, 0, 15, 16, 0, 0, 0, 0, 0, 0, 0, 0, 0, 0, 15, 16, 0, 0, 0, 0, 0, 0, 0, 0, 0, 0, 0, 0, 0, 0, 0, 0, 15, 0, 0, 0, 0, 0, 14, 0, 0, 0, 0, 0, 0, 0, 0, 0, 0, 0, 0, 0, 0, 0, 0, 0, 0, 0, 0, 0, 0, 0, 0, 0, 0, 0, 0, 0, 0, 0, 0, 0, 0, 0, 1, 2, 0, 0, 15, 0, 0, 0, 0, 0, 15, 0, 0, 0, 0, 0, 0, 0, 0, 0, 0, 0, 0, 0, 0, 0, 0, 0, 0, 0, 0, 0, 0, 15, 0, 0, 1, 2, 0, 0, 0, 0, 0, 0, 0, 0, 0, 0, 0, 15, 0, 0, 0, 0, 0, 0, 0, 0, 0, 0, 0, 0, 0, 15, 16, 0, 0, 0, 0, 0, 0, 0, 0, 0, 0, 0, 15, 16, 0, 15, 16, 16, 0, 0, 0, 0, 0, 0, 0, 0, 0, 0, 0, 2, 0, 0, 0, 0, 0, 0, 0, 0, 0, 0, 0, 0, 0, 0, 0, 0, 0, 0, 0, 0, 0, 0, 15, 16, 0, 16, 0, 0, 0, 0, 0, 0, 15, 16, 0, 0, 0, 0, 0, 0, 0, 0, 0, 0, 0, 0, 0, 0, 0, 0, 0, 15, 16, 0, 0, 0, 0, 0, 0, 0, 0, 0, 0, 0, 0, 0, 0, 0, 0, 0, 13, 14, 14, 0, 0, 0, 0, 0, 0, 0, 13, 14, 0, 0, 0, 0, 0, 15, 0, 0, 0, 0, 0, 0, 0, 0, 0, 0, 0, 0, 0, 0, 0, 0, 0, 0, 0, 0, 0, 0]\n"
          ]
        }
      ]
    },
    {
      "cell_type": "code",
      "source": [
        "tokens_array=[]\n",
        "label_array=[]\n",
        "\n",
        "temp1=[]\n",
        "temp2=[]\n",
        "for i in range(len(all_tokens)):\n",
        "\n",
        "   temp1.append(all_tokens[i])\n",
        "   temp2.append(number_label[i])\n",
        "   if i%10==0 and i!=0:\n",
        "    tokens_array.append(temp1)\n",
        "    label_array.append(temp2)\n",
        "    temp1=[]\n",
        "    temp2=[]\n",
        "tokens_array.append(temp1)\n",
        "label_array.append(temp2)"
      ],
      "metadata": {
        "id": "ueB19bUzMqtx"
      },
      "execution_count": 170,
      "outputs": []
    },
    {
      "cell_type": "code",
      "source": [
        "print(tokens_array)\n",
        "print(label_array)"
      ],
      "metadata": {
        "colab": {
          "base_uri": "https://localhost:8080/"
        },
        "id": "5QR5AqFBQOSb",
        "outputId": "9b5c4806-7ab2-41d5-8546-eb97617d8c34"
      },
      "execution_count": 171,
      "outputs": [
        {
          "output_type": "stream",
          "name": "stdout",
          "text": [
            "[['EXECUTION', 'VERSION', 'Inveniam', 'Private', 'Equity', 'Fund', 'Demo', 'IV.', '.', '8500', 'World'], ['Trade', 'New', 'York,', 'New', 'York', '10022', 'January', '1,', '2019', 'Maria'], ['Sharapova', '31', 'Blandford', 'Street', 'London,', 'W1U', '3DN', 'Ladies', 'and', 'Gentlemen:'], ['RE:', 'Inveniam', 'Private', 'Equity', 'Fund', 'Demo', 'IV,', 'a', 'Delaware', 'limited'], ['partnership', '(the', '\"Fund\")', 'This', 'letter', 'agreement', '(this', '\"Letter', 'Agreement\")', 'is'], ['entered', 'into', 'in', 'connection', 'with', 'the', 'purchase', 'by', 'Sharapova', '(the'], ['\"Investor\")', 'of', 'a', 'limited', 'partnership', 'interest', 'in', 'the', 'Fund.', 'Capitalized'], ['terms', 'used', 'and', 'not', 'defined', 'herein', 'shall', 'have', 'the', 'meanings'], ['given', 'to', 'them', 'in', 'the', 'Fourth', 'Amended', 'and', 'Restated', 'Limited'], ['Partnership', 'Agreement', 'of', 'the', 'Fund', 'dated', 'as', 'of', 'August', '27,'], ['2021', '(the', '\"Limited', 'Partnership', 'Agreement\"),', 'the', 'Subscription', 'Agreement', 'between', 'the'], ['Investor', 'and', 'the', 'Fund', 'dated', 'as', 'of', 'the', 'date', 'hereof'], ['(the', '\"Subscription', 'Agreement\"),', 'including', 'any', 'amendments', 'and', 'supplements', 'to', 'all'], ['of', 'the', 'foregoing', '(collectively,', 'the', '\"Fund', 'Documents\").', 'In', 'consideration', 'for'], ['the', 'Investor', 'making', 'an', 'aggregate', 'capital', 'commitment', 'of', 'at', 'least'], ['$50,000,000', 'as', 'of', 'the', 'date', 'hereof', '(the', '\"Capital', 'Commitment\"),', 'Inveniam'], ['Capital', 'Partners', 'GP,', 'L.L.C.,', 'a', 'Delaware', 'limited', 'liability', 'company', '(the'], ['\"General', 'Partner\"),', 'in', 'its', 'capacity', 'as', 'the', 'general', 'partner', 'of'], ['the', 'Fund,', 'agrees', 'with', 'the', 'Investor', 'as', 'follows:', '1.', 'Reduced'], ['Management', 'Fee', 'Rate.', 'If', 'the', 'Investor', 'has', 'submitted', 'a', 'withdrawal'], ['request', 'and', 'the', 'amount', 'of', 'such', 'withdrawal', 'request', 'has', 'not'], ['been', 'fully', 'paid', 'to', 'the', 'Investor', 'by', 'the', 'January', '1,'], ['2019', 'of', 'the', 'applicable', 'Withdrawal', 'Date,', 'the', 'Management', 'Fee', 'charged'], ['to', 'the', 'Investor', 'with', 'respect', 'to', 'the', 'amount', 'that', 'has'], ['not', 'been', 'paid', 'will', 'be', 'reduced', 'in', 'accordance', 'with', 'the'], ['following', 'schedule', 'until', 'any', 'such', 'unsatisfied', 'withdrawal', 'request', 'will', 'be'], ['0.85%', 'Page', '2', '-2-', '2.', 'Most', 'Favored', 'Nation.', 'The', 'General'], ['Partner', 'shall', 'disclose', 'to', 'the', 'Investor', 'any', 'and', 'all', 'Other'], ['Agreements', '(which', 'may', 'be', 'redacted', 'to', 'remove', 'identifying', 'information)', 'with'], ['Comparable', 'Investors', 'admitted', 'to', 'the', 'Fund,', 'Inveniam', 'Private', 'Equity', 'Fund'], ['Demo', 'IV.', '(the', '\"Sister', 'Fund\")', 'and/or', 'AC', 'Partners', 'Overseas', 'Partners,'], ['L.P.', '(the', '\"SFRO', 'Feeder\")', 'entered', 'into', 'after', 'the', 'date', 'hereof'], ['(all', 'such', 'Other', 'Agreements', 'with', 'Comparable', 'Investors,', '\"Applicable', 'Other', 'Agreements\"),'], ['and,', 'to', 'the', 'extent', 'any', 'Applicable', 'Other', 'Agreement', 'entered', 'into'], ['with', 'any', 'Comparable', 'Investor', 'has', 'the', 'effect', 'of', 'establishing', 'rights'], ['or', 'otherwise', 'benefiting', 'such', 'other', 'Comparable', 'Investor', 'in', 'a', 'manner'], ['more', 'favorable', 'to', 'such', 'Comparable', 'Investor', 'than', 'the', 'rights', 'and'], ['benefits', 'established', 'in', 'favor', 'of', 'the', 'Investor', 'by', 'this', 'Letter'], ['Agreement', 'and', 'the', 'Limited', 'Partnership', 'Agreement,', 'the', 'Investor', 'shall,', 'upon'], ['request', 'to', 'the', 'General', 'Partner', 'made', 'within', '30', 'days', 'of'], ['being', 'notified', 'of', 'the', 'terms', 'of', 'such', 'Applicable', 'Other', 'Agreements,'], ['receive', 'the', 'same', 'rights', 'and', 'benefits', 'of', 'such', 'Applicable', 'Other'], ['Agreement', '(the', '\"Relevant', 'Terms\")', 'and', 'are', 'so', 'requested,', 'but', 'only'], ['if', 'the', 'Investor', 'agrees', 'to', 'be', 'bound', 'by', 'the', 'obligations'], ['or', 'restrictions', 'in', 'such', 'Applicable', 'Other', 'Agreement', 'directly', 'relating', 'to'], ['the', 'Relevant', 'Terms;', 'provided,', 'however,', 'that', 'Relevant', 'Terms', 'shall', 'exclude'], ['any', '\"most', 'favored', 'nation\"', 'rights', 'granted', 'in', 'any', 'Applicable', 'Other'], ['Agreement.', 'For', 'the', 'avoidance', 'of', 'doubt,', 'Relevant', 'Terms', 'do', 'not'], ['include', 'rights', 'or', 'benefits', 'that', '(1)', 'are', 'granted', 'to', 'any'], ['Third', 'Party', 'Investor', 'in', 'connection', 'with', 'such', 'Third', 'Party', \"Investor's\"], ['legal,', 'regulatory', 'or', 'tax', 'status', 'that', 'is', 'not', 'DOC', 'ID'], ['-', '36972123.18', '-3-', 'Page', '3', 'shared', 'by,', 'nor', 'applicable', 'to,'], ['the', 'Investor', 'or', 'is', 'otherwise', 'based', 'upon', 'laws,', 'rules', 'or'], ['regulations', 'applicable', 'to', 'such', 'Third', 'Party', 'Investor', 'to', 'which', 'the'], ['Investor', 'is', 'not', 'also', 'subject,', '(2)', 'are', 'granted', 'based', 'on'], ['a', 'requirement', 'under', 'a', 'formal', 'written', 'policy', 'of', 'such', 'Third'], ['Party', 'Investor', 'unrelated', 'to', 'its', 'investment', 'in', 'the', 'Fund,', 'the'], ['Sister', 'Fund', 'or', 'the', 'SFRO', 'Feeder,', 'to', 'which', 'the', 'Investor'], ['is', 'also', 'not', 'subject,', '(3)', 'relate', 'to', 'any', 'representation', 'by'], ['such', 'Third', 'Party', 'Investor', 'on,', 'or', 'any', 'observer', 'rights', 'with'], ['respect', 'to,', 'the', 'Advisory', 'Board', '(including,', 'without', 'limitation,', 'designation', 'of'], ['a', 'representative', 'to', 'serve', 'as', 'a', 'member', 'of', 'the', 'Advisory'], ['Board', 'or', 'attend', 'meetings', 'of', 'the', 'Advisory', 'Board', 'or', 'receive'], ['or', 'have', 'access', 'to', 'any', 'materials', 'provided', 'to', 'the', 'Advisory'], ['Board),', 'unless', 'the', 'Limited', 'Partner', 'to', 'which', 'such', 'Applicable', 'Other'], ['Agreement', 'is', 'disclosed', 'has', 'also', 'designated', 'a', 'member', 'of', 'the'], ['Advisory', 'Board', 'or', '(4)', 'are', 'based', 'upon', 'such', 'Third', 'Party'], [\"Investor's\", 'place', 'of', 'organization', 'or', 'headquarters', 'or', 'organizational', 'form', '(in'], ['each', 'case,', 'if', 'different', 'from', 'that', 'of', 'the', 'Investor).', 'As'], ['used', 'herein,', 'the', 'following', 'terms', 'shall', 'have', 'the', 'following', 'meanings:'], ['\"Comparable', 'Investor\"', 'shall', 'mean', 'any', 'Third', 'Party', 'Investor', 'having', 'a'], ['Capital', 'Commitment', 'to', 'the', 'Fund,', 'the', 'Sister', 'Fund', 'or', 'the'], ['SFRO', 'Feeder', 'equal', 'to', 'or', 'less', 'than', 'the', \"Investor's\", 'aggregate'], ['Capital', 'Commitment', 'to', 'the', 'Fund,', 'the', 'Sister', 'Fund', 'or', 'the'], ['SFRO', 'Feeder;', 'provided', 'that', 'for', 'purposes', 'of', 'determining', 'whether', 'any'], ['Third', 'Party', 'Investor', 'is', 'a', 'Comparable', 'Investor,', 'the', 'investment', 'of'], ['such', 'Third', 'Party', 'Investor', 'in', 'the', 'Fund,', 'the', 'Sister', 'Fund'], ['or', 'the', 'SFRO', 'Feeder', 'may,', 'in', 'the', 'discretion', 'of', 'the'], ['General', 'Partner,', 'be', 'aggregated', 'with', 'the', 'aggregate', 'amount', 'of', 'Capital'], ['Commitments', 'to', 'the', 'Fund,', 'the', 'Sister', 'Fund', 'or', 'the', 'SFRO'], ['Feeder', 'by', 'any', 'Affiliates', 'thereof', 'and', 'any', 'other', 'related', 'Persons'], ['thereof', '(including', 'any', 'such', 'Persons', 'treated', 'as', 'affiliated', 'or', 'related'], ['for', 'such', 'purposes', 'as', 'a', 'result', 'of', 'being', 'clients', 'of,'], ['or', 'otherwise', 'managed', 'or', 'advised', 'by,', 'the', 'same', 'Person', 'or'], ['by', 'an', 'Affiliate', 'thereof)', 'and', 'the', 'aggregate', 'amount', 'of', 'any'], ['requested', 'subscription', 'amounts', 'of', 'the', 'Third', 'Party', 'Investor', 'or', 'any'], ['of', 'the', 'foregoing', 'which', 'were', 'not', 'accepted', 'due', 'to', 'legal'], ['or', 'regulatory', 'limitations', '(including,', 'without', 'limitation,', 'in', 'order', 'to', 'ensure'], ['that', 'the', 'aggregate', 'direct', 'and', 'indirect', 'Capital', 'Commitments', 'by', 'all'], ['Benefit', 'Plan', 'Investors', 'to', 'the', 'Fund,', 'the', 'Sister', 'Fund', 'or'], ['the', 'SFRO', 'Feeder', 'are', 'less', 'than', 'twenty-five', 'percent', '(25%)', 'of'], ['the', 'total', 'Capital', 'Commitments', 'to', 'such', 'vehicle),', 'in', 'each', 'case,'], ['to', 'the', 'extent', 'deemed', 'to', 'have', 'been', 'made', 'by', 'such'], ['Third', 'Party', 'Investor', 'for', 'purposes', 'of', 'its', 'Other', 'Agreement', 'as'], ['so', 'designated', 'therein;', 'A', 'Third', 'Party', 'Investor', 'that', 'has', 'materially'], ['less', 'U.S.', 'ownership', 'than', 'another', 'Third', 'Party', 'Investor', 'will', 'not'], ['be', 'considered', 'a', 'Comparable', 'Investor', 'with', 'respect', 'to', 'such', 'other'], ['Third', 'Party', 'Investor', 'solely', 'for', 'economic', 'purposes.', 'For', 'example,', 'a'], ['Third', 'Party', 'Investor', 'making', 'a', 'Capital', 'Commitment', 'comprised', 'of', '25%'], ['more', 'U.S.', 'ownership', 'than', 'another', 'Third', 'Party', 'Investor', 'making', 'a'], ['Capital', 'Commitment', 'of', 'the', 'same', 'size', 'would', 'not', 'be', 'considered'], ['Comparable', 'Investors', 'for', 'economic', 'purposes.', '\"Other', 'Agreements\"', 'shall', 'mean', 'side'], ['letters', 'or', 'similar', 'agreements', 'with', 'Limited', 'Partners', 'of', 'the', 'Fund,'], ['the', 'limited', 'partners', 'of', 'the', 'Sister', 'Fund', 'or', 'the', 'limited'], ['partners', 'of', 'the', 'SFRO', 'Feeder.', '\"Third', 'Party', 'Investor\"', 'means', 'any'], ['Person', 'that', 'subscribes', 'to', 'or', 'invests', 'in', 'the', 'Fund,', 'the'], ['Sister', 'Fund', 'or', 'the', 'SFRO', 'Feeder', 'other', 'than:', '(i)', 'any'], ['current', 'or', 'former', '(x)', 'member,', 'partner,', 'director,', 'officer,', 'employee,', 'principal,'], ['or', 'consultant', '(provided', 'such', 'consultant', 'is', 'generally', 'subject', 'to', 'AC'], [\"Partners'\", 'compliance', 'policies)', 'of', 'the', 'General', 'Partner,', 'the', 'Management', 'Company'], ['or', 'any', 'of', 'their', 'Affiliates,', 'or', '(y)', 'any', 'Related', 'Investor,'], ['or', 'other', 'account,', 'trust,', 'partnership', 'or', 'entity', 'primarily', 'for', 'the'], ['benefit', 'of', 'any', 'of', 'the', 'foregoing', 'or', 'any', 'of', 'their'], ['families;', '(ii)', 'any', 'Person', '(or', 'any', 'Persons', 'DOC', 'ID', '-'], ['36972123.18', '-4-', 'Page', '4', 'affiliated', 'with', 'or', 'related', 'to', 'such'], ['Person)', 'including,', 'without', 'limitation,', 'one', 'individual', 'who', 'may', 'assist', 'in'], ['raising', 'capital', 'through', 'such', \"individual's\", \"employer's\", 'private', 'client', 'platform', '(subject'], ['to', 'applicable', 'law', 'and', 'such', \"individual's\", \"employer's\", 'policies', 'and', 'procedures'], ['around', 'making', 'such', 'investments)', 'that', 'is', 'a', 'current', 'or', 'former'], ['joint', 'venture', 'partner', 'or', 'strategic', 'partner', 'of,', 'or', 'co-manager', 'or'], ['co-adviser', 'with,', 'the', 'General', 'Partner,', 'the', 'Management', 'Company', 'or', 'any'], ['of', 'their', 'Affiliates,', '(iii)', 'any', 'Person', '(or', 'any', 'Persons', 'affiliated'], ['with', 'or', 'related', 'to', 'such', 'Person)', 'currently', 'or', 'previously', 'serving'], ['or', 'having', 'representatives', 'on', 'any', 'investment', 'committee', '(or', 'similar', 'body'], ['or', 'structure', 'exercising', 'investment', 'discretion)', 'of', 'the', 'Fund,', 'the', 'Sister'], ['Fund', 'or', 'of', 'any', 'investment', 'fund,', 'vehicle', 'or', 'account', 'co-managed'], ['or', 'co-advised', 'by', 'the', 'General', 'Partner,', 'the', 'Management', 'Company', 'or'], ['any', 'of', 'their', 'Affiliates,', 'or', '(iv)', 'any', 'subsequent', 'successor,', 'heir'], ['or', 'assign', 'of', 'the', 'foregoing.', '3.', 'Capital', 'Commitments', 'by', 'Benefit'], ['Plan', 'Investors.', 'The', 'parties', 'hereto', 'acknowledge', 'that', 'the', 'Investor', 'has'], ['submitted', 'a', 'Subscription', 'Agreement', 'on', 'or', 'prior', 'to', 'the', 'date'], ['hereof', 'requesting', 'an', 'aggregate', 'Capital', 'Commitment', 'of', '$50', 'million', '(the'], ['\"Requested', 'Commitment\"),', 'and', 'the', 'Investor', 'shall', 'be', 'deemed', 'to', 'have'], ['such', 'Capital', 'Commitment', 'for', 'purposes', 'of', 'this', 'Letter', 'Agreement.', 'Notwithstanding'], ['the', 'foregoing,', 'the', 'parties', 'hereto', 'agree', 'that,', 'in', 'the', 'sole'], ['discretion', 'of', 'the', 'General', 'Partner,', 'the', 'Fund', 'shall', 'accept', 'less'], ['than', 'the', 'full', 'amount', 'of', 'the', \"Investor's\", 'Requested', 'Commitment', 'on'], ['the', 'date', 'hereof', 'in', 'order', 'to', 'ensure', 'that', 'the', 'aggregate'], ['direct', 'and', 'indirect', 'capital', 'commitments', 'by', 'all', 'Benefit', 'Plan', 'Investors'], ['to', 'the', 'Fund', 'are', 'less', 'than', '25%', 'of', 'the', 'total'], ['capital', 'commitments', 'to', 'the', 'Fund', '(excluding', 'any', 'capital', 'commitments', 'by'], ['the', 'General', 'Partner', 'or', 'its', 'Affiliates', 'to', 'the', 'Fund', 'or'], ['the', 'SFRO', 'Feeder).', 'In', 'such', 'event,', 'at', 'each', 'subsequent', 'Closing'], ['following', 'the', 'date', 'hereof,', 'the', 'General', 'Partner', 'shall', 'accept', 'additional'], ['portions', 'of', 'the', 'remaining', 'Requested', 'Commitment', 'of', 'the', 'Investor', '(each,'], ['an', '\"Adjustment\")', 'if', 'and', 'to', 'the', 'extent', 'that', 'the', 'General'], ['Partner,', 'in', 'its', 'sole', 'discretion,', 'determines', 'that', 'doing', 'so', 'would'], ['not', 'cause', 'the', 'aggregate', 'direct', 'and', 'indirect', 'capital', 'commitments', 'by'], ['all', 'Benefit', 'Plan', 'Investors', 'to', 'the', 'Fund', 'to', 'exceed', '25%'], ['of', 'the', 'total', 'capital', 'commitments', 'to', 'the', 'Fund', '(excluding', 'any'], ['capital', 'commitments', 'by', 'the', 'General', 'Partner', 'or', 'its', 'Affiliates', 'to'], ['the', 'Fund', 'or', 'the', 'SFRO', 'Feeder).', 'Such', 'Adjustments', 'shall', 'be'], ['accepted', 'by', 'the', 'General', 'Partner', 'on', 'not', 'less', 'than', 'a'], ['pro', 'rata', 'basis', 'with', 'any', 'similar', 'adjustments', 'for', 'any', 'other'], ['Benefit', 'Plan', 'Investors', 'whose', 'requested', 'Capital', 'Commitment', 'was', 'not', 'accepted'], ['in', 'full', 'on', 'or', 'prior', 'to', 'the', 'date', 'hereof.', 'Notwithstanding'], ['the', 'foregoing,', 'at', 'one', 'or', 'more', 'subsequent', 'Closings,', 'the', 'General'], ['Partner', 'may', 'admit', 'any', 'other', 'Benefit', 'Plan', 'Investor', 'as', 'a'], ['Limited', 'Partner', 'and', 'enter', 'into', 'an', 'Other', 'Agreement', 'with', 'such'], ['Benefit', 'Plan', 'Investor', 'that', 'provides', 'for', 'the', 'acceptance', 'of', 'such'], ['Benefit', 'Plan', \"Investor's\", 'Capital', 'Commitment', 'on', 'a', 'similarly', 'conditional', 'basis,'], ['provided', 'that', 'the', \"Fund's\", 'acceptance', 'of', 'such', 'Benefit', 'Plan', \"Investor's\"], ['Capital', 'Commitment', 'in', 'full', 'is', 'only', 'to', 'the', 'extent', 'that'], ['such', 'Capital', 'Commitment', 'is', 'later', 'in', 'priority', 'to', 'the', 'acceptance'], ['of', 'the', \"Investor's\", 'Requested', 'Commitment.', 'Other', 'than', 'as', 'set', 'forth'], ['in', 'this', 'Section', '3,', 'the', 'General', 'Partner', 'shall', 'not', 'accept'], ['Capital', 'Commitments', 'from', 'any', 'Benefit', 'Plan', 'Investors', 'until', 'such', 'time'], ['as', 'the', 'entire', 'amount', 'of', 'the', 'Requested', 'Commitment', 'has', 'been'], ['accepted.', 'For', 'the', 'avoidance', 'of', 'doubt,', '(i)', 'the', 'Requested', 'Commitment'], ['shall', 'be', 'irrevocable', 'by', 'the', 'Investor', 'and', '(ii)', 'the', 'Investor'], ['shall', 'be', 'obligated', 'to', 'fund', 'each', 'portion', 'of', 'the', 'Requested'], ['Commitment', 'that', 'is', 'accepted', 'by', 'the', 'Fund', 'at', 'each', 'subsequent'], ['Closing.', 'Further,', 'for', 'purposes', 'of', 'determining', 'the', 'Lock-Up', 'and', 'the'], ['Commitment', 'Lock-Up', 'Expiration', 'Date', 'applicable', 'to', 'the', \"Investor's\", 'Capital', 'Commitment,'], ['the', 'Investor', 'shall', 'be', 'deemed', 'to', 'have', 'made', 'its', 'entire'], ['Capital', 'Commitment', 'as', 'of', 'the', 'date', 'hereof.', 'DOC', 'ID', '-'], ['36972123.18', '-5-', 'Page', '5', '4.', 'Other', 'Agreements.', 'For', 'so', 'long'], ['as', 'the', 'Investor', 'holds', 'an', 'Interest', 'in', 'the', 'Fund,', 'to'], ['the', 'extent', 'that', 'any', 'Other', 'Agreement', 'is', 'entered', 'into', 'with'], ['a', 'Third', 'Party', 'Investor', 'with', 'respect', 'to', 'its', 'interest', 'in'], ['the', 'Fund,', 'and', 'a', 'copy', 'of', 'such', 'Other', 'Agreement', 'is'], ['not', 'required', 'to', 'be', 'provided', 'to', 'the', 'Investor', 'pursuant', 'to'], ['Section', '2', 'above,', 'then', 'in', 'such', 'event,', 'the', 'General', 'Partner'], ['shall', 'provide', 'to', 'the', 'Investor', 'a', 'copy', 'of', 'such', 'Other'], ['Agreement', '(which', 'such', 'copy', 'may', 'be', 'redacted', 'for', 'any', 'identifying'], ['information', 'with', 'respect', 'to', 'the', 'Third', 'Party', 'Investor', 'or', 'any'], ['other', 'information', 'not', 'relevant', 'hereto)', 'unless', 'the', 'General', 'Partner', 'is'], ['otherwise', 'restricted', 'by', 'confidentiality', 'or', 'non-', 'disclosure', 'obligations', 'with', 'respect'], ['to', 'the', 'provision', 'of', 'such', 'Other', 'Agreement.', '5.', 'Advisory', 'Board.'], ['In', 'consideration', 'of', 'the', \"Investor's\", 'admission', 'as', 'a', 'Limited', 'Partner'], ['and', 'for', 'so', 'long', 'as', 'the', 'Investor', 'is', 'a', 'Limited'], ['Partner', 'in', 'the', 'Fund', 'and', 'maintains', 'a', 'Capital', 'Commitment', 'of'], ['at', 'least', '$50', 'million', '(or', 'such', 'lesser', 'aggregate', 'amount', 'of'], ['the', \"Investor's\", 'Capital', 'Commitment', 'that', 'has', 'been', 'accepted', 'by', 'the'], ['General', 'Partner', 'in', 'accordance', 'with', 'Section', '3', 'above', 'as', 'of'], ['the', 'relevant', 'date),', 'and', 'is', 'not', 'a', 'Defaulting', 'Limited', 'Partner,'], ['the', 'General', 'Partner', 'agrees', 'that', 'the', 'Investor', 'shall', 'be', 'entitled'], ['to', 'designate', 'one', 'member', 'to', 'serve', 'on', 'a', 'committee', 'of'], ['the', 'Fund', 'established', 'pursuant', 'to', 'Section', '5.6', 'of', 'the', 'Limited'], ['Partnership', 'Agreement', '(the', '\"Advisory', 'Board\").', 'The', 'appointment', 'of', 'an', 'Advisory'], ['Board', 'member', 'pursuant', 'to', 'this', 'Section', '5', 'shall', 'be', 'effective'], ['upon', 'written', 'notice', 'from', 'the', 'Investor', 'to', 'the', 'Fund', 'of'], ['the', 'name', 'and', 'contact', 'information', 'of', 'the', 'individual', 'so', 'appointed.'], ['If', 'the', 'individual', 'appointed', 'pursuant', 'this', 'Section', '5', 'to', 'act'], ['as', 'the', 'Advisory', 'Board', 'member', 'is', 'no', 'longer', 'affiliated', 'with'], ['the', 'Investor,', 'or', 'no', 'longer', 'able', 'or', 'willing', 'to', 'act'], ['as', 'the', 'Advisory', 'Board', 'member,', 'the', 'Investor', 'shall', 'provide', 'prompt'], ['written', 'notice', 'thereof', 'to', 'the', 'Fund', 'and', 'such', 'Advisory', 'Board'], ['member', 'shall', 'automatically', 'be', 'removed.', 'The', 'Investor', 'shall', 'be', 'entitled'], ['to', 'remove', 'or', 'replace', 'any', 'Advisory', 'Board', 'member', 'at', 'any'], ['time', 'pursuant', 'to', 'prior', 'written', 'notice', 'provided', 'by', 'the', 'Investor'], ['to', 'the', 'General', 'Partner.', 'The', 'Investor', 'acknowledges', 'that', 'the', 'Advisory'], ['Board', 'member', 'shall', 'be', 'bound', 'by', 'the', 'confidentiality', 'provisions', 'described'], ['in', 'Section', '14.2', 'of', 'the', 'Limited', 'Partnership', 'Agreement.', 'The', 'Advisory'], ['Board', 'may', 'act', 'on', 'behalf', 'of', 'the', 'Fund', 'and', 'the'], ['Sister', 'Fund', 'if', 'requested', 'by', 'the', 'General', 'Partner,', 'provided', 'that'], ['in', 'the', 'event', 'the', 'Advisory', 'Board', 'acts', 'on', 'behalf', 'of'], ['the', 'Sister', 'Fund,', 'the', 'Advisory', 'Board', 'representative', 'appointed', 'by', 'the'], ['Investor', 'shall', 'be', 'indemnified', 'pursuant', 'to', 'a', 'separate', 'indemnification', 'agreement'], ['between', 'such', 'Advisory', 'Board', 'representative', 'and', 'the', 'Sister', 'Fund.', '6.'], ['Transfers.', 'In', 'connection', 'with', 'any', 'proposed', 'transfer', 'by', 'the', 'Investor'], ['of', 'all', 'or', 'a', 'portion', 'of', 'its', 'Interest', 'in', 'the'], ['Fund', 'to', 'a', 'Lockheed', 'Party', '(as', 'defined', 'below),', 'at', 'the'], ['request', 'of', 'the', 'Investor,', 'the', 'General', 'Partner', 'shall', 'not', 'unreasonably'], ['withhold', 'its', 'written', 'consent', 'to', 'such', 'transfer', 'and', 'the', \"transferee's\"], ['substitution', 'as', 'a', 'Limited', 'Partner,', 'as', 'required', 'by', 'the', 'Subscription'], ['Agreement;', 'provided', '(a)', 'such', 'transfer', 'will', 'not', 'result', 'in', 'a'], ['violation', 'of', 'any', 'applicable', 'laws,', 'rules', 'or', 'regulations', 'or', 'have'], ['any', 'material', 'adverse', 'impact', '(whether', 'legal,', 'financial,', 'tax,', 'regulatory,', 'or'], ['otherwise)', 'on', 'the', 'Fund,', 'the', 'Management', 'Company', 'or', 'the', 'General'], ['Partner,', 'as', 'determined', 'by', 'the', 'General', 'Partner,', '(b)', 'such', 'transferee'], ['is', 'not', 'a', 'competitor', 'of', '(directly', 'or', 'indirectly)', 'or', 'otherwise'], ['affiliated', 'with', 'any', 'competitor', 'of', 'the', 'Fund,', 'the', 'General', 'Partner,'], ['the', 'Management', 'Company', 'or', 'their', 'respective', 'Affiliates,', 'as', 'determined', 'in'], ['good', 'faith', 'by', 'the', 'General', 'Partner,', '(c)', 'such', 'transferee', 'is'], ['determined', 'to', 'be', 'sufficiently', 'creditworthy', 'to', 'assume', 'the', 'Limited', \"Partner's\"], ['obligations', 'with', 'respect', 'to', 'the', 'Interest', 'being', 'transferred', 'and', 'clears'], ['any', 'anti-money', 'laundering', '(AML),', 'know', 'your', 'customer', '(KYC)', 'and', 'similar'], ['reviews', 'conducted', 'by', 'or', 'on', 'behalf', 'of', 'the', 'Fund', 'or'], ['its', 'administrator', 'and', 'consistent', 'with', 'their', 'policies', 'and', 'procedures,', 'and'], ['(d)', 'such', 'transfer', 'is', 'documented', 'in', 'writing', 'in', 'a', 'form'], ['reasonably', 'DOC', 'ID', '-', '36972123.18', '-6-', 'Page', '6', 'acceptable', 'to'], ['the', 'General', 'Partner', 'and', 'such', 'transferee', 'makes', 'such', 'representations,', 'warranties,'], ['covenants', 'and', 'undertakings', 'as', 'may', 'be', 'reasonably', 'required', 'by', 'the'], ['General', 'Partner', 'in', 'connection', 'with', 'such', 'transfer,', 'including', 'representations,', 'warranties,'], ['covenants', 'and', 'undertakings', 'comparable', 'to', 'those', 'included', 'in', 'the', \"Investor's\"], ['Subscription', 'Agreement.', 'The', 'rights', 'and', 'obligations', 'arising', 'under', 'this', 'Letter'], ['Agreement', 'may', 'be', 'assigned', 'by', 'the', 'Investor', 'to', 'any', 'such'], ['transferee,', 'and', 'will', 'apply', 'equally', 'to', 'such', 'transferee,', 'in', 'connection'], ['with', 'such', 'transfer;', 'provided,', 'however,', 'that', 'the', 'rights', 'arising']]\n",
            "[[0, 0, 1, 2, 15, 2, 16, 16, 0, 11, 12], [12, 11, 0, 11, 12, 12, 3, 0, 4, 7], [7, 11, 12, 12, 0, 0, 0, 0, 0, 0], [0, 1, 2, 15, 2, 16, 0, 0, 1, 15], [14, 0, 0, 0, 13, 14, 0, 13, 0, 0], [0, 0, 0, 0, 0, 0, 0, 0, 7, 0], [0, 0, 0, 15, 14, 0, 0, 0, 2, 0], [0, 0, 0, 0, 0, 0, 0, 0, 0, 0], [0, 0, 0, 0, 0, 0, 13, 0, 14, 15], [14, 14, 0, 0, 2, 0, 0, 0, 3, 0], [4, 0, 13, 14, 0, 0, 14, 14, 0, 0], [15, 0, 0, 2, 0, 0, 0, 0, 0, 0], [0, 13, 0, 0, 0, 0, 0, 0, 0, 0], [0, 0, 0, 0, 0, 0, 0, 0, 0, 0], [0, 15, 0, 0, 0, 0, 0, 0, 0, 0], [0, 0, 0, 0, 0, 0, 0, 13, 0, 1], [16, 16, 0, 0, 0, 1, 15, 2, 2, 0], [15, 0, 0, 0, 0, 0, 0, 0, 0, 0], [0, 0, 0, 0, 0, 15, 0, 0, 0, 0], [1, 0, 0, 0, 0, 15, 0, 0, 0, 0], [0, 0, 0, 0, 0, 0, 0, 0, 0, 0], [0, 0, 0, 0, 0, 15, 0, 0, 3, 0], [4, 0, 0, 0, 0, 0, 0, 1, 0, 0], [0, 0, 15, 0, 0, 0, 0, 0, 0, 0], [0, 0, 0, 0, 0, 0, 0, 0, 0, 0], [0, 0, 0, 0, 0, 0, 0, 0, 0, 0], [0, 0, 0, 0, 0, 0, 0, 0, 0, 15], [16, 0, 0, 0, 0, 15, 0, 0, 0, 13], [14, 0, 0, 0, 0, 0, 0, 0, 0, 0], [15, 15, 0, 0, 0, 0, 1, 2, 15, 2], [16, 16, 0, 1, 0, 0, 0, 16, 15, 0], [15, 0, 1, 0, 0, 0, 0, 0, 0, 0], [0, 0, 13, 14, 0, 15, 0, 0, 13, 0], [0, 0, 0, 0, 0, 0, 13, 14, 0, 0], [0, 0, 15, 15, 0, 0, 0, 0, 0, 0], [0, 0, 0, 0, 0, 15, 15, 0, 0, 0], [0, 0, 0, 0, 15, 15, 0, 0, 0, 0], [0, 0, 0, 0, 0, 0, 15, 0, 0, 13], [14, 0, 0, 15, 14, 0, 0, 15, 0, 0], [0, 0, 0, 15, 16, 0, 0, 5, 6, 0], [0, 0, 0, 0, 0, 0, 0, 0, 13, 0], [0, 0, 0, 0, 0, 0, 0, 0, 0, 13], [14, 0, 0, 0, 0, 0, 0, 0, 0, 0], [0, 0, 15, 0, 0, 0, 0, 0, 0, 0], [0, 0, 0, 0, 0, 13, 14, 0, 0, 0], [0, 0, 0, 0, 0, 0, 0, 0, 0, 0], [0, 0, 0, 0, 0, 0, 0, 0, 0, 13], [14, 0, 0, 0, 0, 0, 0, 0, 0, 0], [0, 0, 0, 0, 0, 0, 0, 0, 0, 0], [15, 16, 15, 0, 0, 0, 0, 15, 16, 13], [0, 0, 0, 0, 0, 0, 0, 0, 15, 16], [0, 16, 0, 0, 16, 0, 0, 0, 0, 0], [0, 15, 0, 0, 0, 0, 0, 0, 0, 0], [0, 0, 0, 0, 15, 16, 15, 0, 0, 0], [15, 0, 0, 0, 0, 0, 0, 0, 0, 0], [0, 0, 0, 0, 0, 0, 0, 0, 0, 15], [16, 15, 0, 0, 0, 1, 0, 0, 0, 0], [1, 2, 0, 0, 1, 0, 0, 0, 0, 15], [0, 0, 0, 0, 0, 0, 0, 0, 0, 0], [0, 15, 16, 15, 0, 0, 0, 0, 0, 0], [0, 0, 0, 1, 2, 0, 0, 0, 0, 0], [0, 0, 0, 0, 0, 0, 0, 0, 0, 1], [2, 0, 0, 0, 0, 0, 1, 2, 0, 0], [0, 0, 0, 0, 0, 0, 0, 0, 0, 1], [0, 0, 0, 15, 16, 0, 0, 0, 0, 13], [14, 0, 0, 0, 0, 0, 0, 0, 0, 0], [1, 2, 0, 0, 0, 0, 0, 0, 15, 16], [13, 0, 0, 0, 0, 0, 0, 0, 0, 0], [0, 0, 0, 0, 0, 0, 0, 0, 0, 0], [0, 0, 0, 0, 0, 0, 0, 0, 0, 0], [15, 16, 0, 0, 0, 15, 16, 15, 0, 0], [16, 16, 0, 0, 0, 0, 1, 2, 0, 0], [1, 2, 0, 0, 0, 0, 0, 0, 13, 0], [16, 16, 0, 0, 0, 0, 1, 2, 0, 0], [1, 0, 0, 0, 0, 0, 0, 0, 0, 0], [15, 16, 15, 0, 0, 15, 0, 0, 1, 0], [0, 15, 16, 15, 0, 0, 0, 0, 1, 2], [0, 0, 1, 2, 0, 0, 0, 0, 0, 0], [15, 0, 0, 0, 0, 0, 0, 0, 0, 16], [16, 0, 0, 0, 0, 1, 2, 0, 0, 1], [2, 0, 0, 0, 0, 0, 0, 0, 0, 0], [0, 0, 0, 0, 0, 0, 0, 0, 0, 0], [0, 0, 0, 0, 0, 0, 0, 0, 0, 0], [0, 0, 0, 0, 0, 0, 0, 0, 0, 0], [0, 0, 0, 0, 0, 0, 0, 0, 0, 0], [0, 0, 0, 0, 0, 15, 16, 15, 0, 0], [0, 0, 0, 0, 0, 0, 0, 0, 0, 0], [0, 0, 0, 0, 0, 0, 0, 0, 0, 0], [0, 0, 0, 0, 0, 0, 16, 16, 0, 0], [0, 0, 15, 0, 0, 0, 0, 1, 2, 0], [0, 1, 2, 0, 0, 0, 15, 16, 0, 0], [0, 0, 16, 16, 0, 0, 0, 0, 0, 0], [0, 0, 0, 0, 0, 0, 0, 0, 0, 0], [15, 16, 15, 0, 0, 0, 0, 13, 14, 0], [0, 0, 0, 0, 15, 16, 15, 0, 0, 0], [0, 11, 0, 0, 0, 15, 16, 15, 0, 0], [0, 0, 0, 15, 15, 0, 0, 0, 0, 0], [15, 16, 15, 0, 0, 0, 0, 0, 0, 0], [15, 16, 15, 0, 0, 16, 16, 0, 0, 0], [0, 11, 0, 0, 0, 15, 16, 15, 0, 0], [16, 16, 0, 0, 0, 0, 0, 0, 0, 0], [15, 15, 0, 0, 0, 15, 16, 0, 0, 0], [0, 0, 0, 0, 0, 15, 16, 0, 0, 0], [0, 15, 16, 0, 0, 1, 2, 0, 0, 15], [16, 0, 0, 1, 2, 15, 16, 16, 0, 0], [0, 0, 0, 0, 0, 0, 0, 0, 0, 0], [1, 2, 0, 0, 1, 2, 0, 0, 0, 0], [0, 0, 0, 0, 0, 0, 0, 0, 0, 0], [0, 0, 0, 0, 0, 0, 0, 0, 0, 0], [0, 0, 0, 0, 0, 15, 0, 0, 1, 2], [0, 0, 0, 0, 0, 0, 0, 0, 0, 0], [0, 0, 0, 0, 14, 0, 0, 0, 0, 0], [0, 0, 0, 0, 0, 0, 0, 0, 0, 0], [0, 0, 0, 0, 0, 0, 0, 15, 16, 0], [16, 0, 0, 0, 0, 0, 0, 0, 0, 0], [0, 0, 0, 0, 0, 0, 0, 0, 0, 0], [0, 0, 0, 0, 0, 0, 0, 0, 0, 0], [0, 0, 0, 0, 0, 0, 0, 0, 0, 0], [0, 0, 0, 0, 0, 0, 0, 0, 0, 0], [0, 0, 0, 0, 0, 0, 0, 0, 7, 0], [7, 0, 0, 15, 0, 0, 1, 2, 0, 0], [0, 0, 0, 0, 0, 0, 0, 0, 0, 0], [0, 0, 0, 0, 0, 0, 0, 0, 0, 0], [0, 0, 0, 0, 0, 1, 2, 0, 0, 0], [0, 0, 0, 1, 0, 0, 0, 0, 0, 1], [2, 0, 0, 0, 1, 0, 0, 0, 0, 0], [0, 0, 0, 0, 15, 0, 0, 1, 2, 0], [0, 0, 0, 0, 0, 0, 0, 0, 0, 0], [0, 0, 0, 0, 0, 0, 16, 16, 0, 0], [0, 0, 0, 0, 0, 0, 0, 0, 15, 0], [0, 0, 14, 14, 0, 0, 0, 0, 0, 0], [0, 0, 0, 0, 16, 16, 0, 0, 10, 0], [0, 0, 0, 0, 15, 0, 0, 0, 0, 0], [0, 16, 16, 0, 0, 0, 0, 13, 14, 0], [0, 0, 0, 0, 0, 0, 0, 0, 0, 0], [0, 0, 0, 15, 0, 0, 2, 0, 0, 0], [0, 0, 0, 0, 0, 0, 13, 0, 16, 0], [0, 0, 0, 0, 0, 0, 0, 0, 0, 0], [0, 0, 0, 0, 0, 0, 0, 0, 0, 15], [0, 0, 2, 0, 0, 0, 0, 0, 0, 0], [0, 0, 0, 0, 2, 0, 0, 0, 0, 0], [0, 15, 16, 0, 0, 0, 0, 0, 2, 0], [0, 1, 0, 0, 0, 0, 0, 0, 0, 0], [0, 0, 0, 0, 0, 15, 16, 0, 0, 0], [0, 0, 0, 0, 0, 16, 0, 0, 15, 0], [0, 0, 0, 0, 0, 0, 0, 0, 0, 15], [0, 0, 0, 0, 0, 0, 0, 0, 0, 0], [0, 0, 0, 0, 0, 0, 0, 0, 0, 0], [0, 0, 0, 15, 0, 0, 2, 0, 0, 0], [0, 0, 0, 0, 0, 0, 0, 2, 0, 0], [0, 0, 0, 0, 15, 16, 0, 0, 0, 0], [0, 2, 0, 0, 1, 0, 0, 0, 0, 0], [0, 0, 0, 15, 16, 0, 0, 0, 0, 0], [0, 0, 0, 0, 0, 0, 0, 0, 0, 0], [0, 0, 15, 0, 0, 16, 16, 0, 0, 0], [0, 0, 0, 0, 0, 0, 0, 0, 0, 0], [0, 0, 0, 0, 0, 0, 0, 0, 0, 15], [16, 0, 0, 0, 0, 0, 0, 15, 0, 0], [15, 16, 0, 0, 0, 0, 13, 14, 0, 0], [0, 0, 15, 0, 0, 0, 0, 0, 0, 0], [0, 0, 13, 16, 16, 0, 0, 0, 0, 0], [0, 0, 0, 0, 0, 0, 0, 0, 0, 13], [16, 16, 0, 0, 0, 0, 0, 0, 0, 0], [0, 16, 16, 0, 0, 0, 0, 0, 0, 0], [0, 0, 13, 0, 0, 13, 0, 0, 0, 0], [0, 0, 15, 0, 0, 15, 16, 0, 0, 0], [16, 16, 0, 0, 0, 0, 15, 0, 0, 0], [0, 0, 0, 0, 0, 0, 0, 16, 0, 0], [0, 0, 0, 0, 0, 0, 0, 0, 0, 16], [0, 0, 0, 0, 0, 15, 0, 0, 0, 15], [0, 0, 0, 0, 0, 0, 0, 0, 0, 0], [16, 0, 0, 0, 0, 0, 2, 0, 0, 0], [0, 0, 0, 0, 0, 0, 0, 0, 0, 0], [16, 0, 0, 0, 0, 0, 0, 13, 16, 0], [0, 15, 0, 0, 0, 0, 0, 0, 0, 0], [16, 16, 0, 0, 0, 0, 0, 15, 16, 0], [16, 0, 0, 16, 0, 13, 14, 0, 0, 0], [0, 0, 15, 0, 0, 0, 0, 0, 0, 0], [0, 0, 0, 0, 13, 14, 0, 0, 0, 0], [0, 15, 16, 15, 0, 0, 0, 0, 0, 0], [0, 0, 0, 0, 0, 0, 0, 13, 14, 0], [0, 0, 0, 0, 0, 0, 0, 15, 0, 0], [15, 0, 0, 0, 0, 0, 0, 0, 15, 16], [0, 0, 0, 0, 15, 0, 0, 0, 0, 13], [14, 0, 0, 0, 0, 0, 0, 0, 0, 0], [0, 0, 0, 0, 0, 15, 16, 15, 0, 0], [0, 0, 0, 0, 0, 0, 0, 15, 16, 0], [0, 0, 0, 0, 0, 0, 0, 0, 0, 0], [0, 0, 0, 0, 0, 13, 14, 0, 1, 2], [0, 0, 0, 0, 13, 0, 0, 0, 15, 16], [0, 0, 0, 0, 0, 0, 15, 0, 0, 15], [16, 0, 0, 2, 0, 0, 0, 16, 16, 0], [0, 0, 0, 10, 0, 0, 0, 0, 0, 0], [0, 13, 16, 16, 0, 0, 0, 0, 0, 0], [15, 16, 0, 0, 0, 15, 16, 0, 0, 0], [0, 0, 0, 0, 0, 0, 0, 0, 15, 0], [0, 15, 16, 0, 0, 0, 15, 0, 0, 0], [0, 0, 0, 0, 0, 0, 0, 0, 2, 0], [0, 2, 0, 0, 0, 15, 16, 0, 0, 15], [14, 14, 0, 1, 0, 0, 0, 0, 0, 1], [2, 0, 0, 0, 0, 15, 16, 0, 0, 0], [0, 0, 0, 0, 0, 15, 0, 0, 2, 0], [0, 0, 0, 0, 0, 0, 0, 0, 0, 0], [0, 0, 0, 0, 0, 0, 15, 16, 0, 0], [0, 0, 1, 2, 0, 0, 0, 0, 0, 0], [0, 0, 0, 0, 0, 0, 0, 0, 0, 0], [0, 0, 1, 2, 0, 0, 15, 0, 0, 0], [0, 0, 0, 0, 0, 2, 0, 0, 1, 2], [0, 0, 0, 0, 0, 0, 15, 0, 0, 0], [0, 0, 0, 0, 0, 1, 2, 0, 0, 0], [0, 0, 0, 0, 0, 0, 0, 0, 0, 15], [0, 0, 15, 16, 0, 15, 0, 0, 0, 1], [2, 0, 0, 0, 0, 0, 0, 0, 0, 0], [0, 15, 16, 0, 0, 15, 14, 14, 0, 1], [2, 0, 0, 0, 0, 0, 0, 2, 0, 0], [1, 2, 0, 0, 0, 0, 15, 0, 0, 0], [0, 0, 0, 0, 1, 2, 0, 0, 0, 0], [0, 1, 0, 0, 1, 2, 0, 0, 0, 0], [15, 0, 0, 0, 0, 0, 0, 0, 13, 14], [0, 0, 1, 2, 0, 0, 0, 1, 2, 0], [0, 0, 0, 0, 0, 0, 0, 0, 0, 15], [0, 0, 0, 0, 0, 0, 0, 0, 0, 0], [2, 0, 0, 15, 16, 0, 0, 0, 0, 0], [0, 0, 0, 0, 0, 15, 16, 0, 0, 0], [0, 0, 0, 0, 0, 0, 0, 0, 0, 0], [0, 0, 0, 15, 0, 0, 0, 0, 0, 14], [0, 0, 0, 0, 0, 0, 0, 0, 0, 0], [0, 0, 0, 0, 0, 0, 0, 0, 0, 0], [0, 0, 0, 0, 0, 0, 0, 0, 0, 0], [0, 0, 0, 0, 0, 1, 2, 0, 0, 15], [0, 0, 0, 0, 0, 15, 0, 0, 0, 0], [0, 0, 0, 0, 0, 0, 0, 0, 0, 0], [0, 0, 0, 0, 0, 0, 0, 0, 15, 0], [0, 1, 2, 0, 0, 0, 0, 0, 0, 0], [0, 0, 0, 0, 15, 0, 0, 0, 0, 0], [0, 0, 0, 0, 0, 0, 0, 0, 15, 16], [0, 0, 0, 0, 0, 0, 0, 0, 0, 0], [0, 15, 16, 0, 15, 16, 16, 0, 0, 0], [0, 0, 0, 0, 0, 0, 0, 0, 2, 0], [0, 0, 0, 0, 0, 0, 0, 0, 0, 0], [0, 0, 0, 0, 0, 0, 0, 0, 0, 0], [0, 15, 16, 0, 16, 0, 0, 0, 0, 0], [0, 15, 16, 0, 0, 0, 0, 0, 0, 0], [0, 0, 0, 0, 0, 0, 0, 0, 0, 0], [15, 16, 0, 0, 0, 0, 0, 0, 0, 0], [0, 0, 0, 0, 0, 0, 0, 0, 0, 13], [14, 14, 0, 0, 0, 0, 0, 0, 0, 13], [14, 0, 0, 0, 0, 0, 15, 0, 0, 0], [0, 0, 0, 0, 0, 0, 0, 0, 0, 0], [0, 0, 0, 0, 0, 0, 0, 0, 0]]\n"
          ]
        }
      ]
    },
    {
      "cell_type": "code",
      "source": [
        "total_data=len(tokens_array)"
      ],
      "metadata": {
        "id": "S3-6_NclTNXo"
      },
      "execution_count": 172,
      "outputs": []
    },
    {
      "cell_type": "code",
      "source": [
        "total_data"
      ],
      "metadata": {
        "colab": {
          "base_uri": "https://localhost:8080/"
        },
        "id": "XzWeAHomcBKy",
        "outputId": "9f8816a8-a033-4e91-c09c-7d76c19fcb2b"
      },
      "execution_count": 173,
      "outputs": [
        {
          "output_type": "execute_result",
          "data": {
            "text/plain": [
              "250"
            ]
          },
          "metadata": {},
          "execution_count": 173
        }
      ]
    },
    {
      "cell_type": "code",
      "source": [
        "data_dict_train = {\n",
        "    \"tokens\" : tokens_array[0:200],\n",
        "    \"labels\" : label_array[0:200]\n",
        "}\n",
        "\n",
        "data_dict_val = {\n",
        "    \"tokens\" : tokens_array[200:225],\n",
        "    \"labels\" : label_array[200:225]\n",
        "}\n",
        "\n",
        "data_dict_test = {\n",
        "    \"tokens\" : tokens_array[225:],\n",
        "    \"labels\" : label_array[225:]\n",
        "}\n",
        "\n",
        "dataset_train = Dataset.from_dict(data_dict_train)\n",
        "dataset_val = Dataset.from_dict(data_dict_val)\n",
        "dataset_test = Dataset.from_dict(data_dict_test)\n",
        "\n",
        "dataset_dict = DatasetDict({\"train\": dataset_train, \"validate\": dataset_val, \"test\": dataset_test})\n",
        "\n",
        "print(dataset_dict)"
      ],
      "metadata": {
        "colab": {
          "base_uri": "https://localhost:8080/"
        },
        "id": "Ygf_v3qrtJRE",
        "outputId": "b1dddb82-3e38-44af-c9d9-694a0d0ddf7d"
      },
      "execution_count": 174,
      "outputs": [
        {
          "output_type": "stream",
          "name": "stdout",
          "text": [
            "DatasetDict({\n",
            "    train: Dataset({\n",
            "        features: ['tokens', 'labels'],\n",
            "        num_rows: 200\n",
            "    })\n",
            "    validate: Dataset({\n",
            "        features: ['tokens', 'labels'],\n",
            "        num_rows: 25\n",
            "    })\n",
            "    test: Dataset({\n",
            "        features: ['tokens', 'labels'],\n",
            "        num_rows: 25\n",
            "    })\n",
            "})\n"
          ]
        }
      ]
    },
    {
      "cell_type": "code",
      "source": [
        "\n",
        "tokenizer = BertTokenizerFast.from_pretrained(\"bert-base-uncased\")"
      ],
      "metadata": {
        "id": "Fq62--lqz3Bx"
      },
      "execution_count": 175,
      "outputs": []
    },
    {
      "cell_type": "code",
      "source": [
        "inputs = tokenizer(dataset_dict[\"train\"][15][\"tokens\"], is_split_into_words=True,)\n",
        "tokens=tokenizer.convert_ids_to_tokens(inputs[\"input_ids\"])\n",
        "# print(tokens)\n",
        "print(inputs.word_ids())\n"
      ],
      "metadata": {
        "id": "STEXZZiDz4Ao",
        "colab": {
          "base_uri": "https://localhost:8080/"
        },
        "outputId": "cd8c7f58-a1f1-4797-a727-1a3a66bbc650"
      },
      "execution_count": 176,
      "outputs": [
        {
          "output_type": "stream",
          "name": "stdout",
          "text": [
            "[None, 0, 0, 0, 0, 0, 0, 1, 2, 3, 4, 5, 5, 6, 6, 7, 7, 8, 8, 8, 8, 9, 9, 9, None]\n"
          ]
        }
      ]
    },
    {
      "cell_type": "code",
      "source": [
        "inputs"
      ],
      "metadata": {
        "colab": {
          "base_uri": "https://localhost:8080/"
        },
        "id": "1G7W0_CG82L7",
        "outputId": "843c355d-9ba4-4ebf-92e9-55e47ace7985"
      },
      "execution_count": 177,
      "outputs": [
        {
          "output_type": "execute_result",
          "data": {
            "text/plain": [
              "{'input_ids': [101, 1002, 2753, 1010, 2199, 1010, 2199, 2004, 1997, 1996, 3058, 2182, 11253, 1006, 1996, 1000, 3007, 8426, 1000, 1007, 1010, 1999, 8159, 25107, 102], 'token_type_ids': [0, 0, 0, 0, 0, 0, 0, 0, 0, 0, 0, 0, 0, 0, 0, 0, 0, 0, 0, 0, 0, 0, 0, 0, 0], 'attention_mask': [1, 1, 1, 1, 1, 1, 1, 1, 1, 1, 1, 1, 1, 1, 1, 1, 1, 1, 1, 1, 1, 1, 1, 1, 1]}"
            ]
          },
          "metadata": {},
          "execution_count": 177
        }
      ]
    },
    {
      "cell_type": "code",
      "source": [
        "def align_labels_with_tokens(labels, word_ids):\n",
        "    for label in labels:\n",
        "        previous_word_idx = None\n",
        "        label_ids = []\n",
        "        for word_idx in word_ids:\n",
        "            if word_idx is None:\n",
        "                label_ids.append(-100)\n",
        "            elif word_idx != previous_word_idx:\n",
        "                label_ids.append(labels[word_idx])\n",
        "            else:\n",
        "                label_ids.append(labels[word_idx])\n",
        "            previous_word_idx = word_idx\n",
        "\n",
        "        return label_ids"
      ],
      "metadata": {
        "id": "6RQYvH26PWXC"
      },
      "execution_count": 178,
      "outputs": []
    },
    {
      "cell_type": "code",
      "source": [
        "labels = dataset_dict[\"train\"][11][\"labels\"]\n",
        "inputs = tokenizer(dataset_dict[\"train\"][11][\"tokens\"], is_split_into_words=True,)\n",
        "word_ids = inputs.word_ids()\n",
        "print(dataset_dict[\"train\"][11][\"tokens\"])\n",
        "print(align_labels_with_tokens(labels, word_ids))\n",
        "print(labels)"
      ],
      "metadata": {
        "colab": {
          "base_uri": "https://localhost:8080/"
        },
        "id": "zKJwzU_jUHHu",
        "outputId": "7510aeab-e84f-42c4-f756-45469709a033"
      },
      "execution_count": 179,
      "outputs": [
        {
          "output_type": "stream",
          "name": "stdout",
          "text": [
            "['Investor', 'and', 'the', 'Fund', 'dated', 'as', 'of', 'the', 'date', 'hereof']\n",
            "[-100, 15, 0, 0, 2, 0, 0, 0, 0, 0, 0, 0, -100]\n",
            "[15, 0, 0, 2, 0, 0, 0, 0, 0, 0]\n"
          ]
        }
      ]
    },
    {
      "cell_type": "code",
      "source": [
        "example_tokens = dataset_dict[\"train\"][11]\n",
        "inputs = tokenizer(example_tokens[\"tokens\"], is_split_into_words=True,)\n",
        "print(\"Miss Matched Length!!\")\n",
        "print(len(inputs.tokens()))\n",
        "print(len(example_tokens[\"labels\"]))\n",
        "print(\"Label matching successful!!\")\n",
        "print(len(align_labels_with_tokens(example_tokens[\"labels\"], inputs.word_ids())))\n"
      ],
      "metadata": {
        "colab": {
          "base_uri": "https://localhost:8080/"
        },
        "id": "m0gin5IHXmOp",
        "outputId": "a10eb613-6d97-46f9-a912-6085a36b5c18"
      },
      "execution_count": 180,
      "outputs": [
        {
          "output_type": "stream",
          "name": "stdout",
          "text": [
            "Miss Matched Length!!\n",
            "13\n",
            "10\n",
            "Label matching successful!!\n",
            "13\n"
          ]
        }
      ]
    },
    {
      "cell_type": "code",
      "source": [
        "def tokenizer_function(dataset):\n",
        "  tokenized_dataset = tokenizer(dataset['tokens'],truncation=True,is_split_into_words=True,)\n",
        "  tokenized_dataset['labels'] = align_labels_with_tokens(dataset['labels'],tokenized_dataset.word_ids())\n",
        "  return tokenized_dataset\n"
      ],
      "metadata": {
        "id": "lI7RMiHAUNYr"
      },
      "execution_count": 181,
      "outputs": []
    },
    {
      "cell_type": "code",
      "source": [
        "dataset_dict['train'][15]\n",
        "\n"
      ],
      "metadata": {
        "id": "yOnVVRZPV447",
        "colab": {
          "base_uri": "https://localhost:8080/"
        },
        "outputId": "675e73e8-1b54-4f41-c450-9a9c900f6af9"
      },
      "execution_count": 182,
      "outputs": [
        {
          "output_type": "execute_result",
          "data": {
            "text/plain": [
              "{'tokens': ['$50,000,000',\n",
              "  'as',\n",
              "  'of',\n",
              "  'the',\n",
              "  'date',\n",
              "  'hereof',\n",
              "  '(the',\n",
              "  '\"Capital',\n",
              "  'Commitment\"),',\n",
              "  'Inveniam'],\n",
              " 'labels': [0, 0, 0, 0, 0, 0, 0, 13, 0, 1]}"
            ]
          },
          "metadata": {},
          "execution_count": 182
        }
      ]
    },
    {
      "cell_type": "code",
      "source": [
        "# tokenized_dataset = data_dataset.map(tokenizer_function, remove_columns=['tokens'])\n",
        "type(dataset_dict)"
      ],
      "metadata": {
        "colab": {
          "base_uri": "https://localhost:8080/"
        },
        "id": "oH6GspviWC_Q",
        "outputId": "0a7c0218-64c8-4814-f3d1-87ad552b09dc"
      },
      "execution_count": 183,
      "outputs": [
        {
          "output_type": "execute_result",
          "data": {
            "text/plain": [
              "datasets.dataset_dict.DatasetDict"
            ]
          },
          "metadata": {},
          "execution_count": 183
        }
      ]
    },
    {
      "cell_type": "code",
      "source": [
        "dataset_dict[\"train\"].features[\"tokens\"]"
      ],
      "metadata": {
        "id": "A249s1ioWVr1",
        "colab": {
          "base_uri": "https://localhost:8080/"
        },
        "outputId": "9802eadd-9bf7-461e-e939-70c5d484068c"
      },
      "execution_count": 184,
      "outputs": [
        {
          "output_type": "execute_result",
          "data": {
            "text/plain": [
              "Sequence(feature=Value(dtype='string', id=None), length=-1, id=None)"
            ]
          },
          "metadata": {},
          "execution_count": 184
        }
      ]
    },
    {
      "cell_type": "code",
      "source": [
        "dataset_dict['train'].description\n"
      ],
      "metadata": {
        "colab": {
          "base_uri": "https://localhost:8080/",
          "height": 35
        },
        "id": "JVAP4di33Mhy",
        "outputId": "406738c8-d5db-441c-b2a2-b2aefb5fa683"
      },
      "execution_count": 185,
      "outputs": [
        {
          "output_type": "execute_result",
          "data": {
            "text/plain": [
              "''"
            ],
            "application/vnd.google.colaboratory.intrinsic+json": {
              "type": "string"
            }
          },
          "metadata": {},
          "execution_count": 185
        }
      ]
    },
    {
      "cell_type": "code",
      "source": [
        "\n",
        "tokenized_dataset = dataset_dict.map(tokenizer_function, remove_columns=['tokens'])"
      ],
      "metadata": {
        "colab": {
          "base_uri": "https://localhost:8080/",
          "height": 17,
          "referenced_widgets": [
            "85fea5d11ff04ca781beff962572db21",
            "5414c967a3284ab08b527ab316fb785e",
            "f53129bf34454077beefb6345635e4d2",
            "a8d3c9d2939c4430a7d249930e6a71b6",
            "f4533af8d39f444694d69c2b58f0a02e",
            "f0073625490b41f09e32254a0688ae69",
            "e905c05d885b46adab763f3b63f59e57",
            "19e008c6283d4d01a811d5a012d081f0",
            "56f5591f4e894ed2843d1ee052f1a951",
            "1826f1119bb9477580f19b2886964e86",
            "d877ea449f7c40a1a813790d4b84d6a5",
            "9c234197d6e94f19bfb3423d30e8a430",
            "1f08e0b2afc640ad8c304714927ab73c",
            "34203a43267940648ac60f347a72bd37",
            "005fdd7eb5f34973858ffc982f2dc56f",
            "7fc818ba032343dda733e700c3eb1bd1",
            "19e19129f7df45d8bf81a82477c6d367",
            "87ae818a44a548138d477dc35e82050e",
            "fd50df762d7a48be8cb112fdebfa9e48",
            "283da63a479f444ca3a919f70d536a75",
            "1857166bd360447b8bfaa8f6467fb8e3",
            "0f6ffc3a6e114f7d815db18cc49e4f2c",
            "75794a287fe4453689325bbe574ca5d2",
            "7388032c7ed9470ba4319cedc870722b",
            "b4dc67e258fe40b99eab919bb440b6c8",
            "719894d0d7f14ecaad89acdd3af5d973",
            "36daccff5dc642f3a858331cc4355bce",
            "08748a28d5534db58914ebbde35aa6e3",
            "7e0202413dc8438f96c462ab3a7fce40",
            "b38ce71262844eb3bdfd87126f461594",
            "be542914567e4c2fbe7c94eb221f0615",
            "4f2b34f12aea4198ae750ccf7d1e11c0",
            "433b96c319fe4f15aaebf7cb2aa0492a"
          ]
        },
        "id": "FlwIGHvV3ANq",
        "outputId": "ece1cb66-420c-4683-9332-d66946bd87cb"
      },
      "execution_count": 186,
      "outputs": [
        {
          "output_type": "display_data",
          "data": {
            "text/plain": [
              "Map:   0%|          | 0/200 [00:00<?, ? examples/s]"
            ],
            "application/vnd.jupyter.widget-view+json": {
              "version_major": 2,
              "version_minor": 0,
              "model_id": "85fea5d11ff04ca781beff962572db21"
            }
          },
          "metadata": {}
        },
        {
          "output_type": "display_data",
          "data": {
            "text/plain": [
              "Map:   0%|          | 0/25 [00:00<?, ? examples/s]"
            ],
            "application/vnd.jupyter.widget-view+json": {
              "version_major": 2,
              "version_minor": 0,
              "model_id": "9c234197d6e94f19bfb3423d30e8a430"
            }
          },
          "metadata": {}
        },
        {
          "output_type": "display_data",
          "data": {
            "text/plain": [
              "Map:   0%|          | 0/25 [00:00<?, ? examples/s]"
            ],
            "application/vnd.jupyter.widget-view+json": {
              "version_major": 2,
              "version_minor": 0,
              "model_id": "75794a287fe4453689325bbe574ca5d2"
            }
          },
          "metadata": {}
        }
      ]
    },
    {
      "cell_type": "code",
      "source": [
        "model = AutoModelForTokenClassification.from_pretrained(\"bert-base-uncased\", num_labels=17)"
      ],
      "metadata": {
        "colab": {
          "base_uri": "https://localhost:8080/"
        },
        "id": "qcANwaVeXT3J",
        "outputId": "4f580a1f-6925-483a-9403-8bba010b626d"
      },
      "execution_count": 187,
      "outputs": [
        {
          "output_type": "stream",
          "name": "stderr",
          "text": [
            "Some weights of the model checkpoint at bert-base-uncased were not used when initializing BertForTokenClassification: ['cls.predictions.transform.dense.weight', 'cls.seq_relationship.weight', 'cls.predictions.transform.LayerNorm.bias', 'cls.seq_relationship.bias', 'cls.predictions.bias', 'cls.predictions.transform.dense.bias', 'cls.predictions.transform.LayerNorm.weight']\n",
            "- This IS expected if you are initializing BertForTokenClassification from the checkpoint of a model trained on another task or with another architecture (e.g. initializing a BertForSequenceClassification model from a BertForPreTraining model).\n",
            "- This IS NOT expected if you are initializing BertForTokenClassification from the checkpoint of a model that you expect to be exactly identical (initializing a BertForSequenceClassification model from a BertForSequenceClassification model).\n",
            "Some weights of BertForTokenClassification were not initialized from the model checkpoint at bert-base-uncased and are newly initialized: ['classifier.weight', 'classifier.bias']\n",
            "You should probably TRAIN this model on a down-stream task to be able to use it for predictions and inference.\n"
          ]
        }
      ]
    },
    {
      "cell_type": "code",
      "source": [
        "args = TrainingArguments(\n",
        "    \"test-ner\",\n",
        "    evaluation_strategy = \"epoch\",\n",
        "    learning_rate=2e-5,\n",
        "    per_device_train_batch_size=10,\n",
        "    per_device_eval_batch_size=10,\n",
        "    num_train_epochs=5,\n",
        "    weight_decay=0.01,\n",
        ")"
      ],
      "metadata": {
        "id": "x3PbZDwZaaH4"
      },
      "execution_count": 188,
      "outputs": []
    },
    {
      "cell_type": "code",
      "source": [
        "data_collator = DataCollatorForTokenClassification(tokenizer)"
      ],
      "metadata": {
        "id": "G6tkB5OBadz3"
      },
      "execution_count": 189,
      "outputs": []
    },
    {
      "cell_type": "code",
      "source": [
        "trainer = Trainer(\n",
        "    model,\n",
        "    args,\n",
        "   train_dataset=tokenized_dataset[\"train\"],\n",
        "   eval_dataset=tokenized_dataset[\"validate\"],\n",
        "   data_collator=data_collator,\n",
        "   tokenizer=tokenizer,\n",
        ")"
      ],
      "metadata": {
        "id": "-t73ZvSRa292"
      },
      "execution_count": 190,
      "outputs": []
    },
    {
      "cell_type": "code",
      "source": [
        "model.save_pretrained(\"name_entity_model\")"
      ],
      "metadata": {
        "id": "GS1Tgm8Ma7FI"
      },
      "execution_count": 191,
      "outputs": []
    },
    {
      "cell_type": "code",
      "source": [
        "tokenizer.save_pretrained(\"tokenizer\")"
      ],
      "metadata": {
        "colab": {
          "base_uri": "https://localhost:8080/"
        },
        "id": "9wQ8Q4UQbGTY",
        "outputId": "a0db63ea-943d-4a47-cc8c-b8c61026717e"
      },
      "execution_count": 192,
      "outputs": [
        {
          "output_type": "execute_result",
          "data": {
            "text/plain": [
              "('tokenizer/tokenizer_config.json',\n",
              " 'tokenizer/special_tokens_map.json',\n",
              " 'tokenizer/vocab.txt',\n",
              " 'tokenizer/added_tokens.json',\n",
              " 'tokenizer/tokenizer.json')"
            ]
          },
          "metadata": {},
          "execution_count": 192
        }
      ]
    },
    {
      "cell_type": "code",
      "source": [
        "classes"
      ],
      "metadata": {
        "colab": {
          "base_uri": "https://localhost:8080/"
        },
        "id": "afKEk75lbKPy",
        "outputId": "310b3a2f-64d1-4e1f-b195-7640b7f7f9db"
      },
      "execution_count": 193,
      "outputs": [
        {
          "output_type": "execute_result",
          "data": {
            "text/plain": [
              "['NONE',\n",
              " 'B-ORG',\n",
              " 'I-ORG',\n",
              " 'B-DATE',\n",
              " 'I-DATE',\n",
              " 'B-TIME',\n",
              " 'I-TIME',\n",
              " 'B-PER',\n",
              " 'I-PER',\n",
              " 'B-CURR',\n",
              " 'I-CURR',\n",
              " 'B-LOC',\n",
              " 'I-LOC',\n",
              " 'B-AGRE',\n",
              " 'I-AGRE',\n",
              " 'B-MISC',\n",
              " 'I-MISC']"
            ]
          },
          "metadata": {},
          "execution_count": 193
        }
      ]
    },
    {
      "cell_type": "code",
      "source": [
        "id2label = {\n",
        "    str(i): label for i,label in enumerate(classes)\n",
        "}\n",
        "label2id = {\n",
        "    label: str(i) for i,label in enumerate(classes)\n",
        "}"
      ],
      "metadata": {
        "id": "DhCFA_sqbT97"
      },
      "execution_count": 194,
      "outputs": []
    },
    {
      "cell_type": "code",
      "source": [
        "\n",
        "id2label\n",
        "\n"
      ],
      "metadata": {
        "colab": {
          "base_uri": "https://localhost:8080/"
        },
        "id": "RNinjtoSbXRq",
        "outputId": "57987d93-7894-4bfc-bae1-ab572fcd77c9"
      },
      "execution_count": 195,
      "outputs": [
        {
          "output_type": "execute_result",
          "data": {
            "text/plain": [
              "{'0': 'NONE',\n",
              " '1': 'B-ORG',\n",
              " '2': 'I-ORG',\n",
              " '3': 'B-DATE',\n",
              " '4': 'I-DATE',\n",
              " '5': 'B-TIME',\n",
              " '6': 'I-TIME',\n",
              " '7': 'B-PER',\n",
              " '8': 'I-PER',\n",
              " '9': 'B-CURR',\n",
              " '10': 'I-CURR',\n",
              " '11': 'B-LOC',\n",
              " '12': 'I-LOC',\n",
              " '13': 'B-AGRE',\n",
              " '14': 'I-AGRE',\n",
              " '15': 'B-MISC',\n",
              " '16': 'I-MISC'}"
            ]
          },
          "metadata": {},
          "execution_count": 195
        }
      ]
    },
    {
      "cell_type": "code",
      "source": [
        "import json\n",
        "config = json.load(open(\"name_entity_model/config.json\"))\n"
      ],
      "metadata": {
        "id": "XsJTO9ztbaNm"
      },
      "execution_count": 196,
      "outputs": []
    },
    {
      "cell_type": "code",
      "source": [
        "config[\"id2label\"] = id2label\n",
        "config[\"label2id\"] = label2id\n"
      ],
      "metadata": {
        "id": "xxc0jqNTbgjT"
      },
      "execution_count": 197,
      "outputs": []
    },
    {
      "cell_type": "code",
      "source": [
        "json.dump(config, open(\"name_entity_model/config.json\",\"w\"))"
      ],
      "metadata": {
        "id": "2DLTjW5Ybi4K"
      },
      "execution_count": 198,
      "outputs": []
    },
    {
      "cell_type": "code",
      "source": [
        "model_fine_tuned = AutoModelForTokenClassification.from_pretrained(\"name_entity_model\")"
      ],
      "metadata": {
        "id": "3Cksq339brjk"
      },
      "execution_count": 199,
      "outputs": []
    },
    {
      "cell_type": "code",
      "source": [
        "nlp = pipeline(\"ner\", model=model_fine_tuned, tokenizer=tokenizer)\n",
        "\n",
        "example = '''I'm Abhishek Ray employee of Vara Infrovate Pvt Ltd working as a  junior Associate from 10 july 2023'''\n",
        "\n",
        "ner_results = nlp(example)\n",
        "\n",
        "print(ner_results)"
      ],
      "metadata": {
        "colab": {
          "base_uri": "https://localhost:8080/"
        },
        "id": "T-1AsQ3Qbz_e",
        "outputId": "575288af-8440-4a72-fe60-f327527c744e"
      },
      "execution_count": 200,
      "outputs": [
        {
          "output_type": "stream",
          "name": "stdout",
          "text": [
            "[{'entity': 'I-PER', 'score': 0.08692419, 'index': 1, 'word': 'i', 'start': 0, 'end': 1}, {'entity': 'B-CURR', 'score': 0.07575783, 'index': 2, 'word': \"'\", 'start': 1, 'end': 2}, {'entity': 'B-MISC', 'score': 0.11683419, 'index': 3, 'word': 'm', 'start': 2, 'end': 3}, {'entity': 'I-TIME', 'score': 0.088485666, 'index': 4, 'word': 'ab', 'start': 4, 'end': 6}, {'entity': 'B-PER', 'score': 0.091399714, 'index': 5, 'word': '##his', 'start': 6, 'end': 9}, {'entity': 'B-MISC', 'score': 0.10221719, 'index': 6, 'word': '##he', 'start': 9, 'end': 11}, {'entity': 'I-TIME', 'score': 0.095157586, 'index': 7, 'word': '##k', 'start': 11, 'end': 12}, {'entity': 'I-TIME', 'score': 0.09758566, 'index': 8, 'word': 'ray', 'start': 13, 'end': 16}, {'entity': 'B-ORG', 'score': 0.08936738, 'index': 9, 'word': 'employee', 'start': 17, 'end': 25}, {'entity': 'B-ORG', 'score': 0.12706904, 'index': 10, 'word': 'of', 'start': 26, 'end': 28}, {'entity': 'B-ORG', 'score': 0.10845241, 'index': 11, 'word': 'var', 'start': 29, 'end': 32}, {'entity': 'B-ORG', 'score': 0.10074424, 'index': 12, 'word': '##a', 'start': 32, 'end': 33}, {'entity': 'B-ORG', 'score': 0.097282976, 'index': 13, 'word': 'in', 'start': 34, 'end': 36}, {'entity': 'I-CURR', 'score': 0.10148092, 'index': 14, 'word': '##fr', 'start': 36, 'end': 38}, {'entity': 'I-PER', 'score': 0.077232435, 'index': 15, 'word': '##ova', 'start': 38, 'end': 41}, {'entity': 'B-ORG', 'score': 0.10828471, 'index': 16, 'word': '##te', 'start': 41, 'end': 43}, {'entity': 'B-ORG', 'score': 0.11736285, 'index': 17, 'word': 'pv', 'start': 44, 'end': 46}, {'entity': 'B-CURR', 'score': 0.12028796, 'index': 18, 'word': '##t', 'start': 46, 'end': 47}, {'entity': 'B-ORG', 'score': 0.11887072, 'index': 19, 'word': 'ltd', 'start': 48, 'end': 51}, {'entity': 'I-CURR', 'score': 0.10674817, 'index': 20, 'word': 'working', 'start': 52, 'end': 59}, {'entity': 'B-ORG', 'score': 0.10709214, 'index': 21, 'word': 'as', 'start': 60, 'end': 62}, {'entity': 'NONE', 'score': 0.0911257, 'index': 22, 'word': 'a', 'start': 63, 'end': 64}, {'entity': 'B-ORG', 'score': 0.092999436, 'index': 23, 'word': 'junior', 'start': 66, 'end': 72}, {'entity': 'I-MISC', 'score': 0.085584514, 'index': 24, 'word': 'associate', 'start': 73, 'end': 82}, {'entity': 'I-CURR', 'score': 0.092985, 'index': 25, 'word': 'from', 'start': 83, 'end': 87}, {'entity': 'NONE', 'score': 0.12833592, 'index': 26, 'word': '10', 'start': 88, 'end': 90}, {'entity': 'NONE', 'score': 0.13750917, 'index': 27, 'word': 'july', 'start': 91, 'end': 95}, {'entity': 'I-TIME', 'score': 0.09969306, 'index': 28, 'word': '202', 'start': 96, 'end': 99}, {'entity': 'I-LOC', 'score': 0.104248755, 'index': 29, 'word': '##3', 'start': 99, 'end': 100}]\n"
          ]
        }
      ]
    },
    {
      "cell_type": "code",
      "source": [],
      "metadata": {
        "id": "L15bkNs_b_oG"
      },
      "execution_count": null,
      "outputs": []
    }
  ]
}